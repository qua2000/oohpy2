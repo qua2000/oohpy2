{
  "nbformat": 4,
  "nbformat_minor": 0,
  "metadata": {
    "colab": {
      "name": "OoH!Py Python for Kids   Vol.2",
      "provenance": [],
      "collapsed_sections": [],
      "toc_visible": true,
      "authorship_tag": "ABX9TyNC6xx31oBZpeRqphUUw5oD",
      "include_colab_link": true
    },
    "kernelspec": {
      "name": "python3",
      "display_name": "Python 3"
    },
    "language_info": {
      "name": "python"
    }
  },
  "cells": [
    {
      "cell_type": "markdown",
      "metadata": {
        "id": "view-in-github",
        "colab_type": "text"
      },
      "source": [
        "<a href=\"https://colab.research.google.com/github/qua2000/oohpy2/blob/main/OoH!Py_Python_for_Kids_Vol_2.ipynb\" target=\"_parent\"><img src=\"https://colab.research.google.com/assets/colab-badge.svg\" alt=\"Open In Colab\"/></a>"
      ]
    },
    {
      "cell_type": "markdown",
      "source": [
        "#***OoH!Py*** \n",
        "#**Python for Kids! Vol.2**\n",
        "\n",
        "\n"
      ],
      "metadata": {
        "id": "BxArDEcVX8_R"
      }
    },
    {
      "cell_type": "code",
      "execution_count": null,
      "metadata": {
        "cellView": "both",
        "colab": {
          "height": 39,
          "base_uri": "https://localhost:8080/"
        },
        "id": "odfM-_GxWbCy",
        "outputId": "f28d0f0e-e5ef-4bd6-b52a-08595c47c5e7"
      },
      "outputs": [
        {
          "output_type": "display_data",
          "data": {
            "text/plain": [
              "<IPython.core.display.HTML object>"
            ],
            "text/html": [
              "<marquee style='width: 80%; color: white;'><b>Welcome to OoH!Py</b></marquee>"
            ]
          },
          "metadata": {}
        }
      ],
      "source": [
        "%%html\n",
        "<marquee style='width: 80%; color: white;'><b>Welcome to OoH!Py</b></marquee>"
      ]
    },
    {
      "cell_type": "markdown",
      "source": [
        "#Foreword\n",
        "\n",
        "\n",
        "Hello everyone.\n",
        "\n",
        "\\\n",
        "This is Vol.2 of OoH!Py Python for Kids.\n",
        "\n",
        "\\\n",
        "Please visit Vol.1 first. ----> [![Open In Colab](https://colab.research.google.com/assets/colab-badge.svg)](https://colab.research.google.com/drive/1YrP2S-kpEKzaham3d4s7mq0Rsf0qUP7h#scrollTo=d6fDtCrhLWyx)\n",
        "\n",
        "\\\n",
        "I could publish Vol.2 before being ready for the junior high school exam.\n",
        "\n",
        "\\\n",
        "Hope you enjoying Vol.2 as well.\n",
        "\n",
        "\n",
        "\\\n",
        "For more details on Colab please refer to \n",
        "\n",
        "→[Welcome to Colaboratory](https://colab.research.google.com/?utm_source=scs-index&hl=en)\n",
        "\n",
        "and \n",
        "\n",
        "[Overview of Colaboratory Features](https://colab.research.google.com/notebooks/basic_features_overview.ipynb)\n",
        "\n",
        "\\\n",
        "As for Python, you may learn more at\n",
        "\n",
        "[Python basics](https://colab.research.google.com/github/data-psl/lectures2020/blob/master/notebooks/01_python_basics.ipynb)\n",
        "\n",
        "or\n",
        "\n",
        "[The Python Tutorial](https://docs.python.org/3/tutorial/index.html)\n",
        "\n",
        "\n"
      ],
      "metadata": {
        "id": "bCpBNHNbPPp6"
      }
    },
    {
      "cell_type": "markdown",
      "source": [
        "#Summary of operators, etc."
      ],
      "metadata": {
        "id": "FCw8VAP2SDve"
      }
    },
    {
      "cell_type": "markdown",
      "metadata": {
        "id": "_bie06UZSZh9"
      },
      "source": [
        "\n",
        "★ Arithmetic operator \n",
        "\n",
        "\\\n",
        "\n",
        "| Arithmetic | Symbol |\n",
        "|:------:|:------:|\n",
        "| Addition | `+` |\n",
        "| Subtraction | `-` |\n",
        "| Multiplication | `*` |\n",
        "| Division | `/` |\n",
        "|Exponentiation | `**` |  \n",
        "| Division (quotient only) | `//` |\n",
        "| Division (remainder only) | `%` |\n",
        "\n",
        "\\\n",
        "\n"
      ]
    },
    {
      "cell_type": "markdown",
      "metadata": {
        "id": "BblwCzDFkqD1"
      },
      "source": [
        "\n",
        "★ Assignment operator\n",
        "\n",
        "\\\n",
        "\n",
        "Here, it is called `Assignment operator`\n",
        "\n",
        "which add, subtract, multiply, divide the number in the variable, and put the result back in the variable.\n",
        "\n",
        "\n",
        "\\\n",
        "`=` Is also an assignment operator, and the operation is \"assign\".\n",
        "\n",
        "\n",
        "\\\n",
        "Add and substitute: `sum = sum + x` → `sum + = x` \n",
        "\n",
        "Multiply and assign: `product = product * x` →` product * = x`\n",
        "\n",
        "\\\n",
        "\n",
        "| Arithmetic | Symbol |\n",
        "|:------:|:------:|\n",
        "| Addition and assign | `+=` |\n",
        "| Subtract and assign | `-=` |\n",
        "| Multiply and assign | `*=` |\n",
        "| Divide and assign | `/=` |\n",
        "\n",
        "\\\n",
        "\n",
        "\n"
      ]
    },
    {
      "cell_type": "markdown",
      "metadata": {
        "id": "Mh1iNHejTnQM"
      },
      "source": [
        "\n",
        "★ Comparison operator\n",
        "\n",
        "\\\n",
        "\n",
        "| Meaning | Operator |\n",
        "|:------:|:------:|\n",
        "| Equal | `==` |\n",
        "| Not equal | `! =` |\n",
        "| Less than | `<` |\n",
        "| Equal or less than | `<=` |\n",
        "|Greater than | `>` |\n",
        "| Equal or greater than | `> =` |\n",
        "| It is an element | `in` |\n",
        "| Not an element | `not in` |\n",
        "\n",
        "\\"
      ]
    },
    {
      "cell_type": "markdown",
      "source": [
        "---\n",
        "Check it out\n",
        "\n",
        "When a computer reads a program and moves (calculates), there are only three ways for move.\n",
        "\n",
        "Computer is such a simple machine.\n",
        "\n",
        "\\\n",
        "(1) Read programs in order (from top to bottom sequently) \n",
        "\n",
        "\\\n",
        "(2) Move repeatedly\n",
        "\n",
        "\\\n",
        "(3) Movements are classified according to conditions (conditional branching / → case classification)\n",
        "\n",
        "\\\n",
        "(2) is `for statement` and (3) is `if statement`.\n"
      ],
      "metadata": {
        "id": "EWExnj6HUATS"
      }
    },
    {
      "cell_type": "markdown",
      "source": [
        "★ Check it Out Part 2\n",
        "\n",
        "\n",
        "\\\n",
        "Arithmetic problems can be almost solved if you can read the problem sentences \n",
        "\n",
        "accurately and organize the conditions written in the problem sentences \n",
        "\n",
        "so that you can easily understand problems.\n",
        "\n",
        "\n",
        "\\\n",
        "It is important to interpret the problem accurately and organize the conditions.\n",
        "\n",
        "\n",
        "\\\n",
        "The same is true for Python, so if you can organize data such as numbers and \n",
        "\n",
        "string/characters (informations), you can create a program.\n",
        "\n",
        "\n",
        "\\\n",
        "It's important to think about how to organize your data.\n",
        "\n",
        "\n",
        "\\\n",
        "Code-writing techniques can be learned soon if you have the basics.\n",
        "\n",
        "\n",
        "\\\n",
        "Develop` think power (basics)` now\n"
      ],
      "metadata": {
        "id": "9gw5NdedULgs"
      }
    },
    {
      "cell_type": "markdown",
      "source": [
        "---\n",
        "### Built-in functions\n"
      ],
      "metadata": {
        "id": "5RR1QsWKhMYo"
      }
    },
    {
      "cell_type": "markdown",
      "metadata": {
        "id": "kx94VaY99IhH"
      },
      "source": [
        "ーーーーーーーーーーーーーーーーーーーーーーーーーーーーーーーーーーーーーーー\n",
        "\n",
        "\n",
        "Frequently used `print()` is called `print function`\n",
        "\n",
        "\n",
        "\\\n",
        "\n",
        "A `function` is a program that performs a fixed operation.\n",
        "\n",
        "\n",
        "\\\n",
        "`print()`, `input()`, `int()`, `float()`, etc. are all functions.\n",
        "\n",
        "\n",
        "\\\n",
        "They are `built-in function`.\n",
        "\n",
        "\n",
        "\\\n",
        "It's literally a built-in function in Python that you can use without `import`.\n",
        "\n",
        "\n",
        "\n",
        "\\\n",
        "\n",
        "For example, `print()` is actually a program consisting of dozens of lines, \n",
        "\n",
        "so if you write it every time you use it, you will die.\n",
        "\n",
        "\n",
        "\\\n",
        "If you make it a function, it will be OK with just the code `print()`\n",
        "\n"
      ]
    },
    {
      "cell_type": "markdown",
      "metadata": {
        "id": "g_DYTJ3f84qw"
      },
      "source": [
        "---\n",
        "Q?\n",
        "\n",
        "In the numbers less than 100, find 10 numbers from the smallest that are \n",
        "\n",
        "divisible by 3 but not divisible by 5.\n"
      ]
    },
    {
      "cell_type": "markdown",
      "source": [
        "ーーーーーーーーーーーーーーーーーーーーーーーーーーーーーーーーーーーーーーーーー\n",
        "\n",
        "\n",
        "[ Arithmetic solution ]\n",
        "\n",
        "\n",
        "\n",
        "\"A number that is divisible by 3 but not divisible by 5\" appears periodically\n",
        "\n",
        "with the least common multiple of 3 and 5 as one cycle.\n",
        "\n",
        "\n",
        "\n",
        "\\\n",
        "\n",
        "If you look at the numbers that apply the condition from 1 to 15, \n",
        "\n",
        "there are `3`, `6`, `9`, `12`.\n",
        "\n",
        "\n",
        "\\\n",
        "In one cycle from 15 to 30, the above four numbers plus 15 are \n",
        "\n",
        "`18`, `21`, `24`, `27` which are also applicable.\n",
        "\n",
        "\n",
        "\\\n",
        "The other two numbers are 18 + 15 = `33` and 21 + 15 = `36` among 31 to 45.\n",
        "\n",
        "\n",
        "\\\n",
        "The above 10 are (answers)\n",
        "\n",
        "\n",
        "\n",
        "\\\n",
        "\n",
        "[ Python ]\n",
        "\n",
        "\n",
        "\n",
        "Set the `count` variable to 0 first that counts up to 10.\n",
        "\n",
        "\n",
        "\n",
        "\\\n",
        "\n",
        "Take out the numbers (data) from 1 to 99 in order and check if they apply or not.\n",
        "\n",
        "\n",
        "\n",
        "\\\n",
        "\n",
        "\"Dividable by 3 but not divisible by 5\" is `x% 3 == 0 and x% 5! = 0`\n",
        "\n",
        "\n",
        "\\\n",
        "Output the applicable number `print(x, end = ', '` and `count + = 1`\n",
        "\n",
        "\n",
        "\n",
        "\\\n",
        "\n",
        "In addition, add a conditional process that says \n",
        "\n",
        "\"interrupt/suspend `for loop`when count reaches 10\".\n",
        "\n",
        "```\n",
        "if count == 10:\n",
        "break\n",
        "```\n",
        "\n",
        "Note the indentation of `if loop`\n",
        "\n"
      ],
      "metadata": {
        "id": "OWmRagokC9B7"
      }
    },
    {
      "cell_type": "code",
      "source": [
        ""
      ],
      "metadata": {
        "id": "M3sNbHMND-oF"
      },
      "execution_count": null,
      "outputs": []
    },
    {
      "cell_type": "code",
      "metadata": {
        "id": "_Qob7aCCD_Lp"
      },
      "source": [
        "#Sanple\n",
        "\n",
        "count = 0\n",
        "\n",
        "for x in range(100):\n",
        "  if x % 3 == 0 and x % 5 != 0:\n",
        "    print(x, end = ', ')\n",
        "    count += 1\n",
        "    if count == 10:\n",
        "      break\n",
        "  "
      ],
      "execution_count": null,
      "outputs": []
    },
    {
      "cell_type": "markdown",
      "metadata": {
        "id": "KQjcTQZu84qx"
      },
      "source": [
        "---\n",
        "Q?\n",
        "\n",
        "Calculate the sum of numbers from 0 to 99 that are not multiples of 3\n",
        "\n"
      ]
    },
    {
      "cell_type": "markdown",
      "source": [
        "ーーーーーーーーーーーーーーーーーーーーーーーーーーーーーーーーーーーーーーーーー\n",
        "\n",
        "\n",
        "[ Arithmetic solution ]\n",
        "\n",
        "\n",
        "\n",
        "The number of numbers from 0 to 99 that are not multiples of 3 is $ 99 \\times  \\dfrac {2} {3} = 66 $\n",
        "\n",
        "\n",
        "\\\n",
        "Except for 0, the smallest number is 1 and the largest number is 98.\n",
        "\n",
        "\n",
        "\\\n",
        "The sum is $ (1 + 98) \\times 66 \\div 2 = 3267 $ ... (answer)\n",
        "\n",
        "\n",
        "\n",
        "\\\n",
        "\n",
        "[ Python ]\n",
        "\n",
        "\n",
        "\n",
        "Set the sum `total` variable to 0.\n",
        "\n",
        "\n",
        "\\\n",
        "Retrieve the number(data) from 0 to 99 in order \n",
        "\n",
        "and add the applicable numbers to `total`.\n",
        "\n",
        "\n"
      ],
      "metadata": {
        "id": "xclwXw9mIW6X"
      }
    },
    {
      "cell_type": "code",
      "source": [
        ""
      ],
      "metadata": {
        "id": "GGi-_g17KU-d"
      },
      "execution_count": null,
      "outputs": []
    },
    {
      "cell_type": "code",
      "metadata": {
        "id": "SDZ4Nl1gKVmH"
      },
      "source": [
        "#sample\n",
        "\n",
        "total = 0\n",
        "\n",
        "for i in range(0, 100):\n",
        "  if i % 3 != 0:\n",
        "    total += i\n",
        "    #print(total, end =', ')   #  For observing changes in total\n",
        "\n",
        "print(total, '・・・(Answer)') \n"
      ],
      "execution_count": null,
      "outputs": []
    },
    {
      "cell_type": "markdown",
      "metadata": {
        "id": "sxTdGyco9DS5"
      },
      "source": [
        "---\n",
        "Q?\n",
        "\n",
        "\n",
        "I bought 10 apples for 160 yen each and melons for 240 yen each \n",
        "\n",
        "and the total price was 1840 yen.\n",
        "\n",
        "\n",
        "\\\n",
        "Find how many I bought each.\n",
        "\n"
      ]
    },
    {
      "cell_type": "markdown",
      "source": [
        "ーーーーーーーーーーーーーーーーーーーーーーーーーーーーーーーーーーーーーーーーー\n",
        "\n",
        "\n",
        "[ Arithmetic solution ]\n",
        "\n",
        "\n",
        "\n",
        "This will be solved by equation.\n",
        "\n",
        "\n",
        "\n",
        "\\\n",
        "\n",
        "Assuming that you bought x pieces of apples and y pieces of melons, \n",
        "\n",
        "you can express the problem statement in the formula below.\n",
        "\n",
        "\n",
        "\\\n",
        "x + y ＝ 10 ・・・(1)\n",
        "\n",
        "\n",
        "\n",
        "160 $\\times$ x ＋ 240 $\\times$ y ＝ 1840\n",
        "\n",
        "\n",
        "\n",
        "\\\n",
        "\n",
        "If both sides of the equation are divided by 80\n",
        "\n",
        "\n",
        "\\\n",
        "2 $\\times$ x ＋ 3 $\\times$ y ＝ 23 ・・・(2)\n",
        "\n",
        "\n",
        "According to the calculation (2) - (1) $\\times$ 2,\n",
        "\n",
        "we find y = 3.・ ・ ・ (answer)\n",
        "\n",
        "\\\n",
        "x = 10 - 3 = 7・ ・ ・ (answer)\n",
        "\n",
        "\n",
        "\n",
        "\\\n",
        "\n",
        "[ Python ]\n",
        "\n",
        "\n",
        "\n",
        "If you buy x apples and y melons, each of them is within 10.\n",
        "\n",
        "\n",
        "\\\n",
        "(More accurately, 1840 $\\div$ 240 = 7… 160, so y can be up to 7)\n",
        "\n",
        "\n",
        "\n",
        "\\\n",
        "\n",
        "When considering all combinations in the range of 1 to 10 for both x and y\n",
        "\n",
        "```\n",
        "for x in range(1, 11):\n",
        "  for y in range(1, 11):\n",
        "\n",
        "```\n",
        "\n",
        "\n",
        "If you make a double loop of for as above, \n",
        "\n",
        "you can make all combinations of x and y.\n",
        "\n",
        "\n",
        "\n",
        "\\\n",
        "\n",
        "As a condition\n",
        "\n",
        "\n",
        "```\n",
        "      if x + y == 10 and 160 * x + 240 * y == 1840:\n",
        "```\n",
        "\n",
        "\n",
        "Find x, y that meet the conditions\n",
        "\n",
        "```\n",
        "        print (\"apple\", x, \"pieces, melon\", y, \"pieces\") \n",
        "```\n",
        "\n"
      ],
      "metadata": {
        "id": "RRUvjZd8GZdI"
      }
    },
    {
      "cell_type": "code",
      "source": [
        ""
      ],
      "metadata": {
        "id": "E4ZhcsgEQhYy"
      },
      "execution_count": null,
      "outputs": []
    },
    {
      "cell_type": "code",
      "metadata": {
        "colab": {
          "base_uri": "https://localhost:8080/"
        },
        "outputId": "d52700cb-329a-461c-e722-1605719c4c9a",
        "id": "hYXmlaG99DS6"
      },
      "source": [
        "#sample code\n",
        "\n",
        "for x in range(1, 11):\n",
        "  for y in range(1, 11):\n",
        "    if x + y == 10 and 160 * x + 240 * y == 1840:\n",
        "      print(\"apple\", x, \"pieces，melon\", y, \"pieces\")\n",
        "      "
      ],
      "execution_count": null,
      "outputs": [
        {
          "output_type": "stream",
          "name": "stdout",
          "text": [
            "apple 7 pieces，melon 3 pieces\n"
          ]
        }
      ]
    },
    {
      "cell_type": "markdown",
      "metadata": {
        "id": "yRr7llEd9DS3"
      },
      "source": [
        "---\n",
        "Q?\n",
        "\n",
        "\n",
        "I bought several apples for 160 yen each and some melons for 240 yen each \n",
        "\n",
        "and the total price was 1600 yen.\n",
        "\n",
        "\n",
        "\\\n",
        "Find all the possible numbers of how many I bought each.\n",
        "\n"
      ]
    },
    {
      "cell_type": "markdown",
      "source": [
        "ーーーーーーーーーーーーーーーーーーーーーーーーーーーーーーーーーーーーーーーーー\n",
        "\n",
        "\n",
        "[ Arithmetic solution ]\n",
        "\n",
        "\n",
        "\n",
        "This is an Diophantine equation.\n",
        "\n",
        "\n",
        "\\\n",
        "Assuming that you bought x apples and y melons, \n",
        "\n",
        "you can express the problem statement in the formula as below.\n",
        "\n",
        "\\\n",
        "160 $\\times$ x ＋ 240 $\\times$ y ＝ 1600\n",
        "\n",
        "\n",
        "\\\n",
        "If you divide both sides by 80\n",
        "\n",
        "\n",
        "2 $\\times$ x ＋ 3 $\\times$ y ＝ 20\n",
        "\n",
        "\n",
        "\n",
        "\\\n",
        "\n",
        "Since 2 $\\times$ x and 20 are multiples of 2, \n",
        "\n",
        "we know that 3 $\\times$ y is also a multiple of 2, so y is a multiple of 2.\n",
        "\n",
        "\n",
        "\\\n",
        "We can find when y = 2, x = 7 ... (answer)\n",
        "\n",
        "\n",
        "\n",
        "\\\n",
        "\n",
        "Once you know the above set of answer of x and y, \n",
        "\n",
        "increase y by 2 and decrease x by 3.\n",
        "\n",
        "\n",
        "\\\n",
        "This technique is easier to solve this type of problem if you have a larger size of number.\n",
        "\n",
        "\n",
        "\\\n",
        "In case y = 4, x = 4 ... (answer)\n",
        "\n",
        "\n",
        "\\\n",
        "In case y = 6, x = 1 ... (answer)\n",
        "\n",
        "\n",
        "\n",
        "\\\n",
        "\n",
        "[ Python ]\n",
        "\n",
        "\n",
        "\n",
        "Suppose you bought x apples and y melons\n",
        "\n",
        "\n",
        "\\\n",
        "From 1600 $\\div$ 160 = 10 and 1600 $\\div$ 240 = 6… 160, \n",
        "\n",
        "x is within 10 and y is within 6.\n",
        "\n",
        "\n",
        "\\\n",
        "When thinking about all combinations of x and y in that range\n",
        "\n",
        "\n",
        "```\n",
        "for x in range(1, 11):\n",
        "  for y in range(1, 7):\n",
        "```\n",
        "\n",
        "If you make a double loop of `for`, you can make all combinations of x and y.\n",
        "\n",
        "\n",
        "\n",
        "\\\n",
        "\n",
        "Based on the As a condition, \n",
        "\n",
        "find x and y that meet the conditions and print each time\n",
        "\n",
        "\n",
        "```\n",
        "    if 160  * x + 240 * y == 1600:\n",
        "      print (\"apples\", x, \"pieces, melons\", y, \"pieces\") \n",
        "```\n",
        "\n",
        "\n"
      ],
      "metadata": {
        "id": "m6nymmFIUkQM"
      }
    },
    {
      "cell_type": "code",
      "source": [
        ""
      ],
      "metadata": {
        "id": "4Sb3C6eSlVv3"
      },
      "execution_count": null,
      "outputs": []
    },
    {
      "cell_type": "code",
      "metadata": {
        "id": "SmTQVjZy9DS4",
        "colab": {
          "base_uri": "https://localhost:8080/"
        },
        "outputId": "204899fe-d8cb-4e03-b58c-5e9a859c5ec4"
      },
      "source": [
        "#sample code\n",
        "\n",
        "for x in range (1, 11):\n",
        "  for y in range (1, 7):\n",
        "    if 160 * x + 240 * y == 1600:\n",
        "      print(f\"apple\", x, \"pieces, melon\", y, \"pieces\")  \n",
        "    "
      ],
      "execution_count": null,
      "outputs": [
        {
          "output_type": "stream",
          "name": "stdout",
          "text": [
            "apple 1 pieces, melon 6 pieces\n",
            "apple 4 pieces, melon 4 pieces\n",
            "apple 7 pieces, melon 2 pieces\n"
          ]
        }
      ]
    },
    {
      "cell_type": "markdown",
      "metadata": {
        "id": "IHdhC4Ut84q2"
      },
      "source": [
        "---\n",
        "Q?\n",
        "\n",
        "\n",
        "There are Japanese sweets that cost 180 yen each.\n",
        "\n",
        "\n",
        "\\\n",
        "In addition, the price of one bag of three Japanese sweets is 500 yen \n",
        "\n",
        "and the price of one box of 10 Japanese sweets is 1900 yen.\n",
        "\n",
        "\n",
        "\\\n",
        "One day, sales were 19900 yen, and 107 Japanese sweets were sold in total.\n",
        "\n",
        "\n",
        "\\\n",
        "How many bags did you sell on this day?\n",
        "\n",
        "\n"
      ]
    },
    {
      "cell_type": "markdown",
      "source": [
        "ーーーーーーーーーーーーーーーーーーーーーーーーーーーーーーーーーーーーーーーーー\n",
        "\n",
        "\n",
        "[ Arithmetic solution ]\n",
        "\n",
        "\n",
        "\n",
        "From 19900 $\\div$ 1900 ＝ 10… 900 and 19900 $\\div$ 500 ＝ 39… 400\n",
        "\n",
        "\n",
        "\\\n",
        "Number of boxes were sold at most 10  and number of bags is at most 39.\n",
        "\n",
        "\n",
        "\n",
        "\\\n",
        "\n",
        "If the problem statement is expressed as x boxes for box sale, \n",
        "\n",
        "y bags for bag sale and z for 1 piece sale,\n",
        "\n",
        "as total number of sale in all wa 107.\n",
        "\n",
        "\\\n",
        "10 $\\times$ x ＋ 3 $\\times$ y ＋ z ＝ 107...(1)\n",
        "\n",
        "\n",
        "\n",
        "\\\n",
        "\n",
        "Because the sales were 19900 yen\n",
        "\n",
        "\n",
        "\\\n",
        "1900 $\\times$ x ＋ 500 $\\times$ y ＋ 180 $\\times$ z ＝ 19900...(2)\n",
        "\n",
        "\n",
        "\\\n",
        "Divide both sides of (2) by 10, \n",
        "\n",
        "190 $\\times$ x ＋ 50 $\\times$ y ＋ 18 $\\times$ z ＝ 1990...(3)\n",
        "\n",
        "\n",
        "\n",
        "\\\n",
        "\n",
        "First, in order to erase x, based on  (1) $\\times$ 19 － (3), \n",
        "\n",
        "7 $\\times$ y + z = 43\n",
        "\n",
        "\n",
        "\\\n",
        "Examine the applicable y and z pairs,\n",
        "\n",
        "\n",
        "\\\n",
        "(y ， z) ＝ (6，1) ， (5，8) ， (4，15) ， (3，22) ， (2，29) ， (1，36) ， (0，43)\n",
        "\n",
        "\n",
        "\n",
        "\\\n",
        "This can be counted according to the same method of the previous problem,\n",
        "\n",
        "If z = 1 and y = 6 are found, increase z by 7 and decrease y by 1.\n",
        "\n",
        "\n",
        "\\\n",
        "In this set, case of applicable x found which is based on the formula (1) \n",
        "\n",
        "is only when (y, z) = (4,15), and x = 8\n",
        "\n",
        "\n",
        "\\\n",
        "Therefore, the required y = 4 ... (answer)\n",
        "\n",
        "\n",
        "\n",
        "\\\n",
        "\n",
        "[ Python ]\n",
        "\n",
        "\n",
        "\n",
        "Number of box sale is at most 10, number of bag sale is at most 39 bags, \n",
        "\n",
        "and number of 1 piece sale is at most 107 pieces.\n",
        "\n",
        "\n",
        "\n",
        "\\\n",
        "\n",
        "Assuming that x boxes are sold, y bags are sold, and z pieces are sold,\n",
        "\n",
        "and thinking about all combinations of x, y and z,\n",
        "\n",
        "code will be\n",
        "\n",
        "```\n",
        "for x in range(1, 11):\n",
        "  for y in range(1, 40):\n",
        "    for z in range(1, 108):\n",
        "```\n",
        "\n",
        "If you make a triple `for loop`, you can make all combinations of x, y, and z.\n",
        "\n",
        "\n",
        "\n",
        "\\\n",
        "\n",
        "As a condition\n",
        "\n",
        "```\n",
        "      if 10 * x  3 * y + z == 107 and 1900 * x + 500 * y + 180 * z == 19900:\n",
        "```\n",
        "\n",
        "Calculate x, y, z that meet the conditions and display the answer (number of bags)\n",
        "\n",
        "```\n",
        "        print (\"The number of bags sold is \", y, \" bags and in this case, x = \",  x, \",  y = \",  y, \",  z = \", z, \"was sold.\") \n",
        "```\n",
        "\n",
        "\n",
        "\\\n",
        "\n",
        "There will be a lot of indentation, but it shouldn't be confusing.\n",
        "\n",
        "\n",
        "\\\n",
        "The basic idea is `count all cases and find the number that meets the conditions`.\n",
        "\n"
      ],
      "metadata": {
        "id": "Fu-lMncvRIaf"
      }
    },
    {
      "cell_type": "code",
      "source": [
        ""
      ],
      "metadata": {
        "id": "oNGHCSYCbz9u"
      },
      "execution_count": null,
      "outputs": []
    },
    {
      "cell_type": "code",
      "metadata": {
        "colab": {
          "base_uri": "https://localhost:8080/"
        },
        "outputId": "bf33ad48-1674-4e2e-b55e-13d365fcde95",
        "id": "zOSCTTJmb0vU"
      },
      "source": [
        "#sample code\n",
        "\n",
        "for x in range(1,11):\n",
        "  for y in range(1,40):\n",
        "    for z in range(1,108):\n",
        "      if 10 * x + 3 * y + z == 107 and 1900 * x + 500 * y + 180 * z == 19900:\n",
        "        print (\"The number of bags sold is \", y, \" bags and in this case, x = \",  x, \",  y = \",  y, \",  z = \", z, \"was sold.\") \n",
        "        "
      ],
      "execution_count": null,
      "outputs": [
        {
          "output_type": "stream",
          "name": "stdout",
          "text": [
            "The number of bags sold is  4  bags and in this case, x =  8 ,  y =  4 ,  z =  15 was sold.\n"
          ]
        }
      ]
    },
    {
      "cell_type": "markdown",
      "source": [
        "### It's an inequality problem"
      ],
      "metadata": {
        "id": "W1eeqUy7a25O"
      }
    },
    {
      "cell_type": "markdown",
      "metadata": {
        "id": "MCsVEQi_pZOF"
      },
      "source": [
        "---\n",
        "\n",
        "Q?\n",
        "\n",
        "\n",
        "\n",
        "There are in total students in the three groups A to C of a cram school.\n",
        "\n",
        "\n",
        "\\\n",
        "Regarding the number of students in each group, the following (1) and (2) are known.\n",
        "\n",
        "\\\n",
        "\n",
        "(1): Three times the number of students in Group B is \n",
        "\n",
        "five or more than twice the number of students in Group A.\n",
        "\n",
        "\n",
        "\\\n",
        "(2): The number of students in Group C is 7 or more less than \n",
        "\n",
        "50% of the total number of students in Groups A to C.\n",
        "\n",
        "And It is more than 20 students in Group B.\n",
        "\n",
        "\n",
        "\n",
        "\\\n",
        "\n",
        "At this condition, what is the number of students in Group B?\n"
      ]
    },
    {
      "cell_type": "markdown",
      "source": [
        "ーーーーーーーーーーーーーーーーーーーーーーーーーーーーーーーーーーーーーーーーー\n",
        "\n",
        "\n",
        "[ Python ]\n",
        "\n",
        "\n",
        "\n",
        "As this problem has conditions such as \"5 or more\" and \"7 or more\", \n",
        "\n",
        "it is pretty hard to think as a math problem.\n",
        "\n",
        "So solve this with Python.\n",
        "\n",
        "\n",
        "\n",
        "\\\n",
        "\n",
        "Use the `comparison operator` \"greater than or equal to\" `> =` and \n",
        "\n",
        "\"less than or equal to\" `<=` to express the condition of the problem statement \n",
        "\n",
        "as an inequality.\n",
        "\n",
        "\n",
        "\n",
        "\\\n",
        "\n",
        "The number of studentin group A, B, and C is 105 at most.\n",
        "\n",
        "\n",
        "\\\n",
        "Make all combinations between 1 to 105 students each \n",
        "\n",
        "and find the combination that meets the conditions.\n",
        "\n",
        "\n",
        "\n",
        "\\\n",
        "\n",
        "The code that creates a combination of numbers of students in A, B, and C is\n",
        "\n",
        "```\n",
        "for A in range(1, 106):\n",
        "  for B in range(1, 106):\n",
        "    for C in range(1, 106):\n",
        "```\n",
        "\n",
        "If the condition of the problem is expressed by `if statement`\n",
        "\n",
        "```\n",
        "      if A + B + C == 105 and (B * 3 >= A * 2 + 5) and (C >= B + 20) and (C <= (A + B + C) * 0.5 - 7):\n",
        "```\n",
        "\n",
        "Now let's look at all the combinations and find B\n",
        "\n",
        "\n"
      ],
      "metadata": {
        "id": "TU8fyGQpZN3-"
      }
    },
    {
      "cell_type": "code",
      "metadata": {
        "colab": {
          "base_uri": "https://localhost:8080/"
        },
        "id": "Gaf9WyhQpu8G",
        "outputId": "f7729beb-c9fa-4c45-f137-d8ca30f586af"
      },
      "source": [
        "#sample\n",
        "\n",
        "for A in range(1, 106):\n",
        "  for B in range(1, 106):\n",
        "    for C in range(1, 106):\n",
        "      if A + B + C == 105 and (B * 3 >= A * 2 + 5) and (C >= B + 20) and (C <= (A + B + C) * 0.5 - 7):\n",
        "        print(\"B is\", B, \"students-----(Answer)\")\n",
        "        print(\"And A is\", A, \"students，C is \", C, \"students\")\n",
        "        \n"
      ],
      "execution_count": null,
      "outputs": [
        {
          "output_type": "stream",
          "name": "stdout",
          "text": [
            "B is 25 students-----(Answer)\n",
            "And A is 35 students，C is  45 students\n"
          ]
        }
      ]
    },
    {
      "cell_type": "markdown",
      "metadata": {
        "id": "ROpDFM-ze2Jv"
      },
      "source": [
        "★ Comparison operator summary\n",
        "\n",
        "\\\n",
        "\n",
        "| Meaning | Operator |\n",
        "|:------:|:------:|\n",
        "| Equal | `==` |\n",
        "| Not equal | `! =` |\n",
        "| Less than | `<` |\n",
        "| Equal or less than | `<=` |\n",
        "|Greater than | `>` |\n",
        "| Equal or greater than | `> =` |\n",
        "| It is an element | `in` |\n",
        "| Not an element | `not in` |\n",
        "\n",
        "\\"
      ]
    },
    {
      "cell_type": "markdown",
      "source": [
        "###Integer"
      ],
      "metadata": {
        "id": "2sUhj3UIfrcL"
      }
    },
    {
      "cell_type": "markdown",
      "metadata": {
        "id": "bwukdNLx8TYh"
      },
      "source": [
        "---\n",
        "Q?\n",
        "\n",
        "\n",
        "If it is divided by 25, the remainder of the division is 24 \n",
        "\n",
        "and if it is divided by 16,  the remainder of the division is 15, \n",
        "\n",
        "what's the smallest number among these numbers?\n",
        "\n"
      ]
    },
    {
      "cell_type": "markdown",
      "metadata": {
        "id": "B0-XO_pbfJjq"
      },
      "source": [
        "ーーーーーーーーーーーーーーーーーーーーーーーーーーーーーーーーーーーーーーーー\n",
        "\n",
        "[ Arithmetic solution ]\n",
        "\n",
        "\n",
        "\n",
        "The number is  (multiple of 25) -1 if it divided by 25, the number of 24 \n",
        "\n",
        "and if it is divided by 16, the number of 15 is (multiple of 16) -1.\n",
        "\n",
        "\n",
        "\\\n",
        "This means that if you add 1 to the number you want to find, \n",
        "\n",
        "you can divide it by 25 or 16 with no remainder.\n",
        "\n",
        "\n",
        "\\\n",
        "Number divisible by 25 or 16 = common multiple of 25 and 16 → 25 × 16 = 400\n",
        "\n",
        "\n",
        "\\\n",
        "If you add 1 to the number you want to find, you get 400, \n",
        "\n",
        "so the number you want = 399 ... (answer)\n",
        "\n",
        "\n",
        "\n",
        "\\\n",
        "\n",
        "[ Python ]\n",
        "\n",
        "\n",
        "\n",
        "Find the applicable number `x` in 1 to 1000\n",
        "\n",
        "\n",
        "\\\n",
        "Since the numbers are searched in order from the smallest number, the number found first is the \"smallest number\".\n",
        "\n",
        "\n",
        "\\\n",
        "If one is found, the `for loop` is interrupted\n",
        "\n",
        "\n",
        "\\\n",
        "If you express the condition of \"a number that is about 24 when divided by 25, and 15 when divided by 16,\"\n",
        "\n",
        "```\n",
        "if x % 25 == 24 and x % 16 == 15:\n",
        "```\n",
        "\n",
        " After printing, interrupt with `break`\n",
        "\n"
      ]
    },
    {
      "cell_type": "code",
      "source": [
        ""
      ],
      "metadata": {
        "id": "kBTf4pSYgvf5"
      },
      "execution_count": null,
      "outputs": []
    },
    {
      "cell_type": "code",
      "metadata": {
        "id": "R8nLll438TYh"
      },
      "source": [
        "#sample\n",
        "\n",
        "for x in range(1, 1000):\n",
        "  if x % 25 == 24 and x % 16 == 15:\n",
        "    print(x)\n",
        "    break                      #If you find one, finish it"
      ],
      "execution_count": null,
      "outputs": []
    },
    {
      "cell_type": "markdown",
      "metadata": {
        "id": "JRcqopJrSuq4"
      },
      "source": [
        "---\n",
        "Q?\n",
        "\n",
        "\n",
        "What is the number closest to 4700 out of the integers that are \n",
        "\n",
        "when divided by 11, remainder is 9 and divided by 9, remainder is 7?\n",
        "\n"
      ]
    },
    {
      "cell_type": "markdown",
      "metadata": {
        "id": "AT3vuvT3Suq5"
      },
      "source": [
        "ーーーーーーーーーーーーーーーーーーーーーーーーーーーーーーーーーーーーーーー\n",
        "\n",
        "\n",
        "[ Arithmetic solution ]\n",
        "\n",
        "\n",
        "\n",
        "Pay attention to the difference between the number to divide and the remainder.\n",
        "\n",
        "\\\n",
        "\n",
        "11 - 9 = 9 - 7 = 2, so this number to be found is \n",
        "\n",
        "a common multiple of 11 and 9 when 2 is added.\n",
        "\n",
        "\n",
        "\\\n",
        "The smallest number is 11 x 9 - 2 = 97\n",
        "\n",
        "\n",
        "\n",
        "\\\n",
        "\n",
        "Next, find a number close to 4700\n",
        "\n",
        "\n",
        "As 4700 $\\div$ 99 = 47 .... , \n",
        "\n",
        "99 $\\times$ 47 － 2 ＝ 4651----＜Answer＞, \n",
        "\n",
        "99 $\\times$ 48 － 2 ＝ 4750\n",
        "\n",
        "\n",
        "\n",
        "\\\n",
        "\n",
        "[ Python ]\n",
        "\n",
        "\n",
        "\n",
        "The number of candidates closest to 4700 is set to `a` and set to 0 at first.\n",
        "\n",
        "\n",
        "\\\n",
        "Search in the range of 4000 or more and less than 5000\n",
        "\n",
        "\n",
        "\\\n",
        "The number to be found may be larger than 4700.\n",
        "\n",
        "\\\n",
        "In order to find a number with a small difference,\n",
        "\n",
        "`abs()` function = function outputs `absolute value`\n",
        "\n",
        "\n",
        "\\\n",
        "\n",
        "Search in order, and if you find a applicable number `x` that is close to 4700, \n",
        "\n",
        "put it in `a`.\n",
        "\n",
        "\\\n",
        "The applicable numbers `a` is replaced.\n",
        "\n",
        "\n",
        "\n"
      ]
    },
    {
      "cell_type": "code",
      "source": [
        ""
      ],
      "metadata": {
        "id": "8C76Y0znp6L6"
      },
      "execution_count": null,
      "outputs": []
    },
    {
      "cell_type": "code",
      "metadata": {
        "colab": {
          "base_uri": "https://localhost:8080/"
        },
        "id": "BYcVLvLzSuq5",
        "outputId": "3736a057-d63d-490a-f215-e094bc23e0b2"
      },
      "source": [
        "#sample\n",
        "\n",
        "a = 0\n",
        "\n",
        "for x in range(4000, 5000):\n",
        "  if x % 11 == 9 and x % 9 == 7 and abs(a - 4700) > abs(x - 4700):\n",
        "    a = x\n",
        "\n",
        "print(a)\n"
      ],
      "execution_count": null,
      "outputs": [
        {
          "output_type": "stream",
          "name": "stdout",
          "text": [
            "4651\n"
          ]
        }
      ]
    },
    {
      "cell_type": "markdown",
      "metadata": {
        "id": "jTk6jMF4m8MW"
      },
      "source": [
        "---\n",
        "Q?\n",
        "\n",
        "\n",
        "There is a two-digit integer AB. \n",
        "\n",
        "\\\n",
        "If you put 0(zero) in between to make a 3-digit integer A0B, this number A0B is divisible by AB.\n",
        "\n",
        "\n",
        "\\\n",
        "Also, if you put the number C between both ends to make a 5-digit integer CACBC, \n",
        "\n",
        "this number CACBC is also divisible by AB.\n",
        "\n",
        "\n",
        "\\\n",
        "At this condition, the 5-digit integer CACBC is □.\n",
        "\n",
        "\n",
        "\\\n",
        "Noted that A, B, and C are all different numbers, and none of them are 0.\n",
        "\n",
        "\n",
        "\n"
      ]
    },
    {
      "cell_type": "markdown",
      "metadata": {
        "id": "qDIKNos_m8MW"
      },
      "source": [
        "ーーーーーーーーーーーーーーーーーーーーーーーーーーーーーーーーーーーーーーーー\n",
        "\n",
        "\n",
        "[ Arithmetic solution ]\n",
        "\n",
        "\n",
        "From the first condition of the problem, it is that AB $\\times N = A0B.\n",
        "\n",
        "\\\n",
        "With this foemula, we can find that N is not 1\n",
        "\n",
        "\n",
        "\\\n",
        "Next, when (first place of the product of B $\\times N) is B,\n",
        "\n",
        "applicable combination set of  (B, N) are (2, 6), (4, 6), (5, 5), (6, 6), (8, 6)\n",
        "\n",
        "\n",
        "\n",
        "\\\n",
        "\n",
        "Tenth place of A0B is 0(zero), so in the above set, \n",
        "\n",
        "tenth place of B $\\times N is 1, 2, 2, 3, 4 and\n",
        "\n",
        "first place of A $\\times 5 or 6 is 9, 8, 8, 7, 6.\n",
        "\n",
        "\\\n",
        "Under the above condition, applicable A is 1, 3, 6, 8.\n",
        "\n",
        "\\\n",
        "When AB $\\times N = A0B, applicable (A, B, N) is (1, 8, 6)\n",
        "\n",
        "\n",
        "\n",
        "\\\n",
        "\n",
        "Furthermore, since the first plave of CACBC is C and the first place of \n",
        "\n",
        "B $\\times (number) is 0, 2, 4, 6, 8, \n",
        "\n",
        "C should be any of these.\n",
        "\n",
        "\\\n",
        "Check with 2, 4, 6, 8 and we find C = 6.\n",
        "\n",
        "\n",
        "\\\n",
        "Therefore, CACBC = 61686 ... (Answer)\n",
        "\n",
        "\n"
      ]
    },
    {
      "cell_type": "markdown",
      "source": [
        "\n",
        "[ Python ]\n",
        "\n",
        "\n",
        "\n",
        "Apply 1 to 9 to A, B, and C respectively,\n",
        "\n",
        "create formula as \n",
        "\n",
        "`x = A * 10 + B` and` y = A * 100 + B` and \n",
        "\n",
        "`z = C * 10000 + A * 1000 + C * 100 + B * 10 + C`\n",
        "\n",
        "\n",
        "\\\n",
        "Write the condition of the problem with `if statement`\n",
        "\n",
        "and find A, B, C that meet the condition and output the answer.\n",
        "\n",
        "\n",
        "\n"
      ],
      "metadata": {
        "id": "XGPpfGpfm8MX"
      }
    },
    {
      "cell_type": "code",
      "source": [
        ""
      ],
      "metadata": {
        "id": "ke7Gqkylm8MX"
      },
      "execution_count": null,
      "outputs": []
    },
    {
      "cell_type": "code",
      "metadata": {
        "id": "uKn6khl6m8MX"
      },
      "source": [
        "#sample\n",
        "\n",
        "for A in range(1, 10) :\n",
        "  for B in range(1, 10) :\n",
        "    for C in range(1, 10) :\n",
        "      x = A * 10 + B\n",
        "      y = A * 100 + B\n",
        "      z = C * 10000 + A * 1000 + C* 100 + B * 10 + C\n",
        "      if A != B and A != C and B != C and y % x == 0 and z % x == 0 :\n",
        "        print(\" CACBC=\", z, \"-----＜Answer＞\", \"(AB=\", x, \" A0B=\", y, \")\")\n",
        "        "
      ],
      "execution_count": null,
      "outputs": []
    },
    {
      "cell_type": "markdown",
      "metadata": {
        "id": "F4MqDa-VEKmV"
      },
      "source": [
        "### Number of cases"
      ]
    },
    {
      "cell_type": "markdown",
      "metadata": {
        "id": "pg0JG54qOYPJ"
      },
      "source": [
        "---\n",
        "Q?\n",
        "\n",
        "\n",
        "There are 5 different types of coffee cups and 3 different types of plates in a store.\n",
        "\n",
        "\n",
        "\\\n",
        "How many ways of combination of cups and plates?\n",
        "\n"
      ]
    },
    {
      "cell_type": "markdown",
      "source": [
        "ーーーーーーーーーーーーーーーーーーーーーーーーーーーーーーーーーーーーーーーーー\n",
        "\n",
        "\n",
        "[ Arithmetic solution ]\n",
        "\n",
        "\n",
        "\n",
        "There are 3 types of plates in each coffee cup.\n",
        "\n",
        "\\\n",
        "Therefore 5 x 3 = 15 ways ... (answer)\n",
        "\n",
        "\n",
        "\n",
        "\\\n",
        "\n",
        "[ Python ]\n",
        "\n",
        "\n",
        "\n",
        "First, set the variable `count` to count ways of combination to 0.\n",
        "\n",
        "\n",
        "\n",
        "\\\n",
        "\n",
        "Count all ways of combination with number of 1, 2, 3, 4, 5 numbered coffee cups \n",
        "\n",
        "and 10, 20, 30 numbered plates.\n",
        "\n",
        "\n",
        "\\\n",
        "To make all combinations with a for loop\n",
        "\n",
        "```\n",
        "for cup in  1, 2, 3, 4, 5 :\n",
        "\n",
        "  for plate in 10, 20, 30 :\n",
        "```\n",
        "\n",
        "\n",
        "Count each time you make a combination in this for loop\n",
        "\n",
        "\n",
        "```\n",
        "        count += 1\n",
        "```\n",
        "\n",
        "\n",
        "After counting all, print count\n",
        "\n",
        "\n",
        "```\n",
        "    print (count, 'ways')\n",
        "```\n",
        "\n",
        "\n",
        "\n"
      ],
      "metadata": {
        "id": "sy5smZy0OYPJ"
      }
    },
    {
      "cell_type": "code",
      "source": [
        ""
      ],
      "metadata": {
        "id": "1ZCLPq1lQf9p"
      },
      "execution_count": null,
      "outputs": []
    },
    {
      "cell_type": "code",
      "metadata": {
        "id": "cM-fpGauOYPK"
      },
      "source": [
        "#sample\n",
        "count = 0\n",
        "for cup in  1, 2, 3, 4, 5 :\n",
        "  for plate in 10, 20, 30 :\n",
        "    #print(cup, plate)\n",
        "    count += 1\n",
        "print(count, 'ways')\n"
      ],
      "execution_count": null,
      "outputs": []
    },
    {
      "cell_type": "markdown",
      "metadata": {
        "id": "_5Ss-SEDEKmW"
      },
      "source": [
        "---\n",
        "Q?\n",
        "\n",
        "If you put three cards, 2, 5, and 6, together to make a three-digit number, \n",
        "\n",
        "how many numbers can you make in total?\n"
      ]
    },
    {
      "cell_type": "markdown",
      "metadata": {
        "id": "Lv7s_unThHQr"
      },
      "source": [
        "ーーーーーーーーーーーーーーーーーーーーーーーーーーーーーーーーーーーーーーーーー\n",
        "\n",
        "\n",
        "[ Arithmetic solution ]\n",
        "\n",
        "\n",
        "\n",
        "If you decide number from the hundreds place, there are three ways \n",
        "\n",
        "to choose the number of hundreds places from 2, 5, and 6.\n",
        "\n",
        "\n",
        "\\\n",
        "There are two ways to choose the number of tenth place, other than the number used for the hundreds.\n",
        "\n",
        "\n",
        "\\\n",
        "There is one way to choose the number of ones other than the numbers used for hundreds and tens.\n",
        "\n",
        "\\\n",
        "\n",
        "From the above, 3 $\\times$ 2 $\\times$ 1 = 6 ways ... (answer)\n"
      ]
    },
    {
      "cell_type": "markdown",
      "source": [
        "ーーーーーーーーーーーーーーーーーーーーーーーーーーーーーーーーーーーーーーー\n",
        "\n",
        "\n",
        "[ Python ]\n",
        "\n",
        "\n",
        "\n",
        "Set the variable `count` to 0\n",
        "\n",
        "\n",
        "\n",
        "\\\n",
        "\n",
        "It would be OK if we could count the number of ways, \n",
        "\n",
        "so instead of 2, 5 and 6, use 2, 50, 600.\n",
        "\n",
        "\\\n",
        "Let variable `A` be the hundreds place, `B` be the tens place, \n",
        "\n",
        "and `C` be the ones place.\n",
        "\n",
        "\n",
        "\n",
        "\\\n",
        "The condition can be read as\n",
        "\n",
        "A, B and C of three digit number ABC are different \n",
        "\n",
        "and the total should be 2 + 50 + 600 = 652.\n",
        "\n",
        "\\\n",
        "\n",
        "\n",
        "\n",
        "Count when the total condition is met\n",
        "\n",
        "\n",
        "\n",
        "\\\n",
        "\n",
        "Finally print the number of `count`\n",
        "\n"
      ],
      "metadata": {
        "id": "YyrONxuw0T4L"
      }
    },
    {
      "cell_type": "code",
      "source": [
        ""
      ],
      "metadata": {
        "id": "1y5nuZYp2bjg"
      },
      "execution_count": null,
      "outputs": []
    },
    {
      "cell_type": "code",
      "metadata": {
        "id": "Gcex5YHMz4jb"
      },
      "source": [
        "#sample\n",
        "\n",
        "count = 0\n",
        "\n",
        "for A in 2, 50, 600:\n",
        "  for B in 2, 50, 600:\n",
        "    for C in 2, 50, 600:\n",
        "      if A + B + C == 652:\n",
        "        print(A, B, C)\n",
        "        count += 1\n",
        "\n",
        "print(count, \"pieces\")\n",
        "\n"
      ],
      "execution_count": null,
      "outputs": []
    },
    {
      "cell_type": "markdown",
      "metadata": {
        "id": "TkIIJqIVEKmW"
      },
      "source": [
        "ーーーーーーーーーーーーーーーーーーーーーーーーーーーーーーーーーーーーーーー\n",
        "\n",
        "\n",
        "[ Using Python list ]\n",
        "\n",
        "\n",
        "\n",
        "Make a box (list) named `cards` to hold 2, 5 and 6 cards,\n",
        "\n",
        "\n",
        "\n",
        "`cards = [2, 5, 6]`\n",
        "\n",
        "\n",
        "\n",
        "\\\n",
        "\n",
        "Create a counter named `count` that counts the number of 3 digits you made, \n",
        "\n",
        "and set it to 0 at the beginning.\n",
        "\n",
        "\n",
        "\n",
        "`count = 0`\n",
        "\n",
        "\n",
        "\n",
        "\\\n",
        "\n",
        "Let `x` be a variable that contains a number representing the hundreds digit, \n",
        "\n",
        "and enter numbers in `x` in the order of 2, 5, 6.\n",
        "\n",
        "\n",
        "\n",
        "`for x in cards:`\n",
        "\n",
        "\n",
        "\n",
        "Let `y` be a variable that contains the number representing the tens digit, \n",
        "\n",
        "and enter the numbers in `y` in the order of 2, 5, 6.\n",
        "\n",
        "\n",
        "\n",
        "&emsp;`for y in cards:`\n",
        "\n",
        "\n",
        "\n",
        "Let `z` be a variable that contains the number representing the ones digit, \n",
        "\n",
        "and enter the numbers in `z` in the order of 2,5,6.\n",
        "\n",
        "\n",
        "\n",
        "&emsp;&emsp;`for z in cards:`\n",
        "\n",
        "\n",
        "\n",
        "\\\n",
        "\n",
        "If you make a three-digit number with this procedure, you can also create \n",
        "\n",
        "numbers with the same numbers such as 225, 565, and 666.\n",
        "\n",
        "\n",
        "\\\n",
        "To count only the three-digit number made up of three different numbers\n",
        "\n",
        "\n",
        "\\\n",
        "Count only \"if numbers are different in all three\"\n",
        "\n",
        "\n",
        "\n",
        "\\\n",
        "\n",
        "&emsp;&emsp;&emsp;`if x !=y and y != z and z != x:`\n",
        "\n",
        "\n",
        "\\\n",
        "When the applicable x, y, z pair is found, add 1 to the count counter.\n",
        "\n",
        "\n",
        "\\\n",
        "&emsp;&emsp;&emsp;&emsp;`count += 1`\n",
        "\n",
        "\n",
        "\\\n",
        "Finally output the number of counters\n",
        "\n",
        "\n",
        "\\\n",
        "`print(count)`\n",
        "\n",
        "\n"
      ]
    },
    {
      "cell_type": "code",
      "source": [
        ""
      ],
      "metadata": {
        "id": "vm5KRN-s2dZr"
      },
      "execution_count": null,
      "outputs": []
    },
    {
      "cell_type": "code",
      "metadata": {
        "id": "aShuzEvUEKmX"
      },
      "source": [
        "#sample\n",
        "\n",
        "cards = [2, 5, 6]                                         \n",
        "count = 0                                                  \n",
        "for x in cards:\n",
        "  for y in cards:\n",
        "    for z in cards:\n",
        "      if x !=y and y != z and z != x:\n",
        "        #print(x,y,z)       # When you want to check the combination of x, y, z, remove # \n",
        "        count += 1\n",
        "print(count, 'pieces')\n"
      ],
      "execution_count": null,
      "outputs": []
    },
    {
      "cell_type": "markdown",
      "source": [
        "I made a list `cards` in above example, but since there are few, \n",
        "\n",
        "it is OK even if you do not use a list.\n",
        "\n"
      ],
      "metadata": {
        "id": "iPbq3kQWQ9XI"
      }
    },
    {
      "cell_type": "code",
      "metadata": {
        "id": "2oG1s1cTIVuB"
      },
      "source": [
        "#another sample\n",
        "                                       \n",
        "count = 0                                                  \n",
        "for x in 2, 5, 6:\n",
        "  for y in 2, 5, 6:\n",
        "    for z in 2, 5, 6:\n",
        "      if x !=y and y != z and z != x:\n",
        "        #print(x,y,z)     \n",
        "        count += 1\n",
        "print(count, 'pieces')\n"
      ],
      "execution_count": null,
      "outputs": []
    },
    {
      "cell_type": "markdown",
      "source": [
        "####itertools"
      ],
      "metadata": {
        "id": "P73STgUCRc6G"
      }
    },
    {
      "cell_type": "markdown",
      "source": [
        "\n",
        "With using `permutations` and  `combinations` functions \n",
        "\n",
        "in a collection of programs called `itertools module` \n",
        "\n",
        "you can write neatly code of sequences.\n",
        "\n",
        "\\\n",
        "\n",
        "It's fun in the future.\n",
        "\n",
        "\\\n",
        "At this stage you have better to get used to the program with `for` and `if`.\n",
        "\n",
        "\n",
        "\n",
        "\\\n",
        "\n",
        "If you are interested, please check it out by Google.\n",
        "\n",
        "\n",
        "\\\n",
        "Below is the code using itertools\n",
        "\n"
      ],
      "metadata": {
        "id": "osYkPZGiNIRZ"
      }
    },
    {
      "cell_type": "code",
      "metadata": {
        "id": "OjUIgp_tEKmX"
      },
      "source": [
        "#Use the permutations function of the itertools module\n",
        "\n",
        "import itertools\n",
        "\n",
        "count = 0\n",
        "cards = [2, 5, 6]\n",
        "for x in itertools.permutations(cards, 3):\n",
        "  print(x)                                \n",
        "  count += 1\n",
        "\n",
        "print(count)"
      ],
      "execution_count": null,
      "outputs": []
    },
    {
      "cell_type": "markdown",
      "source": [
        "###Function(Permutation)"
      ],
      "metadata": {
        "id": "RIdU5_wx6-Eh"
      }
    },
    {
      "cell_type": "markdown",
      "source": [
        "---\n",
        "Q?\n",
        "\n",
        "\n",
        "How many ways are there if you choose 3 out of 5 different numbers \n",
        "\n",
        "and arrange them in a row?\n",
        "\n",
        "\n",
        "ーーーーーーーーーーーーーーーーーーーーーーーーーーーーーーーーーーーーーーー\n",
        "\n",
        "When calculating this by arithmetic,\n",
        "\n",
        "\n",
        "\n",
        "5 $\\times$ 4 $\\times$ 3 = 60 ways\n",
        "\n",
        "\n",
        "\n",
        "\n",
        "\\\n",
        "Then, what is the function program that calculates ways of arrangement \n",
        "\n",
        "if  selecting `b`pieces from different numbers of` a`pieces \n",
        "\n",
        "and arranging them in a row?\n",
        "\n",
        "\\\n",
        "In the above problem, `b` is 3 and `a` is 5.\n",
        "\n"
      ],
      "metadata": {
        "id": "gSCVV0MTpoiH"
      }
    },
    {
      "cell_type": "markdown",
      "source": [
        "ーーーーーーーーーーーーーーーーーーーーーーーーーーーーーーーーーーーーーーー\n",
        "\n",
        "\n",
        "The name of the function is to be `Perm` (first 4 characters of permutation)\n",
        "\n",
        "\n",
        "\\\n",
        "Define the function with the arguments `a` and` b`\n",
        "\n",
        "\n",
        "\n",
        "\\\n",
        "\n",
        "In the case of `a` = 5, `b` = 3, it can be calculated by starting from 5 \n",
        "\n",
        "to the third number as below.\n",
        "\n",
        "\n",
        "\\\n",
        "`5 * (5 - 1) * (5 - 2)`\n",
        "\n",
        "\n",
        "\n",
        "\\\n",
        "\n",
        "If this is the case of using `a` and `b`instead of actual nubers,\n",
        "\n",
        "you can write `a * (a - 1) * (a - 2) * ・ ・ ・ * (a - b + 1)`\n",
        "\n",
        "\n",
        "\n",
        "\\\n",
        "\n",
        "Initially name the variable for calculating the product \n",
        "\n",
        "as `p` (initial of product) and set it to 1.\n",
        "\n",
        "\n",
        "\\\n",
        "If you set it to 0 same as in the case of sum, it will be 0 all the time, \n",
        "\n",
        "so set it to 1.\n",
        "\n",
        "\n",
        "\\\n",
        "Then, the above formula is revised as \n",
        "\n",
        "\n",
        "`1 * a * (a - 1) * (a - 2) * ・・・ * (a - b +1)`\n",
        "\n",
        "\\\n",
        "\n",
        "If the variable number subtracting from `a` is ` i` \n",
        "\n",
        "and the range of `i` is` range (b) `, then\n",
        "\n",
        "`i` changes in the range from 0 to (b -1)\n",
        "\n",
        "\n",
        "\n",
        "\\\n",
        "\n",
        "Expressing this in code,\n",
        "\n",
        "```\n",
        "for i in range(b):\n",
        "  p *= (a - b)\n",
        "```\n",
        "\n",
        "`* =` is an assignment operator of multiplication.\n",
        "\n",
        "\n",
        "\\\n",
        "\n",
        "Finally, the function returns `p` which is expressed as` return p` \n",
        "\n",
        "\n",
        "\n"
      ],
      "metadata": {
        "id": "BbCLOqLTp4PR"
      }
    },
    {
      "cell_type": "code",
      "source": [
        ""
      ],
      "metadata": {
        "id": "L6JZ-le443-h"
      },
      "execution_count": null,
      "outputs": []
    },
    {
      "cell_type": "code",
      "metadata": {
        "id": "o_T8amREJ6Up"
      },
      "source": [
        "#sample\n",
        "\n",
        "def Perm(a, b):\n",
        "  p = 1\n",
        "  for i in range(b):\n",
        "    p *= (a - i)\n",
        "  return p\n",
        "\n",
        "print ('How to select b numbers from different numbers of a and arrange them in a row')\n",
        "\n",
        "#This is the \"how to write an abbreviation when you have multiple numbers input\" that came out earlier.\n",
        "\n",
        "a, b = (int(x) for x in input ('a > b, enter two numbers in a and b with spaces:').split ())\n",
        "\n",
        "print (Perm(a, b), 'ways')\n"
      ],
      "execution_count": null,
      "outputs": []
    },
    {
      "cell_type": "markdown",
      "metadata": {
        "id": "Ak9P5AvzDkIQ"
      },
      "source": [
        "###Line up 4 persons\n"
      ]
    },
    {
      "cell_type": "markdown",
      "metadata": {
        "id": "2FQEkZCKmAs0"
      },
      "source": [
        "---\n",
        "Q?\n",
        "\n",
        "\n",
        "How many ways are A, B, C, and D arranged in a horizontal row?\n",
        "\n"
      ]
    },
    {
      "cell_type": "markdown",
      "source": [
        "ーーーーーーーーーーーーーーーーーーーーーーーーーーーーーーーーーーーーーーーーー\n",
        "\n",
        "\n",
        "[ Arithmetic solution ]\n",
        "\n",
        "\n",
        "There are 4 ways of A, B, C and D at the first positon.\n",
        "\n",
        "\\\n",
        "The second is 3 ways of 3 people except the first one.\n",
        "\n",
        "\\\n",
        "In the same way, the third is two ways and the fourth is one way.\n",
        "\n",
        "\\\n",
        "In total, 4 $\\times$ 3 $\\times$ 2 $\\times$ 1 = 24 ways ... (answer)\n",
        "\n",
        "\n",
        "\n",
        "\\\n",
        "\n",
        "[ Python ]\n",
        "\n",
        "\n",
        "The idea is the same as the above problem.\n",
        "\n",
        "\\\n",
        "Set the counter `count` to 0.\n",
        "\n",
        "\\\n",
        "The first position is expressed as 1, the 2nd is 2, the 3rd is 3, and the 4th is 4.\n",
        "\n",
        "\n",
        "\\\n",
        "There are 1 to 4 positions for A and 1 to 4 for positions B, C, and D, as well \n",
        "\n",
        "so all combinations are 4 $times$ 4 $times$ 4 $times$ 4 = 256 ways.\n",
        "\n",
        "\n",
        "\\\n",
        "The code that creates the combination has the same idea as the above problem.\n",
        "\n",
        "```\n",
        "for A in range(1,5):\n",
        "  for B in range(1,5):\n",
        "    for C in range(1,5):\n",
        "      for D in range(1,5):\n",
        "```\n",
        "\n",
        "Count only if none of A, B, C, D are in the same position\n",
        "\n",
        "```\n",
        "        if A != B and A != C and A != D and B != C and B != D and C != D:\n",
        "          count += 1\n",
        "```\n",
        "\n",
        "\n"
      ],
      "metadata": {
        "id": "4FQZDQoWmQOc"
      }
    },
    {
      "cell_type": "code",
      "metadata": {
        "id": "NTgs_1rADkIQ"
      },
      "source": [
        "#sample\n",
        "\n",
        "count = 0\n",
        "\n",
        "for A in range(1, 5):\n",
        "  for B in range(1, 5):\n",
        "    for C in range(1, 5):\n",
        "      for D in range(1, 5):\n",
        "        if A != B and A != C and A != D and B != C and B != D and C != D:\n",
        "          count += 1\n",
        "\n",
        "print(count, \"ways\")\n",
        "\n"
      ],
      "execution_count": null,
      "outputs": []
    },
    {
      "cell_type": "markdown",
      "source": [
        "\n",
        "Again, there is a way to write the code below to avoid indentation,\n",
        "\n",
        "\n",
        "\\\n",
        "The large number of indents makes the program difficult to read \n",
        "\n",
        "when there is a lot of processing in the indents or \n",
        "\n",
        "in the case of a large program with hundreds of lines.\n",
        "\n",
        "\\\n",
        "There is no problem in the case of such a short program like this.\n",
        "\n",
        "\n",
        "\\\n",
        "On the contrary, getting used to indentation is important.\n"
      ],
      "metadata": {
        "id": "XEudUFDCURv1"
      }
    },
    {
      "cell_type": "code",
      "source": [
        "#Code using list\n",
        "\n",
        "s = [1,2,3,4]\n",
        "list1 = [[a,b,c,d] for a in s for b in s for c in s for d in s ]\n",
        "\n",
        "count = 0\n",
        "\n",
        "for A, B, C, D in list1:\n",
        "  if A != B and A != C and A != D and B != C and B != D and C != D:\n",
        "          count += 1\n",
        "\n",
        "print(count, \"ways\")\n",
        "\n"
      ],
      "metadata": {
        "id": "t51Zbr1rk-CK"
      },
      "execution_count": null,
      "outputs": []
    },
    {
      "cell_type": "markdown",
      "source": [
        "ーーーーーーーーーーーーーーーーーーーーーーーーーーーーーーーーーーーーーーーーー\n",
        "\n",
        "\n",
        "[ Python another solution ]\n",
        "\n",
        "\n",
        "As another way of thinking using numbers\n",
        "\n",
        "\n",
        "\\\n",
        "First position is 1, second position is 10, 3rd is 100, and 4th is 1000 \n",
        "\n",
        "so that condition can be processed by calculation.\n",
        "\n",
        "\n",
        "\\\n",
        "In this case, the condition is met only when the total number is \n",
        "\n",
        "1 + 10 + 100 + 1000 = 1111.\n",
        "\n",
        "\n",
        "\\\n",
        "if statement is\n",
        "\n",
        "    if A + B + C + D == 1111:\n",
        "\n"
      ],
      "metadata": {
        "id": "-OnwUMhKycvi"
      }
    },
    {
      "cell_type": "code",
      "source": [
        ""
      ],
      "metadata": {
        "id": "FdD2_v4PnSSg"
      },
      "execution_count": null,
      "outputs": []
    },
    {
      "cell_type": "code",
      "metadata": {
        "id": "4bsKWsbbnS5d"
      },
      "source": [
        "#anoth sample\n",
        "\n",
        "count = 0\n",
        "\n",
        "for A in 1, 10, 100, 1000:\n",
        "  for B in 1, 10, 100, 1000:\n",
        "    for C in 1, 10, 100, 1000:\n",
        "      for D in 1, 10, 100, 1000:\n",
        "        if A + B + C + D == 1111:\n",
        "          #print(A,B,C,D)      # If you want to check 4 numbers, remove #\n",
        "          count += 1\n",
        "\n",
        "print(count, \"ways\")\n",
        "\n"
      ],
      "execution_count": null,
      "outputs": []
    },
    {
      "cell_type": "markdown",
      "source": [
        "###sum"
      ],
      "metadata": {
        "id": "_ZlkU-9gkoW2"
      }
    },
    {
      "cell_type": "markdown",
      "source": [
        "\n",
        "For reference, I will also write the code using the list.\n",
        "\n",
        "\n",
        "\\\n",
        "Indentation is reduced, but the above code is simpler and easier to understand\n",
        "\n",
        "\n",
        "\n",
        "\\\n",
        "\n",
        "`sum()` is a built-in function that outputs the sum of the numbers in `()`\n",
        "\n",
        "\n",
        "\\\n",
        "Since `group` is a list variable in the code cell below, \n",
        "\n",
        "` sum(group) `is output the sum of numbers of elements in the list.\n",
        "\n",
        "\n",
        "\n",
        "\\\n",
        "\n",
        "No relation here, but\n",
        "\n",
        "\n",
        "with `sum (group, 10000)`, you can also add 10000 to the sum of `group`.\n",
        "\n",
        "\n",
        "\n",
        "\\\n",
        "\n",
        "\n"
      ],
      "metadata": {
        "id": "s9qj9ppbkoW2"
      }
    },
    {
      "cell_type": "code",
      "source": [
        "#Code using list\n",
        "\n",
        "\n",
        "count = 0\n",
        "\n",
        "n = [1, 10, 100, 1000]\n",
        "list1 = [[A, B, C, D] for a in n for b in n for c in n for d in n ]\n",
        "\n",
        "for group in list1:\n",
        "  if sum(group) == 1111:\n",
        "    count += 1\n",
        "    #print(group)\n",
        "\n",
        "print(count, 'ways')\n"
      ],
      "metadata": {
        "id": "Lpt4CUOekoW2"
      },
      "execution_count": null,
      "outputs": []
    },
    {
      "cell_type": "markdown",
      "metadata": {
        "id": "ICUKXyI3bBcR"
      },
      "source": [
        "###5 cards including 0"
      ]
    },
    {
      "cell_type": "markdown",
      "metadata": {
        "id": "Ia_JUa2LWmWw"
      },
      "source": [
        "---\n",
        "Q?\n",
        "\n",
        "When you take out 4 cards from 5 cards of 0, 1, 2, 3, 4 and arrange them in order, \n",
        "\n",
        "how many 4-digit integers can you make in total?\n",
        "\n"
      ]
    },
    {
      "cell_type": "markdown",
      "source": [
        "ーーーーーーーーーーーーーーーーーーーーーーーーーーーーーーーーーーーーーーーーー\n",
        "\n",
        "\n",
        "[ Arithmetic solution ]\n",
        "\n",
        "\n",
        "\n",
        "There are four ways of arranging in the thousand's place, one of 1, 2, 3, 4.\n",
        "\n",
        "\n",
        "\\\n",
        "There are 4 numbers other than the numbers arranged in the 1000s and 0, \n",
        "\n",
        "and there are 4 ways that are arranged in the hundreds place.\n",
        "\n",
        "\n",
        "\\\n",
        "There are three ways of arranging in the tenth place, except for the number \n",
        "\n",
        "in the hundreds place.\n",
        "\n",
        "\n",
        "\\\n",
        "There are two ways in which one of the two numbers other than the number \n",
        "\n",
        "in the tenth place can be arranged in the ones place.\n",
        "\n",
        "\n",
        "\n",
        "Therefore in total, 4 $\\times$ 4 $\\times$ 3 $\\times$ 2 = 96 pieces ... ( Answer) \n",
        "\n",
        "\n",
        "\n",
        "\n",
        "\n",
        "\\\n",
        "\n",
        "[ Python ]\n",
        "\n",
        "\n",
        "\n",
        "Make a list of cards [0, 1, 2, 3, 4] \n",
        "\n",
        "and make a box (variable) named `count` to count the number.\n",
        "\n",
        "    cards = [0, 1, 2, 3, 4]\n",
        "\n",
        "    count = 0\n",
        "\n",
        "Let variable `x` be the thousand's place, `y` be the hundred's place, \n",
        "\n",
        "`z` be the tens place, and `u` be the one's place.\n",
        "\n",
        "\n",
        "\\\n",
        "Make all possible combinations of x, y, z, u\n",
        "\n",
        "    for x in cards:\n",
        "      for y in cards:\n",
        "        for z in cards:\n",
        "          for u in cards:\n",
        "\n",
        "You can't put a 0 card in the thousands, so you can use `for x in [1, 2, 3, 4]`\n",
        "\n",
        "\n",
        "\n",
        "\\\n",
        "\n",
        "As conditions,\n",
        "\n",
        "x, y, z, u must all be different numbers.\n",
        "\n",
        "\n",
        "\\\n",
        "If x is 0, it will be 3 digits (when `for x in cards:` is used)\n",
        "\n",
        "\n",
        "\\\n",
        "If there is a combination of x, y, z, u that satisfies the above two conditions, count.\n",
        "\n",
        "\n",
        "           if (x != y and x != z and x != u and y != z and y != u and z != u) and x != 0 :\n",
        "            count += 1    \n",
        "\n"
      ],
      "metadata": {
        "id": "iHkE9XptShUK"
      }
    },
    {
      "cell_type": "code",
      "source": [
        ""
      ],
      "metadata": {
        "id": "W_5C1pb4YKWu"
      },
      "execution_count": null,
      "outputs": []
    },
    {
      "cell_type": "code",
      "source": [
        "#sample\n",
        "\n",
        "cards = [0, 1, 2, 3, 4]\n",
        "count = 0\n",
        "\n",
        "for x in cards:\n",
        "  for y in cards:\n",
        "    for z in cards:\n",
        "      for u in cards:\n",
        "        if (x != y and x != z and x != u and y != z and y != u and z != u) and x != 0 :\n",
        "          count += 1    \n",
        "    \n",
        "print(count, 'pieces')"
      ],
      "metadata": {
        "id": "XI3ZCdTfSlfx"
      },
      "execution_count": null,
      "outputs": []
    },
    {
      "cell_type": "markdown",
      "metadata": {
        "id": "Fmp-IyLcSvqv"
      },
      "source": [
        "###3 cards out of 5 multiply of 3"
      ]
    },
    {
      "cell_type": "markdown",
      "metadata": {
        "id": "-r1xjD9krea1"
      },
      "source": [
        "---\n",
        "Q?\n",
        "\n",
        "\n",
        "How many multiples of three are there in 3_digits numbers can be made by \n",
        "\n",
        "choosing 3 out of 5 cards of 0, 3, 4, 5, 6?\n",
        "\n"
      ]
    },
    {
      "cell_type": "markdown",
      "source": [
        "ーーーーーーーーーーーーーーーーーーーーーーーーーーーーーーーーーーーーーーーーー\n",
        "\n",
        "\n",
        "[ Arithmetic solution ]\n",
        "\n",
        "\n",
        "\n",
        "The condition for numbers that are multiples of 3 is \"the sum of each digit is a multiple of 3\".\n",
        "\n",
        "\n",
        "\\\n",
        "If you look at a combination where the sum when you select 3 out of 5 numbers is a multiple of 3\n",
        "\n",
        "\n",
        "\\\n",
        "(Check in order from the smallest to avoid missing)\n",
        "\n",
        "\n",
        "\n",
        "➀ (0, 3, 6)\n",
        "\n",
        "\n",
        "\n",
        "② (0, 4, 5)\n",
        "\n",
        "\n",
        "\n",
        "③ (3, 4, 5)\n",
        "\n",
        "\n",
        "\n",
        "④ (4, 5, 6)\n",
        "\n",
        "\n",
        "\\\n",
        "In each case, the number of 3-digit integers to be made is\n",
        "\n",
        "\n",
        "\n",
        "➀ and ②: 2 $\\times$ 2 $\\times$ 1 = 4 ways\n",
        "\n",
        "\n",
        "\n",
        "③ and ④: 3 $\\times$ 2 $\\times$ 1 = 6 ways\n",
        "\n",
        "\n",
        "\n",
        "In total, 4 $\\times$ 2 + 6 $\\times$ 2 = 20 ... (answer)\n",
        "\n",
        "\n",
        "\n",
        "\\\n",
        "\n",
        "[ Python ]\n",
        "\n",
        "\n",
        "\n",
        "Make a list of cards [0, 3, 4, 5, 6] and \n",
        "\n",
        "make a box (variable) named `count` to count the number.\n",
        "\n",
        "    cards = [0, 3, 4, 5, 6]\n",
        "    count = 0\n",
        "\n",
        "\n",
        "Let variable `x` be the hundreds place, `y` be the tens place, \n",
        "\n",
        "and `z` be the ones place, and create all possible combinations of `x`,` y`, and `z`.\n",
        "\n",
        "    for x in cards:\n",
        "      for y in cards:\n",
        "        for z in cards:\n",
        "\\\n",
        "\n",
        "As conditions\n",
        "\n",
        "x, y, z must all be different numbers\n",
        "\n",
        "\n",
        "If x is 0, it will be double digits.\n",
        "\n",
        "\n",
        "sum of x + y + z is a multiple of 3\n",
        "\n",
        "\\\n",
        "If there is a combination of x, y, z that meets the three conditions of, count\n",
        "\n",
        "\n",
        "           if (x != y and y != z and z != x) and x != 0 and (x + y + z) % 3 == 0:\n",
        "            count += 1    \n",
        "\n"
      ],
      "metadata": {
        "id": "KUQw0HvShmH9"
      }
    },
    {
      "cell_type": "code",
      "source": [
        ""
      ],
      "metadata": {
        "id": "REoRQXTgN6K5"
      },
      "execution_count": null,
      "outputs": []
    },
    {
      "cell_type": "code",
      "metadata": {
        "id": "i93GjTQurxJZ",
        "colab": {
          "base_uri": "https://localhost:8080/"
        },
        "outputId": "5b479379-a246-40d0-c9bc-40d1be94cc25"
      },
      "source": [
        "#sample\n",
        "\n",
        "cards = [0, 3, 4, 5, 6]\n",
        "count = 0\n",
        "\n",
        "for x in cards:\n",
        "  for y in cards:\n",
        "    for z in cards:\n",
        "      if (x != y and y != z and z != x) and x != 0 and (x + y + z) % 3 == 0:  #(100*x+10*y+z)%3 is OK\n",
        "        #print (x, y, z)                                                                                 \n",
        "        count += 1 \n",
        "\n",
        "print(count, \"pieces\")           \n",
        " \n"
      ],
      "execution_count": null,
      "outputs": [
        {
          "output_type": "stream",
          "name": "stdout",
          "text": [
            "20 pieces\n"
          ]
        }
      ]
    },
    {
      "cell_type": "markdown",
      "metadata": {
        "id": "GqJzGs8EKzCa"
      },
      "source": [
        "###5枚から3枚　3の倍数"
      ]
    },
    {
      "cell_type": "markdown",
      "metadata": {
        "id": "KCYCABK3KzCa"
      },
      "source": [
        "---\n",
        "Q?\n",
        "\n",
        "0, 3, 4, 5, 6の5枚のカードから3枚選んでつくることができる3けたの3の倍数は何個？"
      ]
    },
    {
      "cell_type": "markdown",
      "source": [
        "ーーーーーーーーーーーーーーーーーーーーーーーーーーーーーーーーーーーーーーーーー\n",
        "\n",
        "＜算数解法＞\n",
        "\n",
        "3の倍数になる数の条件は，「各けたの和が3の倍数」だから，\n",
        "\n",
        "5つの数から3つ選んだ時の和が3の倍数になる組み合わせを調べると\n",
        "\n",
        "(モレがないように小さいほうから順序良く調べる）\n",
        "\n",
        "➀ (0, 3, 6)\n",
        "\n",
        "② (0, 4, 5)\n",
        "\n",
        "③ (3, 4, 5)\n",
        "\n",
        "④ (4, 5, 6)\n",
        "\n",
        "それぞれの場合で3けたの整数になる場合の数は\n",
        "\n",
        "➀と②：2 × 2 × 1 ＝ 4通り\n",
        "\n",
        "③と④：3 × 2 × 1 ＝ 6通り\n",
        "\n",
        "全部で，4 × 2 ＋ 6 × 2 ＝ 20個・・・(答)\n",
        "\n",
        "\\\n",
        "＜[ Python ]\n",
        "\n",
        "カードのリスト[0, 3, 4, 5, 6]を作り，個数を数える用にcount(カウント)という名前の箱(変数）を作る\n",
        "\n",
        "    cards = [0, 3, 4, 5, 6]\n",
        "    count = 0\n",
        "\n",
        "\\\n",
        "百の位をx，十の位をy，一の位をｚとして，x,y,zがとり得るすべての組み合わせをつくる\n",
        "\n",
        "    for x in cards:\n",
        "      for y in cards:\n",
        "        for z in cards:\n",
        "\n",
        "\\\n",
        "x, y, zはどれも違う数でなくてはならない\n",
        "\n",
        "xが0だと2けたになってしまう\n",
        "\n",
        "x + y + z が3の倍数になる\n",
        "\n",
        "の3つの条件をみたすx,y,zの組み合わせがあったら， `count`する\n",
        "\n",
        "           if (x != y and y != z and z != x) and x != 0 and (x + y + z) % 3 == 0:\n",
        "            count += 1    \n",
        "\n"
      ],
      "metadata": {
        "id": "1RoucJVxKzCb"
      }
    },
    {
      "cell_type": "code",
      "source": [
        ""
      ],
      "metadata": {
        "id": "j0SflQzGKzCb"
      },
      "execution_count": null,
      "outputs": []
    },
    {
      "cell_type": "code",
      "metadata": {
        "colab": {
          "base_uri": "https://localhost:8080/"
        },
        "outputId": "2e21d48c-2416-4724-8eb3-62aa94419043",
        "id": "FH3lXgbXKzCb"
      },
      "source": [
        "#sample\n",
        "\n",
        "cards = [0, 3, 4, 5, 6]\n",
        "count = 0\n",
        "\n",
        "for x in cards:\n",
        "  for y in cards:\n",
        "    for z in cards:\n",
        "      if (x != y and y != z and z != x) and x != 0 and (x + y + z) % 3 == 0:  #(100*x+10*y+z)%3でもOK\n",
        "        #print(x,y,z)     #数を出力させたいときは実行(#をはずす)                                                                                        \n",
        "        count += 1             #count=count+1 と同じ式　(countに1をたしてからcount変数に入れ直す式)\n",
        "\n",
        "print(count, \"個\")           \n",
        "\n"
      ],
      "execution_count": null,
      "outputs": [
        {
          "output_type": "stream",
          "name": "stdout",
          "text": [
            "20 個\n"
          ]
        }
      ]
    },
    {
      "cell_type": "markdown",
      "source": [
        "### 5 to 3 multiples of 6"
      ],
      "metadata": {
        "id": "D9i34SpXXUWp"
      }
    },
    {
      "cell_type": "markdown",
      "metadata": {
        "id": "2Wez51T8kf1g"
      },
      "source": [
        "---\n",
        "\n",
        "Q?\n",
        "\n",
        "How many multiples of six are there in 3_digits numbers can be made by \n",
        "\n",
        "choosing 3 cards out of 5 cards of 0, 1, 2, 3, 4?\n",
        "\n"
      ]
    },
    {
      "cell_type": "markdown",
      "source": [
        "ーーーーーーーーーーーーーーーーーーーーーーーーーーーーーーーーーーーーーーーーー\n",
        "\n",
        "\n",
        "[ Arithmetic solution ]\n",
        "\n",
        "\n",
        "\n",
        "The condition for number that is multiples of 6 is \n",
        "\n",
        "\"number is even number and the sum of each digit is a multiple of 3\".\n",
        "\n",
        "\n",
        "\\\n",
        "If you look at a combination where the sum when you select 3 out of 5 cards \n",
        "\n",
        "is a multiple of 3\n",
        "\n",
        "\n",
        "(Check in order from the smallest to avoid missing)\n",
        "\n",
        "➀ (0, 1, 2)\n",
        "\n",
        "\n",
        "\n",
        "② (0, 2, 4)\n",
        "\n",
        "\n",
        "\n",
        "③ (1, 2, 3)\n",
        "\n",
        "\n",
        "\n",
        "④ (2, 3, 4)\n",
        "\n",
        "\n",
        "\n",
        "In each above case, the number of 3-digit even numbers is\n",
        "\n",
        "\n",
        "➀: 3 ways of 102, 120, 210\n",
        "\n",
        "\n",
        "\n",
        "②: 2 x 2 x 1 = 4 ways\n",
        "\n",
        "\n",
        "\n",
        "③: Two ways, 132 and 312\n",
        "\n",
        "\n",
        "\n",
        "④: 2 x 2 = 4 ways\n",
        "\n",
        "\n",
        "\n",
        "In total, 3 + 4 + 2 + 4 = 13 ... (answer)\n",
        "\n",
        "\n",
        "\n",
        "\\\n",
        "\n",
        "[ Python ]\n",
        "\n",
        "\n",
        "\n",
        "The code is the similar flow because it is almost the same as the above problem.\n",
        "\n",
        "\n",
        "\\\n",
        "However, code of \"becomes a multiple of 6\" is to be as follows\n",
        "\n",
        "\n",
        "           (100*x + 10*y + z) % 6 == 0:\n",
        "\n",
        "\n",
        "\n"
      ],
      "metadata": {
        "id": "SH2PRfkOnVvU"
      }
    },
    {
      "cell_type": "code",
      "source": [
        ""
      ],
      "metadata": {
        "id": "a6m17PA5dpKO"
      },
      "execution_count": null,
      "outputs": []
    },
    {
      "cell_type": "code",
      "metadata": {
        "id": "Wb0WIo-LkvIX",
        "colab": {
          "base_uri": "https://localhost:8080/"
        },
        "outputId": "7e304dfb-6bdc-4bdd-e61e-30bd22766e2a"
      },
      "source": [
        "#sample\n",
        "\n",
        "cards = [0, 1, 2, 3, 4]\n",
        "count = 0\n",
        "\n",
        "for x in cards:\n",
        "  for y in cards:\n",
        "    for z in cards:\n",
        "      if (x != y and y != z and z != x) and x != 0 and (100 * x + 10 * y + z) % 6 == 0:    \n",
        "        #print(x,y,z)           \n",
        "        count += 1             \n",
        "\n",
        "print(count, \"pieces\") \n"
      ],
      "execution_count": null,
      "outputs": [
        {
          "output_type": "stream",
          "name": "stdout",
          "text": [
            "13 pieces\n"
          ]
        }
      ]
    },
    {
      "cell_type": "markdown",
      "source": [
        "###4children and father, mother"
      ],
      "metadata": {
        "id": "ksYO-CchbXWq"
      }
    },
    {
      "cell_type": "markdown",
      "metadata": {
        "id": "sNL6U-i-WrKr"
      },
      "source": [
        "\n",
        "---\n",
        "Q?\n",
        "\n",
        "\n",
        "When four children and their parents are lined up side by side, how many ways \n",
        "\n",
        "are there four children lined up between their parents?\n",
        "\n"
      ]
    },
    {
      "cell_type": "markdown",
      "source": [
        "ーーーーーーーーーーーーーーーーーーーーーーーーーーーーーーーーーーーーーーーーー\n",
        "\n",
        "\n",
        "[ Arithmetic solution ]\n",
        "\n",
        "\n",
        "\n",
        "There are two ways of arrangement for parents, father-mother and mother-father, \n",
        "\n",
        "at both ends.\n",
        "\n",
        "\n",
        "\\\n",
        "Since four children are lined up in a row, 4 $\\times$ 3 $\\times$ 2 $\\times$ 1 = 24 ways\n",
        "\n",
        "\n",
        "\\\n",
        "In total, 2 $\\times$ 24 = 48 ways ... (answer)\n",
        "\n",
        "\n",
        "\n",
        "\\\n",
        "\n",
        "[ Python ]\n",
        "\n",
        "\n",
        "\n",
        "Assuming that the positions of 6 people, parents and 4 children, are a, b, c, d, e, f, \n",
        "\n",
        "the parents are in the positions of a and f, and the children are in the positions of b, c, d, e.\n",
        "\n",
        "\n",
        "\\\n",
        "Father is set to 5, mother is 50.\n",
        "\n",
        "\n",
        "\\\n",
        "Let the children to be 1, 10, 100, 1000.\n",
        "\n",
        "\\\n",
        "Since position a and f are 5 or 50 and b, c, d, e are 1, 10, 100, 1000, \n",
        "\n",
        "all combinations are\n",
        "\n",
        "```\n",
        "for a in 5, 50:\n",
        "  for b in 1, 10, 100, 1000:\n",
        "    for c in 1, 10, 100, 1000:\n",
        "      for d in 1, 10, 100, 1000:\n",
        "        for e in 1, 10, 100, 1000:\n",
        "          for f in 5, 50:\n",
        "```\n",
        "\n",
        "\n",
        "If you express code of the condition that \n",
        "\n",
        "\"parents are at both ends and children are lined up in a row\"\n",
        "\n",
        "                if a + f == 55 and b + c + d + e == 1111:\n",
        "\n",
        "\n",
        "If there are a ~ f that meet this condition, count\n",
        "\n",
        "\n"
      ],
      "metadata": {
        "id": "B8baNfIHqM9n"
      }
    },
    {
      "cell_type": "code",
      "source": [
        ""
      ],
      "metadata": {
        "id": "agrPJAkj2f2R"
      },
      "execution_count": null,
      "outputs": []
    },
    {
      "cell_type": "code",
      "metadata": {
        "id": "zfyMbFl0zD2q"
      },
      "source": [
        "#sample\n",
        "\n",
        "count=0\n",
        "for a in 5,50:\n",
        "  for b in 1,10,100,1000:\n",
        "    for c in 1,10,100,1000:\n",
        "      for d in 1,10,100,1000:\n",
        "        for e in 1,10,100,1000:\n",
        "          for f in 5,50:\n",
        "            if a + f == 55 and b + c + d + e == 1111:\n",
        "              #print(a,b,c,d,e,f)\n",
        "              count += 1\n",
        "\n",
        "print(count,'ways')\n",
        "\n"
      ],
      "execution_count": null,
      "outputs": []
    },
    {
      "cell_type": "markdown",
      "source": [
        "\n",
        "If you don't like a lot of indentation, think about the code \n",
        "\n",
        "by using the list you did above.\n"
      ],
      "metadata": {
        "id": "S28z2sC10HCY"
      }
    },
    {
      "cell_type": "markdown",
      "source": [
        "###Representative selection from 6 boys and 4 girls"
      ],
      "metadata": {
        "id": "WCUiMDkzdrRQ"
      }
    },
    {
      "cell_type": "markdown",
      "metadata": {
        "id": "mzqxoH8XhJfc"
      },
      "source": [
        "\n",
        "---\n",
        "Q?\n",
        "\n",
        "\n",
        "How many ways to choose representatives of 2 boys and 1 girl \n",
        "\n",
        "from 6 boys and 4 girls?\n",
        "\n",
        "\n"
      ]
    },
    {
      "cell_type": "markdown",
      "source": [
        "ーーーーーーーーーーーーーーーーーーーーーーーーーーーーーーーーーーーーーーーーー\n",
        "\n",
        "\n",
        "[ Arithmetic solution ]\n",
        "\n",
        "\n",
        "\n",
        "How to choose 2 out of 6 boys is $ \\dfrac {6 × 5} {2 × 1}$ = 15 ways.\n",
        "\n",
        "\n",
        "\\\n",
        "There are 4 ways to choose 1 out of 4 girls.\n",
        "\n",
        "\n",
        "\\\n",
        "In total, 15 $\\times$ 4 = 60 ways ... (answer)\n",
        "\n",
        "\n",
        "\n",
        "\\\n",
        "\n",
        "[ Python ]\n",
        "\n",
        "\n",
        "Boys are numbered as 1, 2, 3, 4, 5, 6 and girls are 10, 20, 30, 40.\n",
        "\n",
        "\n",
        "\\\n",
        "Let the chosen person be boys = a, b and girl = c\n",
        "\n",
        "\n",
        "\\\n",
        "Take out a and b from 1 to 6 and c from 10 to 40, and make all combinations.\n",
        "\n",
        "\n",
        "\\\n",
        "When a = b, (a, b) = (2,5) and (5,2) are the same, so to avoid including them\n",
        "\n",
        "\\\n",
        "\n",
        "`if a < b :`\n",
        "\n",
        "\n",
        "\\\n",
        "Count the cases that apply to as `count + = 1`\n",
        "\n",
        "\n",
        "\\\n",
        "Output with `print()` when the `for loop` is over\n",
        "\n",
        "\n"
      ],
      "metadata": {
        "id": "Dp98LspH1JFR"
      }
    },
    {
      "cell_type": "code",
      "source": [
        ""
      ],
      "metadata": {
        "id": "Co1mSxBOdncb"
      },
      "execution_count": null,
      "outputs": []
    },
    {
      "cell_type": "code",
      "metadata": {
        "id": "JxsMiNJZhTik"
      },
      "source": [
        "#sample\n",
        "\n",
        "count=0\n",
        "\n",
        "for a in 1, 2, 3, 4, 5, 6:\n",
        "  for b in 1, 2, 3, 4, 5, 6:\n",
        "    for c in 10, 20, 30, 40 :\n",
        "      if a < b :                  \n",
        "        count += 1\n",
        "        #print(a,b,c)\n",
        "        \n",
        "print(count, \"ways\")"
      ],
      "execution_count": null,
      "outputs": []
    },
    {
      "cell_type": "markdown",
      "source": [
        "###Divide 7 to 4 and 3"
      ],
      "metadata": {
        "id": "9oUt13eQqQtI"
      }
    },
    {
      "cell_type": "markdown",
      "metadata": {
        "id": "lcsu-oSZvwCU"
      },
      "source": [
        "---\n",
        "Q?\n",
        "\n",
        "How many ways do you divide the 7 students into a quadruple room \n",
        "\n",
        "and a triple room?\n",
        "\n",
        "\n"
      ]
    },
    {
      "cell_type": "markdown",
      "source": [
        "ーーーーーーーーーーーーーーーーーーーーーーーーーーーーーーーーーーーーーーーーー\n",
        "\n",
        "\n",
        "[ Arithmetic solution ]\n",
        "\n",
        "\n",
        "\n",
        "If students to enter the triple room are decided, other 4 students to the \n",
        "\n",
        "quadruple room are automatically decided.\n",
        "\n",
        "\n",
        "\\\n",
        "How to choose 3 students from 7 people to enter the triple room is \n",
        "\n",
        "$ \\dfrac {7 × 6 × 5} {3 × 2 × 1}$ = 35 ways ・ ・ ・ (answer)\n",
        "\n",
        "\n",
        "\n",
        "\n",
        "\n",
        "\\\n",
        "\n",
        "[ Python ]\n",
        "\n",
        "\n",
        "\n",
        "Let 7 students be numbered as 1 \\~ 7 and let a, b, c be the students who enter the triple room.\n",
        "\n",
        "\\\n",
        "Count all cases of a, b, c,\n",
        "\n",
        "\n",
        "\\\n",
        "a, b, c are all different numbers, (a, b, c), (a, c, b), (b, a, c), (b, c, a), \n",
        "\n",
        "(c, a, b) , (c, b, a) are the same combination.\n",
        "\n",
        "\\\n",
        "Count only if `a < b < c`\n",
        "\n"
      ],
      "metadata": {
        "id": "QYLVm5jKD97C"
      }
    },
    {
      "cell_type": "code",
      "source": [
        ""
      ],
      "metadata": {
        "id": "AhAx6eLDdmS4"
      },
      "execution_count": null,
      "outputs": []
    },
    {
      "cell_type": "code",
      "metadata": {
        "id": "yhUSsh1AzD2w"
      },
      "source": [
        "#sample\n",
        "\n",
        "count = 0\n",
        "for a in range(1, 8):\n",
        "  for b in range(1, 8):\n",
        "    for c in range(1, 8):\n",
        "      if a < b < c :       \n",
        "        #print(a,b,c)\n",
        "        count+=1\n",
        "print(count, \"ways\")\n",
        "\n"
      ],
      "execution_count": null,
      "outputs": []
    },
    {
      "cell_type": "markdown",
      "source": [
        "###Deliver 7 to 4 persons"
      ],
      "metadata": {
        "id": "IXdYOa7agixo"
      }
    },
    {
      "cell_type": "markdown",
      "metadata": {
        "id": "ofzE1zsnigSL"
      },
      "source": [
        "\n",
        "---\n",
        "Q?\n",
        "\n",
        "\n",
        "How many ways to pass 7 balls to 4 people by giving at least 1 to 4 people \n",
        "\n",
        "without leaving?\n"
      ]
    },
    {
      "cell_type": "markdown",
      "source": [
        "ーーーーーーーーーーーーーーーーーーーーーーーーーーーーーーーーーーーーーーーーー\n",
        "\n",
        "\n",
        "[ Arithmetic solution ]\n",
        "\n",
        "\n",
        "\n",
        "As \"pass 4 persons at least one each\", if you pass one at a time, \n",
        "\n",
        "7 - 4 = 3 remian.\n",
        "\n",
        "\n",
        "\\\n",
        "There are 3 patterns of (3, 0, 0, 0), (2, 1, 0, 0), (1, 1, 1, 0) to pass balls \n",
        "\n",
        "remained.\n",
        "\n",
        "\n",
        "\\\n",
        "Count ways in each pattern, first pattern is 4 ways, \n",
        "\n",
        "second is 4 $\\times$ 3 = 12 ways, and third is 4 ways.\n",
        "\n",
        "\n",
        "\\\n",
        "In total, 4 + 12 + 4 = 20 ways ... (answer)\n",
        "\n",
        "\n",
        "\n",
        "\\\n",
        "\n",
        "[ Python ]\n",
        "\n",
        "\n",
        "\n",
        "The number of people is set to a, b, c, d balls.\n",
        "\n",
        "\\\n",
        "If five or more ball were passed to one person, \n",
        "\n",
        "some people will not be able to receive ball.\n",
        "\n",
        "\n",
        "\\\n",
        "The maximum number of ball that can be passed ot one person is four.\n",
        "\n",
        "\n",
        "\\\n",
        "The range of a, b, c, d is from 1 to 4 and write code of calculating all cases.\n",
        "\n",
        "\n",
        "\\\n",
        "If the condition that `a + b + c + d = 7` is met, count\n",
        "\n",
        "\n",
        "\n"
      ],
      "metadata": {
        "id": "UAeusPJR4A7A"
      }
    },
    {
      "cell_type": "code",
      "source": [
        ""
      ],
      "metadata": {
        "id": "nJ-5EpkgdlNM"
      },
      "execution_count": null,
      "outputs": []
    },
    {
      "cell_type": "code",
      "metadata": {
        "id": "xbGxLTwSzD2u"
      },
      "source": [
        "#sample\n",
        "\n",
        "count=0\n",
        "\n",
        "for a in range(1, 5):\n",
        "  for b in range(1, 5):\n",
        "    for c in range(1, 5):\n",
        "      for d in range(1, 5):\n",
        "        if a + b + c + d == 7:\n",
        "          #print(a,b,c,d)\n",
        "          count+=1\n",
        "\n",
        "print(count, \"ways\")"
      ],
      "execution_count": null,
      "outputs": []
    },
    {
      "cell_type": "markdown",
      "source": [
        "### Two people sitting at a circle table next to each other"
      ],
      "metadata": {
        "id": "DVfcqlChkchf"
      }
    },
    {
      "cell_type": "markdown",
      "metadata": {
        "id": "Qq9u0Rw4mORl"
      },
      "source": [
        "\n",
        "\n",
        "---\n",
        "\n",
        "Q?\n",
        "\n",
        "\n",
        "\n",
        "When six people a, b, c, d, e, and f sit around the circular table \n",
        "\n",
        "and the position of f is fixed,\n",
        "\n",
        "how many ways do a and b sit next to each other?\n",
        "\n"
      ]
    },
    {
      "cell_type": "markdown",
      "source": [
        "ーーーーーーーーーーーーーーーーーーーーーーーーーーーーーーーーーーーーーーーーー\n",
        "\n",
        "\n",
        "[ Arithmetic solution ]\n",
        "\n",
        "\n",
        "\n",
        "Since the position of f is fixed, it can be considered by arranging in one row \n",
        "\n",
        "instead of in a circular order.\n",
        "\n",
        "\n",
        "\\\n",
        "There are two ways to arrange a and b, as (a, b) and (b, a).\n",
        "\n",
        "\n",
        "\\\n",
        "Considering a and b as one person, there are 4 $\\times$ 3 $\\times$ 2 $\\times$ 1 = 24 ways of \n",
        "\n",
        "arranging the four people (ab), c, d, and e.\n",
        "\n",
        "\n",
        "\\\n",
        "In total, 2 $\\times$ 24 = 48 ways ... (answer)\n",
        "\n",
        "\n",
        "\n",
        "\\\n",
        "\n",
        "[ Python ]\n",
        "\n",
        "\n",
        "\n",
        "The places where people other than f to sit are 1, 10, 100, 1000, 10000.\n",
        "\n",
        "\n",
        "\\\n",
        "Count all cases where a, b, c, d, e sit,\n",
        "\n",
        "\n",
        "\\\n",
        "If a and b are next to each other, \n",
        "\n",
        "then a + b = 11 `or`110`or`1100`or`11000.\n",
        "\n",
        "\n",
        "\\\n",
        "If everyone sits in different places, a + b + c + d + e = 11111\n",
        "\n",
        "\n",
        "\\\n",
        "Count the cases that meet the conditions\n",
        "\n",
        "\n"
      ],
      "metadata": {
        "id": "ofkezlDY6r7o"
      }
    },
    {
      "cell_type": "code",
      "source": [
        ""
      ],
      "metadata": {
        "id": "poeqe8H6-A7Y"
      },
      "execution_count": null,
      "outputs": []
    },
    {
      "cell_type": "code",
      "metadata": {
        "colab": {
          "base_uri": "https://localhost:8080/"
        },
        "outputId": "faf0626b-1499-41fd-e8d5-8f6078b3b9d8",
        "id": "1nRwV4RY-B_D"
      },
      "source": [
        "\n",
        "count = 0\n",
        "list1 = [1, 10, 100, 1000, 10000]\n",
        "\n",
        "for a in list1:\n",
        "  for b in list1:\n",
        "    for c in list1:\n",
        "      for d in list1:\n",
        "        for e in list1:\n",
        "          if (a + b == 11 or a + b == 110 or a + b == 1100 or a + b == 11000) and \\\n",
        "          a + b + c + d + e == 11111:\n",
        "            #print(a,b,c,d,e)\n",
        "            count+=1\n",
        "\n",
        "print(count, \"ways\")\n",
        "\n"
      ],
      "execution_count": null,
      "outputs": [
        {
          "output_type": "stream",
          "name": "stdout",
          "text": [
            "48 通り\n"
          ]
        }
      ]
    },
    {
      "cell_type": "markdown",
      "source": [
        "### Five-digit number containing the same number"
      ],
      "metadata": {
        "id": "fTP1Orn9pZVu"
      }
    },
    {
      "cell_type": "markdown",
      "source": [
        "---\n",
        "\n",
        "Q?\n",
        "\n",
        "\n",
        "\n",
        "When making a 5-digit number by arranging 5 numbers of 1, 1, 2, 2, and 3, \n",
        "\n",
        "how many kinds of numbers can be made?\n",
        "\n"
      ],
      "metadata": {
        "id": "usHTRZ5ry7gA"
      }
    },
    {
      "cell_type": "markdown",
      "source": [
        "ーーーーーーーーーーーーーーーーーーーーーーーーーーーーーーーーーーーーーーーー\n",
        "\n",
        "\n",
        "[ Arithmetic solution ]\n",
        "\n",
        "\n",
        "\n",
        "Consider arranging 5 boxes and putting numbers in the boxes in order from 3.\n",
        "\n",
        "\n",
        "\\\n",
        "There are 5 ways to put 3 because it is a way to choose one from 5 boxes.\n",
        "\n",
        "\n",
        "\\\n",
        "Next, ways to put 2 (or 1 is fine) in the 4 boxes are calculated buy \n",
        "\n",
        "$ \\dfrac {4 × 3} {2 × 1}$ = 6, since it is the same ways to \n",
        "\n",
        "choose 2 boxes from the remaining 4 boxes.\n",
        "\n",
        "\n",
        "\n",
        "\\\n",
        "Boxes for 1 is automatically determined by the remaining 2 boxes, \n",
        "\n",
        "so there are 5 $\\times$ 6 = 30 ways in total ... (Answer)\n",
        "\n",
        "\\\n",
        "\n",
        "(Another solution)\n",
        "\n",
        "\n",
        "\n",
        "If 1, 1, 2, 2, and 3 are numbers that can be distinguished from A1, B1, C2, D2, and E3,\n",
        "\n",
        "\n",
        "\\\n",
        "5 $\\times$ 4 $\\times$ 3 $\\times$ 2 $\\times$ 1 = 120 ways in total\n",
        "\n",
        "\n",
        "\\\n",
        "However, since there are two ways of arranging both of A1 and B1 and C2 and D2, \n",
        "\n",
        "there are 2 x 2 = 4 patterns of duplication.\n",
        "\n",
        "\n",
        "\\\n",
        "Therefore, in total, 120 $\\div$ 4 = 30 ways ... (Answer)\n",
        "\n",
        "\n",
        "\n",
        "\\\n",
        "\n",
        "[ Python ]\n",
        "\n",
        "\n",
        "\n",
        "In case of [1, 1, 2, 2, 3], when `a + b + c + d + e = 9` under the condition of sum,\n",
        "\n",
        "\n",
        "1 + 1 + 2 + 2 + 3 = 1 + 1 + 1 + 2 + 2 etc. are also included as double.\n",
        "\n",
        "\\\n",
        "So to avoid them, replace [1, 1, 2, 2, 3] with `[1, 1, 10, 10, 100]` to \n",
        "\n",
        "eliminate sum duplication.\n",
        "\n",
        "\n",
        "\\\n",
        "Then, if `a + b + c + d + e = 122`, it seems double count is avoided.\n",
        "\n",
        "\n",
        "\n",
        "\n",
        "\n",
        "\\\n",
        "\n",
        "However, since there are two 1s and two 2s in the finished number, \n",
        "\n",
        "for example, the number in which the first 1 and the second 1 are exchanged \n",
        "\n",
        "is to be double counted.\n",
        "\n",
        "\n",
        "\n",
        "\\\n",
        "In this case, first, if you replace all the created numbers with the attached\n",
        "\n",
        " numbers (for example, [10, 1, 10, 100, 1] to `101101001`, \n",
        " \n",
        " put it in the set `set`, and then count the number of its elements with` len() `.\n",
        "\n",
        "\n",
        "\\\n",
        "Since the number of elements of `set ()` is not be double counted, \n",
        "\n",
        "we can get the correct ways.\n",
        "\n",
        "\n",
        "\\\n",
        "The code for the above operation is as follows\n",
        "\n",
        "```\n",
        "if a + b + c + d + e == 122 :\n",
        "  numbers.append(str(a) + str(b) + str(c) + str(d) + str(e))\n",
        "  answer = len(set(numbers))\n",
        "```\n",
        "\n",
        "\n",
        "\\\n",
        "\n",
        "It doesn't really matter in this solution,\n",
        "\n",
        "\\\n",
        "Importing the `pprint` module by the code of ` from pprint import * `\n",
        "\n",
        "Using the `pprint` function\n",
        "\n",
        "    pprint (list)\n",
        "\n",
        "Then, the elements of the list are output with line breaks one by one.\n",
        "\n",
        "\n",
        "\\\n",
        "It will be easier to see if the element is horizontally long\n",
        "\n"
      ],
      "metadata": {
        "id": "4Eq-dekjLJe2"
      }
    },
    {
      "cell_type": "code",
      "source": [
        "from pprint import *\n",
        "\n",
        "list1 = [1, 1, 10, 10, 100]\n",
        "\n",
        "numbers = []\n",
        "\n",
        "for a in list1 :\n",
        "  for b in list1 :\n",
        "    for c in list1 :\n",
        "      for d in list1 :\n",
        "        for e in list1 :\n",
        "          if a + b + c + d + e == 122 :\n",
        "            numbers.append(str(a) + str(b) + str(c) + str(d) + str(e))\n",
        "            answer = len(set(numbers))\n",
        "\n",
        "print(numbers)        #Display in a horizontal row\n",
        "pprint(numbers)       #Display in a vertical column\n",
        "print(answer, 'ways') \n",
        "\n"
      ],
      "metadata": {
        "id": "93159I1fOao5"
      },
      "execution_count": null,
      "outputs": []
    },
    {
      "cell_type": "markdown",
      "metadata": {
        "id": "Ve22Mf5be-NX"
      },
      "source": [
        "###3 different integers"
      ]
    },
    {
      "cell_type": "markdown",
      "metadata": {
        "id": "eD_djEtle84i"
      },
      "source": [
        "---\n",
        "Q?\n",
        "\n",
        "\n",
        "There are three different integers, and the product of these three integers is  \n",
        "\n",
        "greater by 4 than the sum of these three integers.\n",
        "\n",
        "\n",
        "\\\n",
        "There are two sets of such three integers can be considered, \n",
        "\n",
        "but as for the set with the largest integer 4,\n",
        "\n",
        "the product of three integers is [(1)], \n",
        "\n",
        "and as for another set, the product of three integers is [(2)].\n",
        "\n",
        "\n"
      ]
    },
    {
      "cell_type": "markdown",
      "metadata": {
        "id": "U6jLdV2G8puC"
      },
      "source": [
        "ーーーーーーーーーーーーーーーーーーーーーーーーーーーーーーーーーーーーーーー\n",
        "\n",
        "\n",
        "(Answer) \n",
        "\n",
        "(1) = (1, 3, 4) \n",
        "\n",
        "(2) = (1, 2, 7)\n",
        "\n",
        "\n",
        "\\\n",
        "[ Arithmetic solution ]\n",
        "\n",
        "\n",
        "\n",
        "Let consider three integers as a < b < c.\n",
        "\n",
        "\n",
        "\\\n",
        "If c = 4, the remaining two are either 1, 2, or 3, \n",
        "\n",
        "so if you look it up, the set of (a, b, c) is (1, 3, 4) ... (Answer of (1))\n",
        "\n",
        "\n",
        "\\\n",
        "When a is 2 or more, even in the case of the smallest combination, \n",
        "\n",
        "2 $\\times$ 3 $\\times$ 4 = 24, 2 + 3 + 4 = 9, \n",
        "\n",
        "which is the product is larger by more than 4 than the sum.\n",
        "\n",
        "\n",
        "\\\n",
        "Therefore, think with a = 1\n",
        "\n",
        "\n",
        "\\\n",
        "As `1 * b * c = 1 + b + c + 4`,\n",
        "\n",
        "looking for applicable b and c from the formula of \n",
        "\n",
        "`b * c = b + c + 5 → c = 1 + (c + 5) / b`, \n",
        "\n",
        "b = 2, c = 7 -----(Answer of (2))\n",
        "\n",
        "\n",
        "\\\n",
        "It may be faster solution to check the case of a = 1 and b = 2\n",
        "\n",
        "\n",
        "\n",
        "\\\n",
        "\n",
        "[ Python ]\n",
        "\n",
        "\n",
        "\n",
        "As considering above solution, you may fix a = 1, but try 1 to 10 for each.\n",
        "\n",
        "\n",
        "\\\n",
        "When a, b, and c are numbers in the range of 1 to 10, respectively.\n",
        "\n",
        "```\n",
        "a < b < c and (a * b * c = a + b + c + 4)\n",
        "```\n",
        "Then output a, b, and c if they satisfy the condition of the proble.\n",
        "\n"
      ]
    },
    {
      "cell_type": "code",
      "source": [
        ""
      ],
      "metadata": {
        "id": "0BGEEb-SjO6h"
      },
      "execution_count": null,
      "outputs": []
    },
    {
      "cell_type": "code",
      "metadata": {
        "colab": {
          "base_uri": "https://localhost:8080/"
        },
        "id": "2Ams6wmx8puC",
        "outputId": "5ab4dc61-2b64-45cc-e18d-9a02d2b18fd8"
      },
      "source": [
        "#sample for both of (1) and (2)\n",
        "\n",
        "for a in range(1, 10):\n",
        "  for b in range(a + 1, 10):\n",
        "    for c in range(b + 1, 10):\n",
        "      if c == 4 and a < b < c and (a * b * c == a + b + c + 4):\n",
        "        print('(1) :', a, b, c)\n",
        "      elif a < b < c and (a * b * c == a + b + c + 4):\n",
        "        print('(2) :', a, b, c)\n",
        "        "
      ],
      "execution_count": null,
      "outputs": [
        {
          "output_type": "stream",
          "name": "stdout",
          "text": [
            "(2) : 1 2 7\n",
            "(1) : 1 3 4\n"
          ]
        }
      ]
    },
    {
      "cell_type": "markdown",
      "metadata": {
        "id": "dNnXqQPe5-cn"
      },
      "source": [
        "### Number of stairs\n",
        "\n",
        "---\n",
        "\n",
        "Q?\n",
        "\n",
        "\n",
        "\n",
        "When you go up the stairs in one step or two steps, \n",
        "\n",
        "how many ways do you go up the 12 steps of stairs?\n",
        "\n"
      ]
    },
    {
      "cell_type": "markdown",
      "source": [
        "ーーーーーーーーーーーーーーーーーーーーーーーーーーーーーーーーーーーーーーーー\n",
        "\n",
        "\n",
        "＜Answer＞\n",
        "\n",
        "\n",
        "\n",
        "233 ways\n",
        "\n",
        "\n",
        "\n",
        "\\\n",
        "\n",
        "[ Arithmetic solution ]\n",
        "\n",
        "\n",
        "\n",
        "Search in order to find out how it works\n",
        "\n",
        "\n",
        "\\\n",
        "In the case of 1 step: (1 step in 1 step) --- 1 way\n",
        "\n",
        "\n",
        "\\\n",
        "In the case of 2 steps: (1 step + 1 step), ((2 steps for 1 step) ---> 2 ways\n",
        "\n",
        "\n",
        "In the case of 3 steps: (1 step + 1 step + 1 step), (1 step + 2 steps),\n",
        "\n",
        "(2 steps + 1 step) ---> 3 ways\n",
        "\n",
        "\n",
        "\n",
        "\\\n",
        "\n",
        "Here, I changed way of thought a little.\n",
        "\n",
        "\\\n",
        "It is one step or two steps to go up.\n",
        "\n",
        "\n",
        "\\\n",
        "You can go up to the 3rd stair either from the 1st stair or from the 2nd stair,\n",
        "\n",
        " both of which are one way.\n",
        "\n",
        "\n",
        "\\\n",
        "The number that goes up to the 3rd stair is \n",
        "\n",
        "(the number that goes up to the 1st step) $\\times$ 1 +\n",
        "\n",
        " (the number that goes up to the 2nd step) $\\times$ 1.\n",
        "\n",
        "\n",
        "\\\n",
        "The method of going up to the third stair can be calculated \n",
        "\n",
        "as 1 $\\times$ 1 + 2 $\\times$ 1 = 1 + 2 = 3 ways.\n",
        "\n",
        "\n",
        "\n",
        "\\\n",
        "\n",
        "Similarly, there are two ways to go up to the 4th step is to go up \n",
        "\n",
        "from the 2nd stair or the 3rd stair.\n",
        "\n",
        "\n",
        "\\\n",
        "4th stage = (ways to 2nd stair) $\\times$ 1 + (ways to 3rd stage) $\\times$ 1 \n",
        "\n",
        "\\= (ways to 2nd stair) + (ways to 3rd stair) = 2 + 3 = 5 ways\n",
        "\n",
        "\n",
        "\\\n",
        "5th stage = (ways to 3rd stair) + (way to 4th stair) = 3 + 5 = 8 ways\n",
        "\n",
        "\n",
        "\n",
        "\\\n",
        "\n",
        "You can see that you should count up to 12 steps in this condition\n",
        "\n",
        "\n",
        "\\\n",
        "③1 ＋ 2 ＝ 3, \n",
        "\n",
        "④2 ＋ 3 ＝ 5, \n",
        "\n",
        "⑤3 ＋ 5 ＝ 8, \n",
        "\n",
        "⑥5 ＋ 8 ＝ 13, \n",
        "\n",
        "⑦8 ＋ 13 ＝ 21, \n",
        "\n",
        "⑧13 ＋ 21 ＝ 34\n",
        "\n",
        "⑨21 ＋ 34 ＝ 55,\n",
        "\n",
        "⑩34 ＋55 ＝ 89,  \n",
        "\n",
        "⑪55 ＋ 89 ＝ 144, \n",
        "\n",
        "⑫89 ＋ 144 ＝ 233 ways ---- (Answer)\n",
        "\n",
        "\n",
        "\\\n",
        "As you all may know, it's a Fibonacci sequence.\n",
        "\n",
        "\n",
        "\n",
        "\\\n",
        "\n",
        "[ Python ]\n",
        "\n",
        "\n",
        "\n",
        "Since it is 1 step or 2 steps for going up, create a stair number list with `list1`\n",
        "\n",
        "\n",
        "\\\n",
        "Set the number of steps to go up to the maximum of 12 steps (a ~ l)\n",
        "\n",
        "\\\n",
        "Create a list called `numbers` that contains all possible going up patterns\n",
        "\n",
        "\n",
        "\\\n",
        "The minimum number of steps is 12 $\\div$ 2 = 6 steps\n",
        "\n",
        "and the maximum number of steps is 12 $\\div$ 1 = 12 steps.\n",
        "\n",
        "\n",
        "\\\n",
        "So, there are 7 ways from `a + b + c + d + e + f` \n",
        "\n",
        "to` a + b + c + d + e + f + g + h + i + j + k + l`.\n",
        "\n",
        "\n",
        "\\\n",
        "Count when the total is 12\n",
        "\n",
        "\n",
        "\n",
        "\\\n",
        "\n",
        "For example, if `a + b + c + d + e + f = 12`, the remaining variables \n",
        "\n",
        "from g to l can be ignored.\n",
        "\n",
        "\n",
        "\\\n",
        "Only `(a, b, c, d, e, f)` should be `append` in the` numbers` list.\n",
        "\n",
        "\n",
        "\n",
        "In this case, `(a, b, c, d, e, f)` is only (2, 2, 2, 2, 2, 2) is applicable.\n",
        "\n",
        "\\\n",
        "There are 2 $\\times$ 2 $\\times$ 2 $\\times$ 2 $\\times$ 2 $\\times$ 2 = 64 ways in the remaining `g to l`.\n",
        "\n",
        "\\\n",
        "That means there are 64 (2, 2, 2, 2, 2, 2, g, h, i, j, k, l) in the `numbers` list.\n",
        "\n",
        "\n",
        "\\\n",
        "The same thing will happen in other cases from \n",
        "\n",
        "`a + b + c + d + e + f + g` to `a + b + .... + k`\n",
        "\n",
        "\n",
        "\n",
        "\\\n",
        "\n",
        "The same combination must be counted as one, so if you count to the end, \n",
        "\n",
        "you should change the list_type`numbers` to the set_type by using `set()` \n",
        "\n",
        "\n",
        "\\\n",
        "Put the set_type `number` in `answer` and output.\n",
        "\n",
        "\n",
        "\\\n",
        "When outputting `answer`, if` len (answer) `is used, \n",
        "\n",
        "the number of elements in the set can be counted.\n",
        "\n",
        "\\\n",
        "In the case of a set, even if the order is different, \n",
        "\n",
        "in case the same element is included, it is counted as one.\n",
        "\n",
        "\\\n",
        "As for `set`, please refer to [here](https://colab.research.google.com/github/vrry/learning-phyton/blob/learning-sets/PY0101EN_2_3_Sets.ipynb) for more details. \n",
        "\n",
        "\\\n",
        "It's a bit long code, but the idea is very simple.\n",
        "\n",
        "\n",
        "\n"
      ],
      "metadata": {
        "id": "WfxduOccOmBP"
      }
    },
    {
      "cell_type": "code",
      "source": [
        ""
      ],
      "metadata": {
        "id": "ort0_yCyvPh4"
      },
      "execution_count": null,
      "outputs": []
    },
    {
      "cell_type": "code",
      "source": [
        "#sample\n",
        "\n",
        "list1 = [1, 2]\n",
        "\n",
        "list2 = [[a,b,c,d,e,f,g,h,i,j,k,l] for a in list1 for b in list1 for c in list1 for d in list1 for e in list1 for f in list1 for g in list1 for h in list1 for i in list1 for j in list1 for k in list1 for l in list1]\n",
        "\n",
        "numbers = []\n",
        "\n",
        "for a,b,c,d,e,f,g,h,i,j,k,l in list2 :\n",
        "  if a + b + c + d + e + f == 12 :\n",
        "    numbers.append((a,b,c,d,e,f))\n",
        " \n",
        "  elif a + b + c + d + e + f + g == 12 : \n",
        "    numbers.append((a,b,c,d,e,f,g))\n",
        "    \n",
        "  elif a + b + c + d + e + f + g + h == 12 :\n",
        "    numbers.append((a,b,c,d,e,f,g,h))\n",
        "   \n",
        "  elif a + b + c + d + e + f + g + h + i == 12 :\n",
        "    numbers.append((a,b,c,d,e,f,g,h,i))   \n",
        "\n",
        "  elif a + b + c + d + e + f + g + h + i + j == 12 :\n",
        "    numbers.append((a,b,c,d,e,f,g,h,i,j)) \n",
        "\n",
        "  elif a + b + c + d + e + f + g + h + i + j + k == 12 :\n",
        "    numbers.append((a,b,c,d,e,f,g,h,i,j,k)) \n",
        "\n",
        "  elif a + b + c + d + e + f + g + h + i + j + k + l == 12 :\n",
        "    numbers.append((a,b,c,d,e,f,g,h,i,j,k,l)) \n",
        "    \n",
        "answer = set(numbers)\n",
        "\n",
        "print(len(answer), 'ways')\n"
      ],
      "metadata": {
        "id": "XNefYk2GvQNG"
      },
      "execution_count": null,
      "outputs": []
    },
    {
      "cell_type": "markdown",
      "source": [
        "\n",
        "Since there is another code that uses `combinations` function (program that \n",
        "\n",
        "calculates combinations) in `itertools` module as shown below for your reference.\n",
        "\n",
        "\n",
        "\\\n",
        "It's more fun to devise a program than to rely on a convenient program.\n",
        "\n"
      ],
      "metadata": {
        "id": "uz6WDfCsNJKJ"
      }
    },
    {
      "cell_type": "code",
      "metadata": {
        "id": "kqodcANozSKg"
      },
      "source": [
        "#sample using itertools\n",
        "#From 12 / 1 ＝ 12 and  12 / 2 ＝ 6, steps are at most 12 and at least 6.\n",
        "#Let i be number of times of 1 and j be 2\n",
        "#If the sum is 12, calculate how to arrange i times of 1s and j times of  2s.\n",
        "\n",
        "\n",
        "from itertools import combinations\n",
        "\n",
        "sum = 0\n",
        "count = 0\n",
        "\n",
        "for i in range(13) :\n",
        "  for j in range(7) :\n",
        "    sum = 1 * i + 2 * j\n",
        "    if sum == 12 :\n",
        "      ij_list = [1] * i + [2] * j\n",
        "      list1 = list(combinations(ij_list, i))\n",
        "      n = len (list1)                                     #len() tells the number in the list\n",
        "      count += n\n",
        "\n",
        "print (count,'ways')\n",
        "\n"
      ],
      "execution_count": null,
      "outputs": []
    },
    {
      "cell_type": "markdown",
      "metadata": {
        "id": "o_3_CYJ_Ed_E"
      },
      "source": [
        "### 4 people are rock-paper-scissors\n",
        "\n",
        "---\n",
        "\n",
        "Q?\n",
        "\n",
        "\n",
        "\n",
        "Four people, A, B, C and D, play rock-paper-scissors.\n",
        "\n",
        "\n",
        "\\\n",
        "(1) How many ways are there in total?\n",
        "\n",
        "(2) How many ways are there to be draw?\n",
        "\n",
        "\n"
      ]
    },
    {
      "cell_type": "markdown",
      "metadata": {
        "id": "dG3RnvslVlhX"
      },
      "source": [
        "ーーーーーーーーーーーーーーーーーーーーーーーーーーーーーーーーーーーーーーーーー\n",
        "\n",
        "\n",
        "[ Arithmetic solution ]\n",
        "\n",
        "\n",
        "\n",
        "(1) Since each person has 3 ways of rock, paper and scissors to play, \n",
        "\n",
        "3 $\\times$ 3 $\\times$ 3 $\\times$ 3 = 81 ways ... (Answer)\n",
        "\n",
        "\n",
        "\\\n",
        "(2) Case_1 If everyone has the same hand, there are 3 ways\n",
        "\n",
        "\n",
        "\\\n",
        "Case_2 When two people throw the same hand and the other two throw different hands\n",
        "\n",
        "\n",
        "\\\n",
        "There are 6 ways to choose 2 out of 4 people.\n",
        "\n",
        "3 ways to throw the same hand, rock, paper and scissors.\n",
        "\n",
        "2 ways to choose 2 different hands.\n",
        "\n",
        "6 $\\times$ 3 $\\times$ 2 = 36 ways in total.\n",
        "\n",
        "\\\n",
        "Case_1 + Case_2 = 39 ways ... (answer)\n",
        "\n",
        "\n",
        "\n",
        "\\\n",
        "\n",
        "[ Python ]\n",
        "\n",
        "\n",
        "\n",
        "The counter of (1) is set to `count1`, the counter of (2) is set to` count2`, and 0 is set at first.\n",
        "\n",
        "\n",
        "\n",
        "\\\n",
        "\n",
        "There are 3 types of hands, rock, paper and scissors, \n",
        "\n",
        "so the total combination of how to throw hands of 4 people is \n",
        "\n",
        "1, 2, and 3, respectively.\n",
        "\n",
        "\n",
        "\\\n",
        "In the same way as the above problem, count the number of loops under this \n",
        "\n",
        "for loop (multiple loop), and count the number of loops wich is the answer of (1).\n",
        "\n",
        "        for a in 1,2,3:\n",
        "          for b in 1,2,3:\n",
        "            for c in 1,2,3:\n",
        "              for d in 1,2,3:\n",
        "                count1 += 1\n",
        "\n",
        "Draw is Case_1 when four people have the same hand.\n",
        "\n",
        "                if a == b == c == d:\n",
        "                  count2 += 1\n",
        "\n",
        "Case_2  It is troublesome in case two people throw the same hand \n",
        "\n",
        "and the other two have different hands.\n",
        "\n",
        "\n",
        "                if (a == b and a! = c and a! = d and c! = d) \\\n",
        "                or (a == c and a != b and a != d and b != d)\\\n",
        "                or (a == d and a != b and a != c and b != c)\\\n",
        "                or (b == c and b != a and b != d and a != d)\\\n",
        "                or (b == d and b != a and b != c and a != c)\\\n",
        "                or (c == d and c != a and c != b and a != b):\n",
        "                  count2 += 1\n",
        "\n",
        " When separating lines in long code, separate them with `\\` (back slash)\n",
        " \n",
        " and continue to the line below.\n",
        "\n",
        "\n",
        "\\\n",
        " If it applies to any of the 6 patterns, it will be a draw, \n",
        " \n",
        " so all the conditions can be connected with `or`.\n",
        "\n",
        "\\\n",
        "When the loop is over, the result is output at the end\n",
        "\n",
        "\n",
        "             print ('(1)', count1, 'ways')\n",
        "             print ('(2)', count2, 'ways')\n",
        "\n",
        "Since it is outside the for loop indent, the beginning of print is the left end.\n",
        "\n",
        "\n",
        "\n",
        "  \n"
      ]
    },
    {
      "cell_type": "code",
      "metadata": {
        "id": "Q30V5s1XIxv_"
      },
      "source": [
        "#sample\n",
        "\n",
        "count1 = 0\n",
        "count2 = 0\n",
        "for a in 1, 2, 3:\n",
        "  for b in 1, 2, 3:\n",
        "    for c in 1, 2, 3:\n",
        "      for d in 1, 2, 3:\n",
        "        count1 += 1\n",
        "        if a == b == c == d:\n",
        "          count2 += 1\n",
        "        if (a == b and a != c and a != d and c != d)\\\n",
        "        or (a == c and a != b and a != d and b != d)\\\n",
        "        or (a == d and a != b and a != c and b != c)\\\n",
        "        or (b == c and b != a and b != d and a != d)\\\n",
        "        or (b == d and b != a and b != c and a != c)\\\n",
        "        or (c == d and c != a and c != b and a != b):\n",
        "          count2 += 1\n",
        "          #print(a, b, c, d)       #それぞれの手を表示させたいとき(#をはずす) \n",
        "print('(1)', count1, 'ways')\n",
        "print('(2)', count2, 'ways')\n"
      ],
      "execution_count": null,
      "outputs": []
    },
    {
      "cell_type": "code",
      "source": [
        ""
      ],
      "metadata": {
        "id": "mRzMS9ozLiR0"
      },
      "execution_count": null,
      "outputs": []
    },
    {
      "cell_type": "markdown",
      "metadata": {
        "id": "ONvXdLhuMTgd"
      },
      "source": [
        "ーーーーーーーーーーーーーーーーーーーーーーーーーーーーーーーーーーーーーーーーー\n",
        "\n",
        "\n",
        "[ Python another solution ]\n",
        "\n",
        "\n",
        "\n",
        "Method to calculate according to rock, paper, scissors as 1, 10, 100\n",
        "\n",
        "\\\n",
        "Case of Case_2 can be expressed as follows\n",
        "\n",
        "\n",
        "1 + 1 + 10 + 100 = 112\n",
        "\n",
        "\n",
        "1 ＋ 10 ＋ 10 ＋ 100 ＝ 121\n",
        "\n",
        "\n",
        "1 ＋ 10 ＋ 100 ＋ 100 ＝ 211\n",
        "\n",
        "\n"
      ]
    },
    {
      "cell_type": "code",
      "source": [
        ""
      ],
      "metadata": {
        "id": "98vcEE3Wm4WZ"
      },
      "execution_count": null,
      "outputs": []
    },
    {
      "cell_type": "code",
      "metadata": {
        "id": "SHd5pRQ9Li6b"
      },
      "source": [
        "count1 = 0\n",
        "count2 = 0\n",
        "for a in 1, 10, 100:\n",
        "  for b in 1, 10, 100:\n",
        "    for c in 1, 10, 100:\n",
        "      for d in 1, 10, 100:\n",
        "        count1 += 1\n",
        "        if a == b == c == d :\n",
        "          count2 += 1\n",
        "        if (a + b + c + d == 112) or (a + b + c + d == 121) or (a + b + c + d == 211):\n",
        "          count2 += 1\n",
        "          #print(a,b,c,d)       #それぞれの手を表示させたいとき(#をはずす) \n",
        "print('(1)', count1, 'ways')\n",
        "print('(2)', count2, 'ways')\n"
      ],
      "execution_count": null,
      "outputs": []
    },
    {
      "cell_type": "markdown",
      "source": [
        "### 5 apples and 6 oranges in 3 baskets a, b, c"
      ],
      "metadata": {
        "id": "7_qq3SAb3V2q"
      }
    },
    {
      "cell_type": "markdown",
      "metadata": {
        "id": "nGDlv4Mi3OeN"
      },
      "source": [
        "---\n",
        "\n",
        "Q?\n",
        "\n",
        "\n",
        "\n",
        "Put 5 apples and 6 oranges in 3 baskets of a, b and c, and put 1 or more both \n",
        "\n",
        "of apple and orange in any of the baskets.\n",
        "\n",
        "\n",
        "\\\n",
        "How many ways to put in with nothing left?\n",
        "\n"
      ]
    },
    {
      "cell_type": "markdown",
      "source": [
        "ーーーーーーーーーーーーーーーーーーーーーーーーーーーーーーーーーーーーーーーーー\n",
        "\n",
        "\n",
        "[ Arithmetic solution ]\n",
        "\n",
        "\n",
        "\n",
        "The way to divide 5 apples into 3 is (1, 1, 3), (1, 2, 2).\n",
        "\n",
        "\\\n",
        "As you put them in the basket of a, b, c,  there are 6 ways, 3 ways and 3 ways\n",
        "\n",
        "in each case.\n",
        "\n",
        "\n",
        "\\\n",
        "The way to divide 6 oranges into 3 is (1, 1, 4), (1, 2, 3), (2, 2, 2).\n",
        "\n",
        "\\\n",
        "As you put them in the basket of a, b, c, there are in total 10 ways of\n",
        "\n",
        "first case is 3 ways in the forst csae, 3 x 2 x 1 = 6 ways in the second case \n",
        "\n",
        "and 1 way in the last case.\n",
        "\n",
        "\n",
        "\n",
        "In grand total, 6 x 10 = 60 ways ... (answer)\n",
        "\n",
        "\n",
        "\n",
        "\\\n",
        "\n",
        "[ Python ]\n",
        "\n",
        "\n",
        "\n",
        "Up to 3 apples and 4 oranges in one basket according to the conditions\n",
        "\n",
        "\n",
        "\n",
        "\\\n",
        "\n",
        "The number of oranges in one basket is 1 to 4.\n",
        "\n",
        "\\\n",
        "\n",
        "The number of apples in one basket is 1 to 3 and \n",
        "\n",
        "in order to distinguish the number of oranges, \n",
        "\n",
        "the number of apples is set to 10, 20, 30.\n",
        "\n",
        "    orange_list = [1, 2, 3, 4]\n",
        "\n",
        "    apple_list = [10, 20, 30]\n",
        "\n",
        "\n",
        "The code that creates a list  (`list1`) of the total number of both\n",
        "\n",
        "    list1 = []\n",
        "    for x in apple_list:\n",
        "      for y in orange_list:\n",
        "        list1.append(x + y)\n",
        "\n",
        "\n",
        "If you write this in one line in a list comprehension,\n",
        "\n",
        "    list1=[(x + y) for x in apple_list for y in orange_list]\n",
        "\n",
        "\\\n",
        "\n",
        "Let `count = 0` to count the number of cases\n",
        "\n",
        "\\\n",
        "Create all cases of the total number of apples and oranges in a, b, c from list1.\n",
        "\n",
        "    count = 0\n",
        "\n",
        "    for a in list1:\n",
        "      for b in list1:\n",
        "        for c in list1:\n",
        "\n",
        "The total number of oranges is 6, so it is 6.\n",
        "\n",
        "\\\n",
        "The total number of apples is 5, so it is 50.\n",
        "\n",
        "\\\n",
        "Count only when the total of all becomes 56,\n",
        "\n",
        "          if a + b + c == 56:\n",
        "            count += 1\n",
        "\n",
        "Finally output the count number\n",
        "\n",
        "    print (count, \"ways\")\n",
        "\n",
        "\n"
      ],
      "metadata": {
        "id": "T1wWWxejHoDs"
      }
    },
    {
      "cell_type": "code",
      "source": [
        ""
      ],
      "metadata": {
        "id": "9QvA4NHmd_cK"
      },
      "execution_count": null,
      "outputs": []
    },
    {
      "cell_type": "code",
      "metadata": {
        "id": "BGxPva1Id_58"
      },
      "source": [
        "#sample\n",
        "\n",
        "orange_list=[1, 2, 3, 4]\n",
        "apple_list = [10, 20, 30]\n",
        "\n",
        "list1 = []\n",
        "for x in apple_list:\n",
        "  for y in orange_list:\n",
        "    list1.append(x + y)\n",
        "\n",
        "count = 0\n",
        "for a in list1:\n",
        "  for b in list1:\n",
        "    for c in list1:\n",
        "      #print(a, b, c)\n",
        "      if a + b + c == 56:\n",
        "        #print(a, b, c)\n",
        "        count += 1\n",
        "\n",
        "print(count, \"ways\")"
      ],
      "execution_count": null,
      "outputs": []
    },
    {
      "cell_type": "markdown",
      "metadata": {
        "id": "cPjTbGaJU9eG"
      },
      "source": [
        "###multiple\n"
      ]
    },
    {
      "cell_type": "markdown",
      "metadata": {
        "id": "KcMeJKH2U9eG"
      },
      "source": [
        "---\n",
        "Q?\n",
        "\n",
        "\n",
        "Distribute apples to a group of girls and boys. \n",
        "\n",
        "\\\n",
        "If you distribute 4 to each girl and 3 to 1 boy, you can distribute all with no remainder.\n",
        "\n",
        "\n",
        "\\\n",
        "Iif you distribute 3 to each girl and 5 to each boy, you can distribute all with no remainder.\n",
        "\n",
        "\n",
        "\\\n",
        "However, if you give 5 to each girl and 2 to each boy, you run out of 9 apples.\n",
        "\n",
        "\n",
        "\\\n",
        "Find the number of apples.\n",
        "\n"
      ]
    },
    {
      "cell_type": "markdown",
      "metadata": {
        "id": "BeTdaCCXU9eH"
      },
      "source": [
        "ーーーーーーーーーーーーーーーーーーーーーーーーーーーーーーーーーーーーーーーーー\n",
        "\n",
        "\n",
        "[ Arithmetic solution ]\n",
        "\n",
        "\n",
        "\n",
        "If the number of girls is set to `g` and the number of boys is set tp `b', \n",
        "\n",
        "the problem statement is expressed in a formula.\n",
        "\n",
        "\n",
        "\\\n",
        "4 $\\times$ g + 3 $\\times$ b ＝ 3 $\\times$ g ＋ 5 $\\times$ b\n",
        "\n",
        "\n",
        "\\\n",
        "From this formula, we can see that 1 $\\times$ g = 2 $\\times$ b, \n",
        "\n",
        "so the number of girls is twice that of boys.\n",
        "\n",
        "\n",
        "\\\n",
        "Assuming that the number of boys is set to `x`, the number of girls is 2`x` \n",
        "\n",
        "and the number of apples is 4 $\\times$ 2`x` + 3 $\\times$ `x` = 11`x`.\n",
        "\n",
        "\n",
        "\\\n",
        "From the last condition, from 5 $\\times$ 2`x` ＋ 2 $\\times$ `x` - 9 \n",
        "\n",
        "＝ 12`x` － 9 ＝ 11`x`.\n",
        "\n",
        "Accordingly `x` ＝ 9.\n",
        "\n",
        "\n",
        "\\\n",
        "Therefore, the number of apples is 9 $\\times$ 11 = 99 ... (answer)\n",
        "\n",
        "\n",
        "\n",
        "\\\n",
        "\n",
        "[ Python ]\n",
        "\n",
        "\n",
        "\\\n",
        "\n",
        "Assuming that the number of girls is g and the number of boys is b,\n",
        "\n",
        "examine all combinations in the range of 1 to 100.\n",
        "\n",
        "\\\n",
        "The calculation results of the three equations of the condition are equal.\n",
        "\n",
        "\\\n",
        "Formulas representing the number of apples are\n",
        "\n",
        "4 $\\times$ g + 3 $\\times$ b ＝ 3 $\\times$ g ＋ 5 $\\times$ b \n",
        "\n",
        "＝ 5 $\\times$ g ＋ 2 $\\times$ b - 9 \n",
        "\n",
        "\n",
        "\\\n",
        "If you find the number of people under this condition,\n",
        "\n",
        "the number of apples is calculated, the result is output.\n",
        "\n",
        "\n"
      ]
    },
    {
      "cell_type": "code",
      "source": [
        ""
      ],
      "metadata": {
        "id": "AIKd50P7RJ3O"
      },
      "execution_count": null,
      "outputs": []
    },
    {
      "cell_type": "code",
      "metadata": {
        "id": "JI_3H5jWU9eH"
      },
      "source": [
        "#sample\n",
        "\n",
        "for g in range(1,101):\n",
        "  for b in range(1,101):\n",
        "    if 4 * g + 3 * b == 3 * g + 5 * b == 5 * g + 2 * b - 9:\n",
        "      print(4 * g + 3 * b, 'pieces')\n"
      ],
      "execution_count": null,
      "outputs": []
    },
    {
      "cell_type": "markdown",
      "source": [
        "\n",
        "`var`function in `sympy` module came up in the backward calculation.\n",
        "\n",
        "\\\n",
        "`var`function determines variables.\n",
        "\n",
        "\\\n",
        "`solve` function is also in `sympy` module which solves an equation.\n",
        "  \n",
        "\\\n",
        "There is anther solution to use the above functions, but it will come out later.\n",
        "\n"
      ],
      "metadata": {
        "id": "MeJJ7CmhTcvw"
      }
    },
    {
      "cell_type": "markdown",
      "metadata": {
        "id": "ujLKFSCgJnUu"
      },
      "source": [
        "---\n",
        "Q?\n",
        "\n",
        "\n",
        "Show all combinations where the sum of the two dice, large and small, is a multiple of 5.\n",
        "\n",
        "\n",
        "\\\n",
        "Output as (large, small)  =  (xx, yy)\n",
        "\n",
        "\n"
      ]
    },
    {
      "cell_type": "markdown",
      "metadata": {
        "id": "aNVMDdgng0d2"
      },
      "source": [
        "ーーーーーーーーーーーーーーーーーーーーーーーーーーーーーーーーーーーーーーーーー\n",
        "\n",
        "\n",
        "If the number of eye of large dice is `x` and eye of small dice is `y`, \n",
        "\n",
        "both numbers are 1 to 6.\n",
        "\n",
        "\n",
        "\\\n",
        "Make all combinations of numbers `x` and `y`\n",
        "\n",
        "\\\n",
        "The set of `x` and `y` applying to `(x + y) % 5 == 0` is to be found.\n",
        "\n",
        "\n",
        "Output it, if any\n",
        "\n"
      ]
    },
    {
      "cell_type": "code",
      "metadata": {
        "id": "0mTJzMFSJ7z5"
      },
      "source": [
        "#sample\n",
        "\n",
        "for x in range(1, 7) :\n",
        "  for y in range(1, 7) :\n",
        "    if (x + y) % 5 == 0:\n",
        "      print(\"(large, small）= (\", x, \",\", y, \")\")\n",
        "\n"
      ],
      "execution_count": null,
      "outputs": []
    },
    {
      "cell_type": "markdown",
      "source": [
        "###Velocity"
      ],
      "metadata": {
        "id": "ky0yPfjw4hjw"
      }
    },
    {
      "cell_type": "markdown",
      "source": [
        "---\n",
        "Q?\n",
        "\n",
        "\n",
        "How many minutes does it take to move at a speed of 120 m/min, \n",
        "\n",
        "while it takes 27 minutes to move at a speed of 24 km/h?\n",
        "\n"
      ],
      "metadata": {
        "id": "BGVoUOn-keAJ"
      }
    },
    {
      "cell_type": "markdown",
      "source": [
        "ーーーーーーーーーーーーーーーーーーーーーーーーーーーーーーーーーーーーーーーーー\n",
        "\n",
        "\n",
        "This can be solved as an arithmetic problem, but\n",
        "\n",
        "it would be solved with Python code.\n",
        "\n",
        "\n",
        "\\\n",
        "(Distance) = (Speed) $\\times$ (Time)\n",
        "\n",
        "\n",
        "\\\n",
        "The code to calculate distance by aligning the units with minutes and meters is\n",
        "\n",
        "\n",
        "    distance_m = 24 * 27/60 * 1000\n",
        "\n",
        "\n",
        "The time it takes to move this distance at 120m/min is \n",
        "\n",
        "(time) = (distance) $\\div$ (speed), \n",
        "\n",
        "and the code to calculate this is\n",
        "\n",
        "\n",
        "    time = distance_m / 120\n",
        "\n",
        "Output the time it takes\n",
        "\n",
        "\n",
        "    print (time, \"minutes\")\n",
        "\n",
        "\n",
        "\n",
        "ーーーーーーーーーーーーーーーーーーーーーーーーーーーーーーーーーーーーーーーーー\n",
        "\n",
        "\n",
        "The English word for speed is `speed`, but` velocity` is also often used.\n",
        "\n",
        "\n",
        "\\\n",
        "We often see `V` in the English letter for speed, which is an acronym for velocity.\n",
        "\n",
        "\\\n",
        "The difference between spped and velocity is that velocity is used not only\n",
        "\n",
        "as speed but also as \"speed with a fixed direction\".\n",
        "\n",
        "\\\n",
        "\n",
        "The image is velocity = speed + direction\n",
        "\n"
      ],
      "metadata": {
        "id": "5TdUdJPYklor"
      }
    },
    {
      "cell_type": "code",
      "metadata": {
        "id": "AjIDy-rdJ6Uu"
      },
      "source": [
        "#sample\n",
        "\n",
        "distance_m = 24 * 27/60 * 1000\n",
        "\n",
        "time = distance_m / 120\n",
        "\n",
        "print(time, \"minutes\")\n",
        "\n",
        "print(int(time), \"minutes\")    #When you want to make time an integer\n",
        "\n",
        "\n"
      ],
      "execution_count": null,
      "outputs": []
    },
    {
      "cell_type": "markdown",
      "source": [
        "---\n",
        "Q?\n",
        "\n",
        "Find `x`\n",
        "\n",
        "It takes `x` minutes to run at a speed of 120 m/min \n",
        "\n",
        "and 14 minutes to run at a speed of 18 km/h.\n",
        "\n"
      ],
      "metadata": {
        "id": "2qXi-X59rkkj"
      }
    },
    {
      "cell_type": "markdown",
      "source": [
        "ーーーーーーーーーーーーーーーーーーーーーーーーーーーーーーーーーーーーーーーーー\n",
        "\n",
        "\n",
        "You can solve it from the second half of the problem sentence.\n",
        "\n",
        "\n",
        "\\\n",
        "As for the problem of speed, we can find a condition to know \n",
        "\n",
        "any two of the three elements (speed), (time), and (distance).\n",
        "\n",
        "\n",
        "\\\n",
        "(Distance) = (Speed) x (Time)\n",
        "\n",
        "\n",
        "    `distance_m = 18 * 14/60 * 1000`\n",
        "\n",
        "The time it takes to run this distance at 120m/min is \n",
        "\n",
        "(time) = (distance) $\\div$ (speed), \n",
        "\n",
        "and the code to calculate this is\n",
        "\n",
        "    time = distance_m / 120\n",
        "\n",
        "\n",
        "Output the time it takes\n",
        "\n",
        "    print (time, \"minutes\")\n",
        "\n"
      ],
      "metadata": {
        "id": "NVMzUjeNsCPP"
      }
    },
    {
      "cell_type": "code",
      "source": [
        ""
      ],
      "metadata": {
        "id": "nMnqcGPys6ED"
      },
      "execution_count": null,
      "outputs": []
    },
    {
      "cell_type": "code",
      "metadata": {
        "id": "U9I_ocDPs6hq"
      },
      "source": [
        "#sample\n",
        "\n",
        "distance_m = 18 * 14/60 * 1000\n",
        "\n",
        "time = distance_m / 120\n",
        "\n",
        "#print(time, \"minutes\")\n",
        "\n",
        "print(int(time), \"minutes\")   \n",
        "\n"
      ],
      "execution_count": null,
      "outputs": []
    },
    {
      "cell_type": "markdown",
      "source": [
        "---\n",
        "Q?\n",
        "\n",
        "\n",
        "Alice and Bob competed in the 100m dash.\n",
        "\n",
        "\n",
        "\n",
        "When Alice reached the goal, Bob was 10m to the goal.\n",
        "\n",
        "\n",
        "\n",
        "If Alice starts 10m behind the starting point, who will win?\n",
        "\n"
      ],
      "metadata": {
        "id": "cKNf160QtN69"
      }
    },
    {
      "cell_type": "markdown",
      "source": [
        "ーーーーーーーーーーーーーーーーーーーーーーーーーーーーーーーーーーーーーーーーー\n",
        "\n",
        "\n",
        "[ Arithmetic solution ]\n",
        "\n",
        "\n",
        "\n",
        "From the condition at the first sentence of the question, \n",
        "\n",
        "the ratio of the speed of Alice and Bob is 100 : 90 = 10 : 9.\n",
        "\n",
        "\n",
        "\\\n",
        "Under the following conditions, Alice runs 100 + 10 = 110m and Bob runs 100m,\n",
        "\n",
        " so you can compare the time ratios.\n",
        "\n",
        "\n",
        "\\\n",
        "(110 $\\div$ 10): (100 $\\div$ 9) ＝ 11: 100/9 ＝ 99: 100, \n",
        "\n",
        "Therefore Alice wins ... (Answer)\n",
        "\n",
        "\n",
        "\n",
        "\\\n",
        "\n",
        "[ Python ]\n",
        "\n",
        "\n",
        "\n",
        "The idea is the same as above problem, \n",
        "\n",
        "assuming that Alice's velicity = alice_v and Bob's speed = bob_v.\n",
        "\n",
        "    alice_v = 100\n",
        "\n",
        "    bob_v = 90\n",
        "\n",
        "Let's assume that each goal time in the next competition is \n",
        "\n",
        "`alice_t` and` bob_t`, respectively.\n",
        "\n",
        "\n",
        "    alice_t = (100 + 10) / alice_v\n",
        "\n",
        "    bob_t = 100 / bob_v\n",
        "\n",
        "If you make an if statement which states who will win.\n",
        "\n",
        "\n",
        "    if alice_t < bob_t:\n",
        "      print (\"Alice wins\")\n",
        "    elif alice_t == bob_t:\n",
        "      print (\"Draw\")\n",
        "    else:\n",
        "      print (\"Bob wins\")\n"
      ],
      "metadata": {
        "id": "ZBp8w45yuCtV"
      }
    },
    {
      "cell_type": "code",
      "source": [
        ""
      ],
      "metadata": {
        "id": "9xSoiUylxYRx"
      },
      "execution_count": null,
      "outputs": []
    },
    {
      "cell_type": "markdown",
      "source": [
        "---\n",
        "Q?\n",
        "\n",
        "\n",
        "From point A to point B, when going at 3 km/h and returning at 6 km/h, \n",
        "\n",
        "what is the average speed per hour?\n",
        "\n"
      ],
      "metadata": {
        "id": "n_3j_NSZxccb"
      }
    },
    {
      "cell_type": "markdown",
      "source": [
        "ーーーーーーーーーーーーーーーーーーーーーーーーーーーーーーーーーーーーーーーーー\n",
        "\n",
        "[ Arithmetic solution ]\n",
        "\n",
        "\n",
        "\n",
        "Note that (average speed) = (round_trip  distance) / (round_trip  time).\n",
        "\n",
        "\n",
        "\n",
        "\\\n",
        "\n",
        "Since the distance between AB is not written, you can decide it yourself.\n",
        "\n",
        "\n",
        "\\\n",
        "For this problem, it is easy to calculate if 3 $\\times$ 6 = 18 km.\n",
        "\n",
        "\n",
        "\n",
        "\\\n",
        "\n",
        "(Round trip distance) = 18 $\\times$ 2 = 36km\n",
        "\n",
        "\n",
        "\n",
        "(Round trip time) = 18 $\\div$ 3 ＋ 18 $\\div$ 6 ＝ 6 ＋ 3 ＝ 9 hours\n",
        "\n",
        "\n",
        "\n",
        "Average speed = $\\dfrac{36}{9}$ ＝ 4 km/hour・・・(Answer)\n",
        "\n",
        "\n",
        "\n",
        "\n",
        "\n",
        "\\\n",
        "\n",
        "[ Python ]\n",
        "\n",
        "\n",
        "\n",
        "The solving method is the same as above problem, \n",
        "\n",
        "so think about the code yourself.\n",
        "\n",
        "\n",
        "\n"
      ],
      "metadata": {
        "id": "s4AOaBEvyF40"
      }
    },
    {
      "cell_type": "code",
      "metadata": {
        "id": "-j1kQaMPJ6Uu"
      },
      "source": [
        "\n",
        "#sample\n",
        "\n",
        "\n",
        "time_AtoB = 18/3\n",
        "\n",
        "time_BtoA = 18/6\n",
        "\n",
        "average_v = 18 * 2 / (time_AtoB + time_BtoA) \n",
        "\n",
        "print (int (average_v), \"km/h\") \n",
        "\n",
        "\n"
      ],
      "execution_count": null,
      "outputs": []
    },
    {
      "cell_type": "markdown",
      "metadata": {
        "id": "qDhvPNz2K8OL"
      },
      "source": [
        "###Age"
      ]
    },
    {
      "cell_type": "markdown",
      "metadata": {
        "id": "e-ZEWtQILB6r"
      },
      "source": [
        "---\n",
        "Q?\n",
        "\n",
        "\n",
        "Six years ago, the sum of the ages of my father, mother and elder brother was\n",
        "\n",
        "13 times my age. \n",
        " \n",
        "Now, the sum of the ages of the three is seven times my age.\n",
        "\n",
        "\n",
        "\\\n",
        "How old was I 6 years ago?\n",
        "\n",
        "\n"
      ]
    },
    {
      "cell_type": "markdown",
      "metadata": {
        "id": "aquVR_gl6yGo"
      },
      "source": [
        "ーーーーーーーーーーーーーーーーーーーーーーーーーーーーーーーーーーーーーーーーー\n",
        "\n",
        "\n",
        "[ Arithmetic solution ]\n",
        "\n",
        "\n",
        "\n",
        "Assuming that 6 years ago my age was `x`, \n",
        "\n",
        "the sum of the ages of the three is 13`x`.\n",
        "\n",
        "\n",
        "\\\n",
        "My current age is (`x` + 6) years old \n",
        "\n",
        "and the sum of the ages of the three is 13`x` ＋ 3 $\\times$ 6 ＝ 13`x` ＋18\n",
        "\n",
        "\\\n",
        "Therefore, (`x` ＋ 6) $\\times$ 7 ＝ 13`x` ＋18 \n",
        "\n",
        "and solve this, then `x` ＝ 4 years old ---- (Answer)\n",
        "\n",
        "\n",
        "\n",
        "\\\n",
        "\n",
        "[ Python ]\n",
        "\n",
        "\n",
        "\n",
        "My age 6 years ago is `myage` and the ages of 3 people are `A` \n",
        "\n",
        "and range of `myage` and `A` is to be set in 1 to 20, 13 to 100, respectively.\n",
        "\n",
        "\\\n",
        "If you find `myage` that meets the conditions, output it.\n",
        "\n",
        "\n",
        "\\\n",
        "The condition of `if statement` expresses the condition of the problem. \n",
        "\n",
        "\\\n",
        "Note that `A` is the sum of the ages of three people, \n",
        "\n",
        "so it will increase by three years in one year.\n",
        "\n",
        "    if A == myage * 13 and (myage + 6) * 7 == A + 3 * 6:\n",
        "\n"
      ]
    },
    {
      "cell_type": "code",
      "metadata": {
        "id": "qLNlvYwEMN1y"
      },
      "source": [
        "#sample\n",
        "\n",
        "for myage in range(1, 21):\n",
        "  for A in range(13, 101):\n",
        "     if A == myage * 13 and (myage + 6) * 7 == A + 3 * 6 :\n",
        "       print(myage, 'years old')\n",
        " "
      ],
      "execution_count": null,
      "outputs": []
    },
    {
      "cell_type": "markdown",
      "source": [
        "\n",
        "There is also a solution to this problem with sympy's `solve` program, \n",
        "\n",
        "but that will be done later.\n"
      ],
      "metadata": {
        "id": "XKURavor-VVa"
      }
    },
    {
      "cell_type": "markdown",
      "metadata": {
        "id": "KzhJuANdPM3q"
      },
      "source": [
        "###profit and loss\n",
        "\n"
      ]
    },
    {
      "cell_type": "markdown",
      "metadata": {
        "id": "bAJWDwIjPPPh"
      },
      "source": [
        "---\n",
        "Q?\n",
        "\n",
        "At a shop a bag was on the sale at the price with 30% profit of the cost price.\n",
        "\n",
        "But it was not sold, the price was discounted by 10% of the sales price.\n",
        "\n",
        "When this was sold, the shop got profit of 255 Japanese yen.\n",
        "\n",
        "Find the sales price of this bag.\n",
        "\n",
        "\n"
      ]
    },
    {
      "cell_type": "markdown",
      "metadata": {
        "id": "fuQxb7Jo_2Wd"
      },
      "source": [
        "ーーーーーーーーーーーーーーーーーーーーーーーーーーーーーーーーーーーーーーーーー\n",
        "\n",
        "\n",
        "[ Arithmetic solution ]\n",
        "\n",
        "\n",
        "\n",
        "Assuming that the cost price is 1, the sales price is 1 $\\times$ 1.3 = 1.3.\n",
        "\n",
        "\\\n",
        "The price after discount 1.3 $\\times$ (1 - 0.1) = 1.17.\n",
        "\n",
        "\n",
        "\\\n",
        "Since 0.17 is equivalent to the profit of 255 yen, \n",
        "\n",
        "the cost price 1 = 255 $\\div$ 0.17 = 1500 yen.\n",
        "\n",
        "\\\n",
        "The sales price is 1500 $\\times$ 1.3 = 1950 yen ... (Answer)\n",
        "\n",
        "\n",
        "\n",
        "\\\n",
        "\n",
        "[ Python ]\n",
        "\n",
        "\n",
        "\n",
        "Cost price is set as `cost` and the range is set to about 1000 to 5000 yen \n",
        "\n",
        "to search for `cost` that meets the conditions.\n",
        "\n",
        "\\\n",
        "If `cost` that meets the conditions is found, output it \n",
        "\n",
        "and break the for loop with break.\n",
        "\n",
        "\n",
        "\n",
        "\\\n",
        "\n",
        "Since the type of `cost` is float = decimal (floating point number), \n",
        "\n",
        "it is converted to int = integer and displayed with `int()`.\n",
        "\n",
        "\n",
        "\n",
        "\\\n",
        "\n",
        "The conditional statement is expressed by `iif statement`.\n",
        "\n",
        "\\\n",
        "\"if (the sales price) - (cost price) = (profit)\" is expressed as it is,\n",
        "\n",
        "\n",
        "    `cost * (1 + 0.3) * (1 - 0.1) - cost == 255`\n",
        "\n"
      ]
    },
    {
      "cell_type": "code",
      "metadata": {
        "id": "GF2zKzpTG5xO"
      },
      "source": [
        "#sample\n",
        "\n",
        "for cost in range(1000, 5000):\n",
        "  if cost * (1 + 0.3) * (1 - 0.1) - cost == 255:\n",
        "    print(cost * 1.3, 'yen')\n",
        "    print(int(cost * 1.3), 'yen')\n",
        "    break\n"
      ],
      "execution_count": null,
      "outputs": []
    },
    {
      "cell_type": "markdown",
      "source": [
        "###Numbers"
      ],
      "metadata": {
        "id": "Uql57YedmhCr"
      }
    },
    {
      "cell_type": "markdown",
      "metadata": {
        "id": "LxVHdHJShozF"
      },
      "source": [
        "---\n",
        "Q?\n",
        "\n",
        "\n",
        "Select two numbers from integers 2 to 9, and display all combinations of those\n",
        "\n",
        "that are divisors of either.\n"
      ]
    },
    {
      "cell_type": "markdown",
      "source": [
        "ーーーーーーーーーーーーーーーーーーーーーーーーーーーーーーーーーーーーーーーーー\n",
        "\n",
        "Let `x` and `y` be the two numbers to select \n",
        "\n",
        "and search for a combination that is divisible by y $\\div$ x.\n",
        "\n",
        "\n",
        "\\\n",
        "\"Select two numbers from integers 2 - 9\" means two numbers are not same.\n",
        "\n",
        "\n",
        "\\\n",
        "Select `x` from 2 to 9 and select `y` which is larger than `x`,\n",
        "\n",
        "check all combinations.\n",
        "\n",
        "\n",
        "\\\n",
        "Being a divisor means that \"`y` is divisible by `x`\".\n",
        "\n",
        "\n",
        "\\\n",
        "The condition can be expressed as `y % x == 0`\n",
        "\n"
      ],
      "metadata": {
        "id": "dtK4uU_7XqEM"
      }
    },
    {
      "cell_type": "code",
      "metadata": {
        "id": "y5kU6hMuipSe"
      },
      "source": [
        "#sample\n",
        "\n",
        "for x in range(2, 9) :\n",
        "  for y in range(x + 1, 10) :\n",
        "    if y % x == 0 :\n",
        "      print (x, \"is a divisor of\", y)\n"
      ],
      "execution_count": null,
      "outputs": []
    },
    {
      "cell_type": "markdown",
      "metadata": {
        "id": "f11Q6mWQ9MZD"
      },
      "source": [
        "---\n",
        "Q?\n",
        "\n",
        "\n",
        "Among integers such as 207, 2007, 20007, ..., where the beginning is 2, \n",
        "\n",
        "the end is 7, and the intervals are all 0s,\n",
        "\n",
        "find the smallest number that is divisible by 27 but not divisible by 81?\n",
        "\n"
      ]
    },
    {
      "cell_type": "markdown",
      "metadata": {
        "id": "dQTYACX19MZD"
      },
      "source": [
        "ーーーーーーーーーーーーーーーーーーーーーーーーーーーーーーーーーーーーーーーーー\n",
        "\n",
        "\n",
        "[ Arithmetic solution ]\n",
        "\n",
        "\n",
        "\n",
        "Since 2 + 7 = 9, we can see that this number is divisible by 9.\n",
        "\n",
        "\n",
        "\\\n",
        "Since 27 = 9 $\\times$ 3 and 81 = 9 $\\times$ 9, divide from 207, 2007,... in order \n",
        "\n",
        "and find a number whose quotient is divided by 3 and not divided by 9.\n",
        "\n",
        "\n",
        "\\\n",
        "207 $\\div$ 9 = 23  ------> not divisible by 3\n",
        "\n",
        "\n",
        "\\\n",
        "2007 $\\div$ 9 = 223  ------> not divisible by 3\n",
        "\n",
        "\n",
        "\\\n",
        "20007 $\\div$ 9 = 2223 ------> The sum of the numbers of each place = \n",
        "\n",
        "3 + 2 × 3 = 9, which is divisible by 3, but also divisible by 9 \n",
        "\n",
        "that is not applicable.\n",
        "\n",
        "\n",
        "\\\n",
        "200007 $\\div$ 9 = 22223  -------> not divisible by 3\n",
        "\n",
        "\n",
        "\\\n",
        "2000007 $\\div$ 9 = 222223 ------> not divisible by 3\n",
        "\n",
        "\n",
        "\\\n",
        "20000007 $\\div$ 9 = 2222223 -----> divisible by 3, not divisible by 9 \n",
        "\n",
        "→ 200000007 ------ (Answer)\n",
        "\n",
        "\n",
        "\\\n",
        "Even if you don't calculate everything, if you know the regularity of the quotient numbers, you don't need to divide.\n",
        "\n",
        "\n",
        "\n",
        "\n",
        "\n",
        "\\\n",
        "\n",
        "[ Python ]\n",
        "\n",
        "\n",
        "\n",
        "207 = 2 $\\times$ 100 + 7 = 2 $\\times$ (10 $\\times$ 10) + 7\n",
        "\n",
        "\n",
        "\n",
        "2007 = 2 $\\times$ 1000 + 7 = 2 $\\times$ (10 $\\times$ 10 $\\times$ 10) + 7\n",
        "\n",
        "\n",
        "\n",
        "20007 = 2 $\\times$ 10000 + 7 = 2 $\\times$ (10 $\\times$ 10 $\\times$ 10 $\\times$ 10) + 7\n",
        "\n",
        "\n",
        "\\\n",
        "Therefore, let `x` be the number (power) that represents how many times 10 is multiplied \n",
        "\n",
        "and move it from 2 to 10 to create the number of problems.\n",
        "\n",
        "\n",
        "\\\n",
        "The expression uses the `2 * (10 ** x) + 7` with arithmetic operator` ** `(power).\n",
        "\n",
        "\n",
        "\\\n",
        "Assign this expression to the variable `n` for readability\n",
        "\n",
        "\n",
        "\\\n",
        "The condition that \"the number created is divisible by 27 and not divisible by 81\"\n",
        "\n",
        "\n",
        "\n",
        "`if n % 27 == 0 and n % 81 != 0:`\n",
        "\n",
        "\n",
        "\n",
        "If meeting this condition, print that number and break the for loop.\n",
        "\n",
        "\n"
      ]
    },
    {
      "cell_type": "code",
      "source": [
        ""
      ],
      "metadata": {
        "id": "JzdcJ8rAg-zR"
      },
      "execution_count": null,
      "outputs": []
    },
    {
      "cell_type": "code",
      "source": [
        "#sample\n",
        "\n",
        "for x in range(2, 10) :\n",
        "  n = 2 * (10 ** x) + 7\n",
        "  if n % 27 == 0 and n % 81 != 0:\n",
        "    print(n)\n",
        "    break\n",
        "    "
      ],
      "metadata": {
        "colab": {
          "base_uri": "https://localhost:8080/"
        },
        "id": "c7Oio88BaHBs",
        "outputId": "df133faa-795e-461f-bf54-231c953a708b"
      },
      "execution_count": null,
      "outputs": [
        {
          "output_type": "stream",
          "name": "stdout",
          "text": [
            "20000007\n"
          ]
        }
      ]
    },
    {
      "cell_type": "markdown",
      "source": [
        "If you write with while statement, the code will be as follows\n"
      ],
      "metadata": {
        "id": "xFc5m4qVFida"
      }
    },
    {
      "cell_type": "code",
      "metadata": {
        "colab": {
          "base_uri": "https://localhost:8080/"
        },
        "outputId": "60141089-38db-4f87-ee30-f8c02fd6c84c",
        "id": "WAh1jkpe9MZD"
      },
      "source": [
        "#while statement sample\n",
        "\n",
        "x = 100\n",
        "\n",
        "while True:                   #A cliché that means \"repeat until conditions are met\"\n",
        "  n = 2 * x +7\n",
        "  if n % 27 == 0 and n % 81 != 0:\n",
        "    print(n)\n",
        "    break\n",
        "  else:\n",
        "    x *= 10\n",
        "\n"
      ],
      "execution_count": null,
      "outputs": [
        {
          "output_type": "stream",
          "name": "stdout",
          "text": [
            "20000007\n"
          ]
        }
      ]
    },
    {
      "cell_type": "markdown",
      "source": [
        "###numbers"
      ],
      "metadata": {
        "id": "ItIj1F_RWeWk"
      }
    },
    {
      "cell_type": "markdown",
      "source": [
        "---\n",
        "Q?\n",
        "\n",
        "\n",
        "Find the odd number $a$ which is from 3 to 9999 and $ a × a - a $ is divisible by 10000.\n",
        "\n",
        "\n"
      ],
      "metadata": {
        "id": "a1D79bRzmKQJ"
      }
    },
    {
      "cell_type": "markdown",
      "source": [
        "ーーーーーーーーーーーーーーーーーーーーーーーーーーーーーーーーーーーーーーーーー\n",
        "\n",
        "\n",
        "We know that $a × a$ can be expressed as `a ** 2`.\n",
        "\n",
        "\\\n",
        "This problem cannot be solved by elementary school's math level,\n",
        "\n",
        "But it's easy to solve in Python.\n",
        "\n",
        "\n",
        "\\\n",
        "In case $a$ is odd, write `for a in range (3, 10000, 2)`\n",
        "\n",
        "Arguments in `range()` are `range(start, stop, step)`.\n",
        "\n",
        "\\\n",
        "`range (start = first number, `\n",
        "\n",
        "  `stop = next number after last number,`\n",
        "\n",
        "  ` step = number to increase)`\n",
        "\n",
        "\\\n",
        "With this, \"from 3 to 9999 with increased by 2\".\n",
        "\n",
        "\n",
        "\\\n",
        "3, 5, 7, ..., 9999 are assigned to variables.\n",
        "\n",
        "\n",
        "\\\n",
        "After that, output the number where `a ** 2 - a` is divided by 10000.\n",
        "\n"
      ],
      "metadata": {
        "id": "mT1kh2O_m82R"
      }
    },
    {
      "cell_type": "code",
      "source": [
        "#sample\n",
        "\n",
        "for a in range(3, 9999, 2):\n",
        "  if (a ** 2 - a) % 10000 == 0:\n",
        "    print(a)"
      ],
      "metadata": {
        "id": "mEFOyMpkpaZu"
      },
      "execution_count": null,
      "outputs": []
    },
    {
      "cell_type": "markdown",
      "source": [
        "ーーーーーーーーーーーーーーーーーーーーーーーーーーーーーーーーーーーーーーーーー\n",
        "\n",
        "\n",
        "An odd $a$ is expressed as $ a = 2 \\times x -1 $ when $ x = 1, 2, 3, ... $.\n",
        "\n",
        "\n",
        "\\\n",
        "specifically\n",
        "\n",
        "\n",
        "\n",
        "When $ x = 1 $,     $ a = 2 \\times 1-1 = 1 $\n",
        "\n",
        "\n",
        "\n",
        "When $ x = 2 $,    $ a = 2 \\times 2-1 = 3 $\n",
        "\n",
        "\n",
        "\n",
        "When $ x = 3 $,     $ a = 2 \\times 3-1 = 5 $\n",
        "\n",
        "\n",
        "\n",
        "\\\n",
        "When $ a = 9999 $,    $x = (9999 + 1) \\div 2 = 5000$\n",
        "\n",
        "\n",
        "\\\n",
        "Below is a pattern that calculates by putting a number from 2 to 5000 in x\n",
        "\n"
      ],
      "metadata": {
        "id": "ZH7kmH_9qaga"
      }
    },
    {
      "cell_type": "code",
      "source": [
        ""
      ],
      "metadata": {
        "id": "348cpaHjAFe2"
      },
      "execution_count": null,
      "outputs": []
    },
    {
      "cell_type": "code",
      "source": [
        "#a = 2x - 1 = 9999 then，x = 10000/2=5000\n",
        "\n",
        "for x in range(2, 5001):\n",
        "  a = 2 * x - 1\n",
        "  if (a ** 2 - a) % 10000 == 0:\n",
        "    print(a)\n",
        "  "
      ],
      "metadata": {
        "id": "9eklovaXkd_Q"
      },
      "execution_count": null,
      "outputs": []
    },
    {
      "cell_type": "markdown",
      "metadata": {
        "id": "tbr3hZx4DkIR"
      },
      "source": [
        "---\n",
        "Q?\n",
        "\n",
        "\n",
        "Create the product of two integers as follows\n",
        "\n",
        "\n",
        "\\\n",
        "1 $\\times$ 1998, 2 $\\times$ 1997, 3 $\\times$ 1996, ..., 999 $\\times$ 1000\n",
        "\n",
        "\n",
        "\\\n",
        "How many numbers out of 999 products are divisible by 12?\n",
        "\n",
        "\n"
      ]
    },
    {
      "cell_type": "markdown",
      "source": [
        "ーーーーーーーーーーーーーーーーーーーーーーーーーーーーーーーーーーーーーーーーー\n",
        "\n",
        "\n",
        "[ Arithmetic solution ]\n",
        "\n",
        "\n",
        "\n",
        "We think about this type of problem think there should be any \"periodicity\".\n",
        "\n",
        "\n",
        "\n",
        "\\\n",
        "\n",
        "All types of expressions are (even) $\\times$ (odd) or (odd) $\\times$ (even)\n",
        "\n",
        "\n",
        "\\\n",
        "To be a multiple of 12, \n",
        "\n",
        "(multiple of 12) $\\times$ (other) or (multiple of 3) $\\times$ (multiple of 4)\n",
        "\n",
        "\n",
        "\\\n",
        "(Multiple of 2) $\\times$ (Multiple of 6) is (even) $\\times$ (even), so it is excluded.\n",
        "\n",
        "\n",
        "\\\n",
        "When looking at the numbers of the first 12 sets of 1 $\\times$ 1998, \n",
        "\n",
        "2 $\\times$ 1998, 3 $\\times$ 1997, …… 12 $\\times$ 1987,\n",
        "\n",
        "\n",
        "(Multiple of 12) $\\times$ (Other) is 7 $\\times$ 1992, 12 $\\times$ 1987\n",
        "\n",
        "\n",
        "\n",
        "(Multiple of 3)  $\\times$ (Multiple of 4) is 3  $\\times$ 1996, 4  $\\times$ 1995\n",
        "\n",
        "\n",
        "\\\n",
        "Even if you check the next 12 pieces, you can see that there are 4 pieces in the same order\n",
        "\n",
        "\n",
        "\\\n",
        "From 999/12 = 83 ... 3, there are 83 cycles of 12 products.\n",
        "\n",
        "and the third product of 999 $\\times$ 1000 out of the remaining three is applicable.\n",
        "\n",
        "\\\n",
        "The number to be calculated is 83 $\\times$ 4 + 1 = 333 ... (Answer) \n",
        "\n",
        "\n",
        "\n",
        "\\\n",
        "\n",
        "[ Python ]\n",
        "\n",
        "\n",
        "\n",
        "First, set 0 to the `count` that counts the applicable number.\n",
        "\n",
        "\n",
        "\\\n",
        "Also, assign 1998 to the variable `y`multiply the variable x that is assigned from 1 to 999.\n",
        "\n",
        "\n",
        "\n",
        "\\\n",
        "\n",
        "Take out the numbers from 1 to 999 and assign them in the `x`\n",
        "\n",
        "and create `x × y` in order.\n",
        "\n",
        "\\\n",
        "`x × y` is divided by 12 and count when the remainder is 0.\n",
        "\n",
        "\\\n",
        "`break` when y is 999.\n",
        "\n",
        "\n",
        "\\\n",
        "`y` is decremented by 1\n",
        "\n",
        "\n",
        "\n",
        "\\\n",
        "\n",
        "When the for loop ends, count is output at the end\n",
        "\n",
        "\n",
        "\n"
      ],
      "metadata": {
        "id": "YbeHqa10CELe"
      }
    },
    {
      "cell_type": "code",
      "source": [
        ""
      ],
      "metadata": {
        "id": "aZCJwK91ALxV"
      },
      "execution_count": null,
      "outputs": []
    },
    {
      "cell_type": "code",
      "source": [
        "#sample\n",
        "\n",
        "count = 0\n",
        "y = 1998\n",
        "\n",
        "for x in range(1, 1000):\n",
        "  if y == 999:\n",
        "    break\n",
        "  elif x * y % 12 == 0:\n",
        "    count += 1\n",
        "    #print(x,\"×\", y)\n",
        "  y -= 1\n",
        "\n",
        "print(count, \"pieces\")\n",
        "\n"
      ],
      "metadata": {
        "id": "0yZf9ez9G67K"
      },
      "execution_count": null,
      "outputs": []
    },
    {
      "cell_type": "markdown",
      "source": [
        "You can also create a code of the same calculation with a while statement.\n"
      ],
      "metadata": {
        "id": "d7oS5xK_odZ3"
      }
    },
    {
      "cell_type": "code",
      "source": [
        ""
      ],
      "metadata": {
        "id": "Ut-hDuXFANzO"
      },
      "execution_count": null,
      "outputs": []
    },
    {
      "cell_type": "code",
      "source": [
        "#while sample\n",
        "\n",
        "count = 0 \n",
        "x = 1\n",
        "y = 1998\n",
        "\n",
        "while True:\n",
        "  if y == 999:\n",
        "    break\n",
        "  elif x * y % 12 == 0:\n",
        "    count += 1\n",
        "    #print(x, '×', y)\n",
        "  x += 1\n",
        "  y -= 1\n",
        "  \n",
        "print(count,\"pieces\")"
      ],
      "metadata": {
        "id": "9oGldR05m6Cs"
      },
      "execution_count": null,
      "outputs": []
    },
    {
      "cell_type": "markdown",
      "source": [
        "###Symbol of calculation rule"
      ],
      "metadata": {
        "id": "Sv61FrS1GL_r"
      }
    },
    {
      "cell_type": "markdown",
      "source": [
        "---\n",
        "Q?\n",
        "\n",
        "\n",
        "It is defined that the symbol $[a]$ represents the integer part of the number $a$.\n",
        "\n",
        "\n",
        "\\\n",
        "For example, $ \\left [\\dfrac {1} {2} \\right] = 0 $, and $ \\left [\\dfrac {7} {3} \\right] = 2 $.\n",
        "\n",
        "\\\n",
        "\n",
        "(1) Find the sum of \n",
        "\n",
        "$ \\left [\\dfrac {1} {2} \\right] + \\left [\\dfrac {2} {2} \\right] + \\left [\\dfrac {3} {2} \\right] + \\left [\\dfrac {4} {2} \\right] + ・ ・ ・ + \\left [\\dfrac {50} {2} \\right]$\n",
        "\n",
        "\n",
        "\\\n",
        "(2) Find the sume of  \n",
        "\n",
        "$ \\left [\\dfrac {3} {4} \\right] + \\left [\\dfrac {6} {4} \\right] + \\left [\\dfrac {9} {4} \\right] + \\left [\\dfrac {12} {4} \\right] + ・ ・ ・ + \\left [\\dfrac {99} {4} \\right] $\n",
        "\n",
        "\n",
        "\\\n",
        "(3) Find the sum of\n",
        "\n",
        "$\\left[\\dfrac{2}{4}\\right] + \\left[\\dfrac{3}{4}\\right] +\\left[\\dfrac{4}{4}\\right] +\\left[\\dfrac{6}{4}\\right] + \\left[\\dfrac{8}{4}\\right] +\\left[\\dfrac{9}{4}\\right] +　・・・+\\left[\\dfrac{100}{4}\\right]$\n",
        "\n",
        "Note, the numerator is a multiple of 2 or 3.\n",
        "\n",
        "\n",
        "\n"
      ],
      "metadata": {
        "id": "vtiO0BQPGL_r"
      }
    },
    {
      "cell_type": "code",
      "source": [
        ""
      ],
      "metadata": {
        "id": "WunQYz2_7YP_"
      },
      "execution_count": null,
      "outputs": []
    },
    {
      "cell_type": "markdown",
      "source": [
        "ーーーーーーーーーーーーーーーーーーーーーーーーーーーーーーーーーーーーーーーー\n",
        "\n",
        "(1)\n",
        "\n",
        "\n",
        "[ Arithmetic solution ]\n",
        "\n",
        "\n",
        "\n",
        "Focusing on the integer part, when the numerator is even number,\n",
        "\n",
        "the integer part is 1, 2, 3, 4, ..., 25.\n",
        "\n",
        "\n",
        "\\\n",
        "The sum is (1 + 25) $\\times$ 25 $\\div$ 2 = 325\n",
        "\n",
        "\n",
        "\\\n",
        "When the numerator is odd number, \n",
        "\n",
        "the integer part is 0, 1, 2, 3, ..., 24.\n",
        "\n",
        "\\\n",
        "The sum is (1 + 24) $\\times$ 24/2 = 300.\n",
        "\n",
        "\n",
        "\\\n",
        "In total, 325 + 300 = 625 ... (answer)\n",
        "\n",
        "\n",
        "\n",
        "\n",
        "\n",
        "\\\n",
        "\n",
        "[ Python ]\n",
        "\n",
        "\n",
        "\n",
        "Set variable `sum` to 0.\n",
        "\n",
        "\n",
        "\\\n",
        "Number from 1 to 50 to be assigned to numerator `n`.\n",
        "\n",
        "`n` is divided by the denominator 2 and add the number of integer parts to `sum`.\n",
        "\n"
      ],
      "metadata": {
        "id": "09li1yCNGL_r"
      }
    },
    {
      "cell_type": "code",
      "source": [
        ""
      ],
      "metadata": {
        "id": "4FMiST5vATzp"
      },
      "execution_count": null,
      "outputs": []
    },
    {
      "cell_type": "code",
      "source": [
        "#(1)sample\n",
        "\n",
        "sum = 0\n",
        "\n",
        "for n in range(1, 51) :\n",
        "  sum += n // 2\n",
        "  #print(sum)             #For checking the progress\n",
        "\n",
        "print(sum)\n"
      ],
      "metadata": {
        "id": "O9ARHJSzL-xb"
      },
      "execution_count": null,
      "outputs": []
    },
    {
      "cell_type": "markdown",
      "source": [
        "(2)\n",
        "\n",
        "[ Arithmetic solution ]\n",
        "\n",
        "\n",
        "\n",
        "Since the numerator is a multiple of 3 and the denominator is that of 4, \n",
        "\n",
        "check from first number to 12th as one cycle.\n",
        "\n",
        "\n",
        "\\\n",
        "Sum of the first cycle = 0 + 1 + 2 + 3 = 6\n",
        "\n",
        "\n",
        "\\\n",
        "As the sum of the next one cycle is 3 + 4 + 5 + 6 = 18, \n",
        "\n",
        "it is found that sum of the cycle increases by 3 $\\times$ 4 = 12.\n",
        "\n",
        "\n",
        "\\\n",
        "Based on the calculation of  99/12 = 8 ... 3, it is divided into 8 cycles and 99.\n",
        "\n",
        "\n",
        "\\\n",
        "The sum of 8th cycle = 6 + 12  $\\times$ (8 - 1) = 90\n",
        "\n",
        "\n",
        "\\\n",
        "The sum of first to 8th cycles = (6 + 90)  $\\times$ 8 $\\div$ 2 = 384\n",
        "\n",
        "\n",
        "\\\n",
        "Integer of 99/4 is 99/4 = 24 ... 3.\n",
        "\n",
        "\\\n",
        "Therefore all sums are 384 + 24 = 408 ... (answer)\n",
        "\n",
        "\n",
        "\n",
        "\\\n",
        "\n",
        "[ Python ]\n",
        "\n",
        "\n",
        "\n",
        "The solution is the same as (1), because the numerator increases by 3 from 3 to 99.\n",
        "\n",
        "\n",
        "\n",
        "    for n in range(3, 100, 3) :\n"
      ],
      "metadata": {
        "id": "VF7yMj9pMJpD"
      }
    },
    {
      "cell_type": "code",
      "source": [
        ""
      ],
      "metadata": {
        "id": "oCADzomGAWmD"
      },
      "execution_count": null,
      "outputs": []
    },
    {
      "cell_type": "code",
      "source": [
        "#(2)sample\n",
        "\n",
        "sum = 0\n",
        "\n",
        "for n in range(3, 100, 3) :\n",
        "  sum += n // 4\n",
        "  #print (sum) #For checking the progress\n",
        "\n",
        "print(sum)\n"
      ],
      "metadata": {
        "id": "hbtjICEjGL_s"
      },
      "execution_count": null,
      "outputs": []
    },
    {
      "cell_type": "markdown",
      "source": [
        "ーーーーーーーーーーーーーーーーーーーーーーーーーーーーーーーーーーーーーーー\n",
        "\n",
        "(3)\n",
        "\n",
        "[ Arithmetic solution ]\n",
        "\n",
        "\n",
        "\n",
        "The numerator is a multiple of 2 or 3 and the denominator is 4.\n",
        "\n",
        "\\\n",
        "Same as (2), check from first number to 12th as one cycle.\n",
        "\n",
        "\n",
        "\\\n",
        "There are 8 numbers in one cycle \n",
        "\n",
        "and the sum of the first cycle = 0 + 0 + 1 + 1 + 2 + 2 + 2 + 3 = 11\n",
        "\n",
        "\n",
        "\\\n",
        "The sum of the next cycle = 3 + 3 + 4 + 4 + 5 + 5 + 5 + 6 = 35\n",
        "\n",
        "\\\n",
        "It is found that the sum increases by 3 $\\times$ 8 = 24.\n",
        "\n",
        "\n",
        "\\\n",
        "According to 100/12 = 8 ... 4, there are 8 cycles \n",
        "\n",
        "and 98, 99, and 100 in the last cycle.\n",
        "\n",
        "\n",
        "\\\n",
        "The sum of 8th cycle = 11 + 24  $\\times$ (8-1) = 179\n",
        "\n",
        "\n",
        "\\\n",
        "The sum of first to 8th cycles = (11 + 179)  $\\times$ 8 $\\div$ 2 = 760\n",
        "\n",
        "\n",
        "\\\n",
        "According to 98 $\\div$ 4 ＝ 24… 2, the sum of the last cycle is 24 + 24 + 25 ＝ 73. \n",
        "\n",
        "\\\n",
        "Therefore the grand total of sum is 760 ＋ 73 ＝ 833 ----- (Answer)\n",
        "\n",
        "\n",
        "\n",
        "\\\n",
        "\n",
        "[ Python ]\n",
        "\n",
        "\n",
        "\n",
        "The solution is the same as (1), and if the numerator is divisible by 2 or 3, `n // 4` is calculated.\n"
      ],
      "metadata": {
        "id": "tCp8aWIOMSrX"
      }
    },
    {
      "cell_type": "code",
      "source": [
        "#(3)sample\n",
        "\n",
        "sum = 0\n",
        "\n",
        "for n in range(1, 101) :\n",
        "  if n % 2 == 0 or n % 3 == 0:\n",
        "    sum += n // 4\n",
        "    #print (sum)                       #For checking the progress\n",
        "\n",
        "print(sum)\n"
      ],
      "metadata": {
        "id": "LRlj2KUlGL_s"
      },
      "execution_count": null,
      "outputs": []
    },
    {
      "cell_type": "markdown",
      "source": [
        "###Integer"
      ],
      "metadata": {
        "id": "qQt7FsVtSwl9"
      }
    },
    {
      "cell_type": "markdown",
      "source": [
        "\n",
        "---\n",
        "\n",
        "Q?\n",
        "\n",
        "\n",
        "\n",
        "N represents an integer. \n",
        "\n",
        "Among the integers from 1 to N, the number of multiples of 3 is A, \n",
        "\n",
        "the number of multiples of 4 is B, \n",
        "\n",
        "and the number of integer that is neither a multiple of 3 nor a multiple of 4 is C.\n",
        "\n",
        "\n",
        "\\\n",
        "(1) When N is 50, find A, B, and C respectively.\n",
        "\n",
        "\n",
        "\n",
        "(2) Find all N such that C is 12.\n",
        "\n",
        "\n",
        "\n",
        "(3) N is an integer from 1 to 250. \n",
        "\n",
        "How many pieces of N are there such that N is twice as much as C?\n",
        "\n",
        "\n",
        "\n",
        "(4) How many pieces of N are there such that a difference between A and B is 15?\n",
        "\n",
        "\n",
        "Also, find the smallest and largest of these numbers, respectively.\n"
      ],
      "metadata": {
        "id": "SOfDGAzTMg4v"
      }
    },
    {
      "cell_type": "markdown",
      "source": [
        "ーーーーーーーーーーーーーーーーーーーーーーーーーーーーーーーーーーーーーーーー\n",
        "\n",
        "Answer\n",
        "\n",
        "(1)\n",
        "\n",
        "A = 16, B = 12, C = 26\n",
        "\n",
        "(2)\n",
        "\n",
        "N = 23, 24\n",
        "\n",
        "(3)\n",
        "\n",
        "104 pieces\n",
        "\n",
        "(4)\n",
        "\n",
        "N = 12 pieces\n",
        "\n",
        "Smallest = 171\n",
        "\n",
        "Largest = 188\n",
        "\n",
        "\\\n"
      ],
      "metadata": {
        "id": "Ys780KYZPYy8"
      }
    },
    {
      "cell_type": "markdown",
      "source": [
        "ーーーーーーーーーーーーーーーーーーーーーーーーーーーーーーーーーーーーーーー\n",
        "\n",
        "(1)\n",
        "\n",
        "\n",
        "\n",
        "[ Arithmetic solution ]\n",
        "\n",
        "\n",
        "\n",
        "50 $\\div$ 3 = 16 remainder 2 → number of A is 16 ... (answer)\n",
        "\n",
        "\n",
        "\\\n",
        "50 $\\div$ 4 = 12 remainder 2 → number of B is 12 ... (answer)\n",
        "\n",
        "\n",
        "\\\n",
        "50 $\\div$ 12 = 4 remainder 2\n",
        "\n",
        "Number of  multiples of 12 is 4.\n",
        "\n",
        "\n",
        "Number of C is 50 - (16 + 12 - 4) = 26 ... (answer)\n",
        "\n",
        "\n",
        "\n",
        "\\\n",
        "\n",
        "[ Python ]\n",
        "\n",
        "\n",
        "\n",
        "Create counters `A`, `B`, `C`with 0 that count the number of A, B, C.\n",
        "\n",
        "\n",
        "\\\n",
        "Assign numbers from 1 to 50 to the variable `N` in order\n",
        "\n",
        "\n",
        "\\\n",
        "If N is divided by 3 and the remainder is 0, `A += 1`\n",
        "\n",
        "\n",
        "\n",
        "If N is divided by 4 and the remainder is 0, `B += 1`\n",
        "\n",
        "\n",
        "\n",
        "If dividing by 3 or 4 does not result in remainder is 0, `C += 1`\n",
        "\n",
        "\n",
        "\\\n",
        "Output the result at the end when the for loop ends\n"
      ],
      "metadata": {
        "id": "emwANId8MuBh"
      }
    },
    {
      "cell_type": "code",
      "source": [
        "#(1)sample\n",
        "\n",
        "A = 0\n",
        "B = 0\n",
        "C = 0\n",
        "\n",
        "for N in range (1, 51):\n",
        "  if N % 3 == 0:\n",
        "    A += 1\n",
        "  if N % 4 == 0:\n",
        "    B += 1\n",
        "  if (N % 3 != 0) and (N % 4 != 0):\n",
        "    C += 1\n",
        "\n",
        "print(\"A=\", A, \"B=\", B, \"C=\", C)\n"
      ],
      "metadata": {
        "id": "FktoRrotMote"
      },
      "execution_count": null,
      "outputs": []
    },
    {
      "cell_type": "markdown",
      "source": [
        "\n",
        "――――――――――――――――――――――――――――――――――――――――――――――――\n",
        "\n",
        "\n",
        "\n",
        "(2)\n",
        "\n",
        "\n",
        "\n",
        "[ Arithmetic solution ]\n",
        "\n",
        "\n",
        "\n",
        "Check how many Cs are in 12 which is the least common multiple of 3 and 4\n",
        "\n",
        "\n",
        "\\\n",
        "Number of C is 6 of 1, 2, 5, 7, 10, 11\n",
        "\n",
        "\n",
        "\\\n",
        "Based on 12 $\\div$ 6 = 2 remainder 0, when C comes to 12, \n",
        "\n",
        "N is the 6th number of the second cycle which is 11 + 12 = 23.\n",
        "\n",
        "\\\n",
        "When N is 24 which is a multiple of 3 and 4, C is still remained 12.\n",
        "\n",
        "\\\n",
        "When N is 25, C is 12 + 1 =13.\n",
        "\n",
        "\\\n",
        "Therfore while C = 12, N is 23 and 24. --- (answer)\n",
        "\n",
        "\n",
        "\\\n",
        "\n",
        "[ Python ]\n",
        "\n",
        "\n",
        "\n",
        "Count variable `C` is 0\n",
        "\n",
        "\n",
        "\\\n",
        "Set the number to be assigned/examined from 1 to 1000\n",
        "\n",
        "\\\n",
        "When the number is applicable to C, `C += 1` and output N when C becomes 12.\n",
        "\n",
        "\n",
        "\\\n",
        "When C becomes 13, break for loop break\n"
      ],
      "metadata": {
        "id": "iPfkHLWRM7yq"
      }
    },
    {
      "cell_type": "code",
      "source": [
        "#(2)sample\n",
        "\n",
        "C = 0\n",
        "\n",
        "for N in range (1, 1000):\n",
        "  if (N % 3 != 0) and (N % 4 != 0):\n",
        "    C += 1\n",
        "  if C == 12:\n",
        "    print(N)\n",
        "  if C == 13:\n",
        "    break\n"
      ],
      "metadata": {
        "id": "L9TAV5d9NB0d",
        "colab": {
          "base_uri": "https://localhost:8080/"
        },
        "outputId": "45da6ae1-1bb1-4595-bc39-16cdb9db355e"
      },
      "execution_count": null,
      "outputs": [
        {
          "output_type": "stream",
          "name": "stdout",
          "text": [
            "23\n",
            "24\n"
          ]
        }
      ]
    },
    {
      "cell_type": "markdown",
      "source": [
        "\n",
        "――――――――――――――――――――――――――――――――――――――――――――――――\n",
        "\n",
        "\n",
        "\n",
        "(3)\n",
        "\n",
        "\n",
        "\n",
        "[ Arithmetic solution ]\n",
        "\n",
        "\n",
        "\n",
        "As with (2), check 12 pieces as one cycle.\n",
        "\n",
        "\n",
        "\\\n",
        "The combination of C and N that meets the conditions in the first cycle is\n",
        "\n",
        "(C，N）＝(2，4)，(3，6)，(4，8)，(5，10)，(6，12)\n",
        "\n",
        "\n",
        "\\\n",
        "In the second cycle, (C, N) = (8, 16), (9, 18), (10, 20), (11, 22), (12, 24)\n",
        "\n",
        "\n",
        "\\\n",
        "Since there are 5 sets in each cycle, 250/12 = 20 remainder 10\n",
        "\n",
        "\\\n",
        "There are applicable 4 numbers out of the remainder 10 numbers.\n",
        "\n",
        "\\\n",
        "In total 5 $\\times$ 20 + 4 = 104 ... (answer)\n",
        "\n",
        "\n",
        "\\\n",
        "\n",
        "[ Python ]\n",
        "\n",
        "\n",
        "\n",
        "Set the count variable `C` and `count` to 0 that counts C and N that meets the condition.\n",
        "\n",
        "\n",
        "\\\n",
        "Assign a number from 1 to 250 to N \n",
        "\n",
        "and if there is an N applicable to the condition of C, `C += 1`.\n",
        "\n",
        "\n",
        "\\\n",
        "If N is twice of C, `count += 1`\n",
        "\n",
        "\n",
        "\\\n",
        "Output result after checking all\n"
      ],
      "metadata": {
        "id": "kmOMJH2eNGHS"
      }
    },
    {
      "cell_type": "code",
      "source": [
        "#(3)sample\n",
        "\n",
        "C = 0\n",
        "count = 0\n",
        "\n",
        "for N in range (1, 251):\n",
        "  if (N % 3 != 0) and (N % 4 != 0):\n",
        "    C += 1\n",
        "  if N == C * 2:\n",
        "    count += 1\n",
        "    #print(C,N)\n",
        "\n",
        "print(count, \"pieces\")\n"
      ],
      "metadata": {
        "id": "0v8XvzORNOn_",
        "colab": {
          "base_uri": "https://localhost:8080/"
        },
        "outputId": "7ead7284-9ae7-457d-a62f-b5c7bb4af60c"
      },
      "execution_count": null,
      "outputs": [
        {
          "output_type": "stream",
          "name": "stdout",
          "text": [
            "104 pieces\n"
          ]
        }
      ]
    },
    {
      "cell_type": "markdown",
      "source": [
        "ーーーーーーーーーーーーーーーーーーーーーーーーーーーーーーーーーーーーーーー\n",
        "\n",
        "(4)\n",
        "\n",
        "\n",
        "\n",
        "[ Arithmetic solution ]\n",
        "\n",
        "\n",
        "\n",
        "Check first and second cycles\n",
        "\n",
        "\n",
        "\\\n",
        "The difference between A and B is 0 or 1 in the first cycle\n",
        "\n",
        "and 5 Ns at difference 0 and 7 Ns at difference 1.\n",
        "\n",
        "\n",
        "\\\n",
        "In the 2nd cycle, difference 0 in the 1st cycle becomes difference 1 \n",
        "\n",
        "and difference 1 in the 1st cycle becomes difference 2.\n",
        "\n",
        "\n",
        "\\\n",
        "Based on the above, when the difference is 15 in the 15th cycle, \n",
        "\n",
        "there are 7 Ns and in the 16th cycle, there are 5 Ns.\n",
        "\n",
        "Therefore in total 12  ... (answer)\n",
        "\n",
        "\n",
        "\\\n",
        "The smallest number is 12 $\\times$ 14 + 3 = 171 ... (answer)\n",
        "\n",
        "\n",
        "\\\n",
        "The largest number is 12 $\\times$ 15 + 8 = 188 ... (answer)\n",
        "\n",
        "\n",
        "\n",
        "\\\n",
        "\n",
        "[ Python ]\n",
        "\n",
        "\n",
        "\n",
        "The counter is `A`,` B`and `count` that counts the number of A, B, and N.\n",
        "\n",
        "\\\n",
        "There is a list variable `num` that contains the applicable N.\n",
        "\n",
        "\n",
        "\\\n",
        "Assign and check the number from 1 to 500 in order\n",
        "\n",
        "\n",
        "\\\n",
        "Examine A and B in the same way as in (1).\n",
        "\n",
        "\\\n",
        "If the difference between A and B is 15, `num.append(N)` and `count += 1`.\n",
        "\n",
        "\\\n",
        "The difference between A and B can be `A - B == 15` \n",
        "\n",
        "because it can be found that A is more than B.\n",
        "\n",
        "\\\n",
        "Another way to represent the difference, use `abs(A - B) == 15`\n",
        "\n",
        "\n",
        "\\\n",
        "`abs()`, which has already appeared, is a built-in function that outputs \n",
        "\n",
        "(returns) the absolute value of the numbers or the result of formula in it.\n",
        "\n",
        "\n",
        "\\\n",
        "If the difference between A and B does not reach 15 in one cycle, \n",
        "\n",
        "the for loop is interrupted (although it may be looped to the end).\n",
        "\n",
        "The code for that is\n",
        "\n",
        "    if abs(A - B) == 17:\n",
        "      break\n",
        "\n",
        "\n",
        "In the cycle when the difference between A and B becomes 15, the difference may be 15 and 16.\n",
        "\n",
        "\\\n",
        "Iif `abs (A --B) == 16` is used, \n",
        "\n",
        "the last number with a difference of 15 will not be available\n",
        "\n",
        "\n",
        "\\\n",
        "Finally output count\n",
        "\n",
        "\n",
        "\\\n",
        "The smallest and largest numbers are previously mentioned `min()` and `max()`\n",
        "\n",
        "\n",
        "\\\n",
        "Checks the numbers in the `num` list and \n",
        "\n",
        "outputs (returns) the smallest and largest numbers.\n"
      ],
      "metadata": {
        "id": "wQKORq71NRa_"
      }
    },
    {
      "cell_type": "code",
      "source": [
        ""
      ],
      "metadata": {
        "id": "UIzQ4KOTAtnI"
      },
      "execution_count": null,
      "outputs": []
    },
    {
      "cell_type": "code",
      "source": [
        "#(4)sample\n",
        "\n",
        "A = 0\n",
        "B = 0\n",
        "num = []\n",
        "count = 0\n",
        "\n",
        "for N in range (1, 500):\n",
        "  if N % 3 == 0:\n",
        "    A += 1\n",
        "  if N % 4 == 0:\n",
        "    B += 1\n",
        "  if abs (A - B) == 15: # (A --B == 15) or (B --A == 15): But OK, A --B == 15: Just OK\n",
        "    num.append(N)\n",
        "    count += 1\n",
        "  if abs(A - B) == 17:\n",
        "    break\n",
        "\n",
        "print(count, \"pieces\")\n",
        "print (\"The smallest number is\", min (num))\n",
        "print (\"The largest number is\", max (num))\n"
      ],
      "metadata": {
        "id": "O0Ad6c9FfT38"
      },
      "execution_count": null,
      "outputs": []
    },
    {
      "cell_type": "markdown",
      "source": [
        "###Symbol of calculation rule"
      ],
      "metadata": {
        "id": "01zLCcXV0nIm"
      }
    },
    {
      "cell_type": "markdown",
      "source": [
        "---\n",
        "Q?\n",
        "\n",
        "The symbol ☆ execute the calculation of \n",
        "\n",
        "A ☆ B = A $\\times$ (A - B) for the two integers A and B. \n",
        "\n",
        "\\\n",
        "Calculate (5 ☆ 2) ☆ 12  \n",
        "\n",
        "\n"
      ],
      "metadata": {
        "id": "kx7GpEpWNu_Y"
      }
    },
    {
      "cell_type": "markdown",
      "source": [
        "ーーーーーーーーーーーーーーーーーーーーーーーーーーーーーーーーーーーーーーーー\n",
        "\n",
        "Calculate accurately according to the rule of arithmetic operation.\n",
        "\n",
        "\n",
        "\\\n",
        "(5 ☆ 2) = 5 $\\times$ (5 - 2) = 15 \n",
        "\n",
        "15 ☆ 12 = 15 $\\times$ (15 - 12) = 45 ------ (Answer) \n"
      ],
      "metadata": {
        "id": "8_AvjefTkJ-O"
      }
    },
    {
      "cell_type": "markdown",
      "source": [
        "ーーーーーーーーーーーーーーーーーーーーーーーーーーーーーーーーーーーーーーーー\n",
        "\n",
        "Create a function to do this calculation of (A ☆ B).\n",
        "\n",
        "\\\n",
        "Since defining a function, usa `def`\n",
        "\n",
        "\\\n",
        "Since ☆ cannot be used in the function name, it is `A_B()`.\n",
        "\n",
        "\\\n",
        "The arguments are two symbols A and B.\n",
        "\n",
        "\\\n",
        "Since the calculation is A $\\times$ (A - B), the code is A * (A - B) \n",
        "\n",
        "and this formula is returned.\n",
        "\n",
        "\\\n",
        "It's very simple.\n",
        "\n",
        "\\\n",
        "To calculate (5 ☆ 2) ☆ 12, you should assign the calculation result of (5 ☆ 2) \n",
        "\n",
        "to the variable C and then calculate C ☆ 12.\n"
      ],
      "metadata": {
        "id": "ITEQh0EImygh"
      }
    },
    {
      "cell_type": "code",
      "source": [
        ""
      ],
      "metadata": {
        "id": "mlZ9oCy7A5NP"
      },
      "execution_count": null,
      "outputs": []
    },
    {
      "cell_type": "code",
      "source": [
        "#sample\n",
        "\n",
        "def A_B(A, B):\n",
        "  return A * (A - B)\n",
        "\n",
        "C = A_B(5,2)\n",
        "\n",
        "A_B(C, 12)\n"
      ],
      "metadata": {
        "id": "Pl-BMgp9N4bT"
      },
      "execution_count": null,
      "outputs": []
    },
    {
      "cell_type": "code",
      "source": [
        ""
      ],
      "metadata": {
        "id": "eh-bMzUAA6iK"
      },
      "execution_count": null,
      "outputs": []
    },
    {
      "cell_type": "code",
      "metadata": {
        "id": "kfCPVeOk1dt7"
      },
      "source": [
        "#sample \n",
        "\n",
        "def A_B(A, B):\n",
        "  return A * (A - B)\n",
        "\n",
        "C = A_B(5,2)\n",
        "print(A_B(C,12))"
      ],
      "execution_count": null,
      "outputs": []
    },
    {
      "cell_type": "markdown",
      "source": [
        "---\n",
        "Q?\n",
        "\n",
        "The symbol `_` execute the calculation of\n",
        "\n",
        "`A_B` = 3 $\\times$ A - B + 2 for the two integers A and B.\n",
        "\n",
        "\\\n",
        "(1) Make the function of this calculation\n",
        "\n",
        "(2) Calculate (16_24)_ (21_7) with the function\n",
        "\n",
        "\n"
      ],
      "metadata": {
        "id": "l5hI1Op3peVm"
      }
    },
    {
      "cell_type": "markdown",
      "source": [
        "ーーーーーーーーーーーーーーーーーーーーーーーーーーーーーーーーーーーーーーーー\n",
        "\n",
        "(2) Arithmetic answer \n",
        "\n",
        "(16_24）＝3 $\\times$ 16 - 24 + 2 ＝26\n",
        "\n",
        "(21_7）＝3 $\\times$ 21 - ７ + 2 ＝58\n",
        "\n",
        "(26_58）＝3 $\\times$ 26 - 58 + 2 ＝ 22 ---- (Answer)\n",
        "\n"
      ],
      "metadata": {
        "id": "yW_UxwulN73L"
      }
    },
    {
      "cell_type": "markdown",
      "source": [
        "ーーーーーーーーーーーーーーーーーーーーーーーーーーーーーーーーーーーーーーーー\n",
        "\n",
        "[ Python ]\n",
        "\n",
        "(1) \n",
        "\n",
        "As same as the above problem, `def A_B(A, B):`\n",
        "\n",
        "Return the fomula of calculation as `return 3 * A - B + 2`\n",
        "\n",
        "\\\n",
        "(2)\n",
        "\n",
        "Assign the result of (16_24) to variable C and assign the result of (21_7) to variablle D\n",
        "\n",
        "Calculate C_D"
      ],
      "metadata": {
        "id": "xOLHsXqQq268"
      }
    },
    {
      "cell_type": "code",
      "source": [
        ""
      ],
      "metadata": {
        "id": "aIUFEdD0wA3l"
      },
      "execution_count": null,
      "outputs": []
    },
    {
      "cell_type": "code",
      "source": [
        "#(1)sample\n",
        "\n",
        "def A_B(A, B):\n",
        "  return 3 * A - B + 2\n",
        "\n",
        "#(2)\n",
        "\n",
        "C = A_B(16, 24)\n",
        "D = A_B(21, 7)\n",
        "\n",
        "print(A_B(C,D))"
      ],
      "metadata": {
        "id": "aRPV0hKcODgu"
      },
      "execution_count": null,
      "outputs": []
    },
    {
      "cell_type": "markdown",
      "source": [
        "---\n",
        "Q?\n",
        "\n",
        "When `<A, B>`, calculate `(A + B) x A - 2` \n",
        "\n",
        "When `<X, 2>`, result of calculation is 61. \n",
        "\n",
        "Define `<A, B>` as the function and find X \n",
        "\n",
        "\n"
      ],
      "metadata": {
        "id": "z201RZFdOLMP"
      }
    },
    {
      "cell_type": "markdown",
      "source": [
        "ーーーーーーーーーーーーーーーーーーーーーーーーーーーーーーーーーーーーーーーー\n",
        "\n",
        "Arithmetic answer \n",
        "\n",
        "Make an formula acording to the rule of calculation, \n",
        "\n",
        "(X + 2) $\\times$ X - 2 = 61 and (X + 2) $\\times$ X = 63, the number applicable is\n",
        "\n",
        "According to (7 + 2) $\\times$ 7 = 63, X = 7 ..... (answer)  \n"
      ],
      "metadata": {
        "id": "4Y9ti9eDEyzA"
      }
    },
    {
      "cell_type": "markdown",
      "source": [
        "ーーーーーーーーーーーーーーーーーーーーーーーーーーーーーーーーーーーーーーーー\n",
        "\n",
        "Define the function as same as above with `def` and `return`\n",
        "\n",
        "Estimate the range of X is 1 to 20 and assign the number to X\n",
        "\n",
        "Make `if stament` with the function and if applicable X is found, output X and break.\n",
        " "
      ],
      "metadata": {
        "id": "vmrv7RkWFkOt"
      }
    },
    {
      "cell_type": "code",
      "source": [
        ""
      ],
      "metadata": {
        "id": "7fLdOJh6HVWy"
      },
      "execution_count": null,
      "outputs": []
    },
    {
      "cell_type": "code",
      "metadata": {
        "id": "Ga-aFwB_1dt-"
      },
      "source": [
        "#sample\n",
        "\n",
        "def A_B(A, B):\n",
        "  return (A + B) * A - 2\n",
        "\n",
        "for X in range(1, 21):\n",
        "  if A_B(X, 2) == 61:\n",
        "    print(X)\n",
        "    break\n"
      ],
      "execution_count": null,
      "outputs": []
    },
    {
      "cell_type": "markdown",
      "source": [
        "### Greatest common divisor"
      ],
      "metadata": {
        "id": "sFmRLq7WOnAR"
      }
    },
    {
      "cell_type": "markdown",
      "source": [
        "\n",
        "---\n",
        "\n",
        "Q?\n",
        "\n",
        "\n",
        "\n",
        "What is the program to find the greatest common divisor when two integers are input?\n",
        "\n",
        "\n"
      ],
      "metadata": {
        "id": "PvHB8_ISOp4D"
      }
    },
    {
      "cell_type": "markdown",
      "source": [
        "\n",
        "――――――――――――――――――――――――――――――――――――――――――――――――\n",
        "\n",
        "\n",
        "\n",
        "Input two numbers a and b with the input() function\n",
        "\n",
        "\n",
        "\\\n",
        "If a is smaller, divide b by a, if b is smaller, divide a by b\n",
        "\n",
        "    if a < b :\n",
        "      divisor = a\n",
        "    else:\n",
        "      divisor = b\n",
        "\n",
        "There is another method of using replacement such as `a, b = b, a`, if you like.\n",
        "\n",
        "\\\n",
        "In the case of this problem, the range of numbers is not fixed, \n",
        "\n",
        "use the `while statement`.\n",
        "\n",
        "\n",
        "\\\n",
        "If the divisor divides both a and b, end the iteration with `break`\n",
        "\n",
        "\n",
        "\\\n",
        "If not, reduce the number of divisors by 1.\n",
        "\n",
        "\n",
        "\\\n",
        "When the iteration ends with `break`, the final divisor becomes \n",
        "\n",
        "the greatest common divisor and is output.\n"
      ],
      "metadata": {
        "id": "bN0KdhoyOunP"
      }
    },
    {
      "cell_type": "code",
      "source": [
        ""
      ],
      "metadata": {
        "id": "6TedmNKeBNov"
      },
      "execution_count": null,
      "outputs": []
    },
    {
      "cell_type": "code",
      "source": [
        "#sample\n",
        "\n",
        "a = int (input (\"Enter integer a: a =\"))\n",
        "b = int (input (\"Enter integer b: b =\"))\n",
        "\n",
        "if a < b :\n",
        "  divisor = a\n",
        "else:\n",
        "  divisor = b\n",
        "\n",
        "while True:              #or while divisor> 1: \n",
        "  if a % divisor == 0 and b % divisor == 0:\n",
        "    break\n",
        "  else:    \n",
        "    divisor -= 1\n",
        "\n",
        "print (\"The greatest common divisor is\", divisor, \".\")\n"
      ],
      "metadata": {
        "id": "SCW6fW4E3Oug"
      },
      "execution_count": null,
      "outputs": []
    },
    {
      "cell_type": "markdown",
      "source": [
        "---\n",
        "\n",
        "As for the least common multiple,\n",
        "\n",
        "(Greatest common divisor) $\\times$ (Least common multiple) \n",
        "= (Production of two numbers)\n",
        "\n",
        "\\\n",
        "So, find the greatest common divisor first and \n",
        "\n",
        "(Least common multiple) = $ \\dfrac {(product-of- two- numbers)} {(greatest-common-divisor)} $\n"
      ],
      "metadata": {
        "id": "ckJLlgpZO4jt"
      }
    },
    {
      "cell_type": "markdown",
      "source": [
        "\n",
        "---\n",
        "\n",
        "Q?\n",
        "\n",
        "\n",
        "\n",
        "The method of finding the greatest common divisor of two natural \n",
        "\n",
        "numbers `a` and` b` as follows is called Euclidean algorithm.\n",
        "\n",
        "\n",
        "\\\n",
        "(1)  Divide `a` by` b` to find the remainder `x`\n",
        "\n",
        "\n",
        "\\\n",
        "(2)  Divide `b` by the remainder` x` obtained in (1) to obtain the remainder `y`.\n",
        "\n",
        "\n",
        "\\\n",
        "(3)  Divide `x` by the remainder` y` obtained in (2), and find the remainder `z`.\n",
        "\n",
        "\n",
        "\\\n",
        "If you repeat this operation, it will be divisible at the end\n",
        "\n",
        "\n",
        "\\\n",
        "The number divided when it is divisible is the desired greatest \n",
        "\n",
        "common divisor of `a`,` b`.\n",
        "\n",
        "\n",
        "\\\n",
        "For example, if the greatest common divisor of 2453 and 10704 is done by the Euclidean algorithm,\n",
        "\n",
        "10704 $\\div$ 2453 = 4 remainder 892\n",
        "\n",
        "\n",
        "\n",
        "2453 $\\div$ 892 ＝ 2 remainder 669\n",
        "\n",
        "\n",
        "\n",
        "892 $\\div$ 669 = 1 remainder 223\n",
        "\n",
        "\n",
        "\n",
        "669 $\\div$ 223 = 3\n",
        "\n",
        "\n",
        "\\\n",
        "From this calculation, the greatest common divisor of 2453 and 10704 is 223.\n",
        "\n",
        "\n",
        "\\\n",
        "What is the program for finding the greatest common divisor with this Euclidean algorithm?\n",
        "\n",
        "\n",
        "\\\n",
        "Make sure to enter two numbers\n",
        "\n",
        "\n",
        "\n",
        "\n",
        "\n",
        "――――――――――――――――――――――――――――――――――――――――――――――――\n",
        "\n",
        "\n",
        "\n",
        "Calculate `a % b` and assign the remainder to` r`, regardless of which of a and b is larger\n",
        "\n",
        "\n",
        "\\\n",
        "When `r` becomes 0,` break` and outputs `b` as the greatest common divisor.\n",
        "\n",
        "\n",
        "\\\n",
        "If `r` is not 0, assign b to a with` a = b` and assign r to b with `b = r`.\n",
        "\n",
        "\n",
        "\\\n",
        "This ensures that a and b are swapped if a < b.\n"
      ],
      "metadata": {
        "id": "URcGP_OQO-UJ"
      }
    },
    {
      "cell_type": "code",
      "source": [
        ""
      ],
      "metadata": {
        "id": "MxCUGy1fb7Co"
      },
      "execution_count": null,
      "outputs": []
    },
    {
      "cell_type": "code",
      "source": [
        "#sample\n",
        "\n",
        "a = int (input (\"Enter integer a: a =\"))\n",
        "b = int (input (\"Enter integer b: b =\"))\n",
        "\n",
        "while True:\n",
        "  r = a % b\n",
        "  if r == 0:\n",
        "    break\n",
        "  else: \n",
        "    a = b\n",
        "    b = r\n",
        "\n",
        "print (\"The greatest common divisor is\", b, \".\")\n"
      ],
      "metadata": {
        "id": "O6eRrR2ZKAfe"
      },
      "execution_count": null,
      "outputs": []
    },
    {
      "cell_type": "markdown",
      "source": [
        "### Prime factorization"
      ],
      "metadata": {
        "id": "C2kNKPCKW53I"
      }
    },
    {
      "cell_type": "markdown",
      "source": [
        "\n",
        "---\n",
        "\n",
        "Q?\n",
        "\n",
        "\n",
        "\n",
        "What is the program that factorizes into prime factors \n",
        "\n",
        "when a natural number (up to about 10000) is input?\n"
      ],
      "metadata": {
        "id": "hUN28mhtXATm"
      }
    },
    {
      "cell_type": "markdown",
      "source": [
        "\n",
        "――――――――――――――――――――――――――――――――――――――――――――――――\n",
        "\n",
        "\n",
        "\n",
        "Natural number is an integer of 1 or more.\n",
        "\n",
        "\n",
        "\\\n",
        "Image that natural numbers are part of integers.\n",
        "\n",
        "\n",
        "\n",
        "\\\n",
        "\n",
        "(1) Input the number to be factorized into prime factors\n",
        "\n",
        "\n",
        "\\\n",
        "(2) Set the variable that assigned the prime number to divide as `p`\n",
        "\n",
        "and assign 2 at first.\n",
        "\n",
        "\\\n",
        "And prepare an empty box `factor = []` in the list to put the prime factor.\n",
        "\n",
        "\n",
        "\n",
        "(3) If the natural number `n` is divisible by `p`, \n",
        "\n",
        "append `p` to `factor`.\n",
        "\n",
        "\n",
        "\\\n",
        "Let the number of `n` divided by `p` be a new `n` \n",
        "\n",
        "and repeat this process until `n` is no longer divisible by `p`.\n",
        "\n",
        "\n",
        "\\\n",
        "(4) When `n` is not divisible by `p`, add 1 to `p`.\n",
        "\n",
        "\n",
        "\\\n",
        "(5) If `n` > 1, return to (3), and if `n` = 1, end.\n",
        "\n",
        "\n",
        "\n",
        "\\\n",
        "\n",
        "It's hard to understand because there are two while statements.\n",
        "\n",
        "\n",
        "\\\n",
        "The first while is a while that says, \n",
        "\n",
        "\"If `n` is greater than 1, add 1 to `p` and repeat the second while.\"\n",
        "\n",
        "\n",
        "\\\n",
        "The second while is \n",
        "\n",
        "\"If it is divisible by the same prime factor, the division is repeated\".\n",
        "\n"
      ],
      "metadata": {
        "id": "4OxblE-vXDv2"
      }
    },
    {
      "cell_type": "code",
      "source": [
        "#sample\n",
        "\n",
        "n = int (input (\"Enter the number to be factored into:\"))\n",
        "p = 2\n",
        "factor =[]\n",
        "\n",
        "while n > 1:\n",
        "  while n % p == 0:\n",
        "    factor.append(p)\n",
        "    n = n / p\n",
        "  p += 1\n",
        "\n",
        "print('Factors are', factor)\n",
        "\n",
        "print('Max factor is ', max(factor))    #When you want to output the largest prime factor\n",
        "\n"
      ],
      "metadata": {
        "id": "7pi2oGOTXLtd"
      },
      "execution_count": null,
      "outputs": []
    },
    {
      "cell_type": "markdown",
      "source": [
        "###Function of prime factorization"
      ],
      "metadata": {
        "id": "cqVYCCd5p_XY"
      }
    },
    {
      "cell_type": "markdown",
      "source": [
        "---\n",
        "Q?\n",
        "\n",
        "What is the function to do prime factorization?"
      ],
      "metadata": {
        "id": "Fr3UManQqLzF"
      }
    },
    {
      "cell_type": "markdown",
      "source": [
        "ーーーーーーーーーーーーーーーーーーーーーーーーーーーーーーーーーーーーーーーー\n",
        "\n",
        "Just make the program created above a function.\n",
        "\n",
        "Here, there is one `while statement`and a `for loop` is added."
      ],
      "metadata": {
        "id": "iy61tUUHqXic"
      }
    },
    {
      "cell_type": "code",
      "source": [
        "#sample\n",
        "\n",
        "def p_factorize(x):\n",
        "  factor = []\n",
        "  for i in range(2, x+1):\n",
        "      while x % i==0:\n",
        "        factor.append(i)\n",
        "        x = x / i\n",
        "  return factor\n",
        "\n",
        "p_factorize(10)"
      ],
      "metadata": {
        "id": "wUskt-q-eqQX"
      },
      "execution_count": null,
      "outputs": []
    },
    {
      "cell_type": "markdown",
      "source": [
        "###prime number"
      ],
      "metadata": {
        "id": "6gsv0Ge7o4eb"
      }
    },
    {
      "cell_type": "markdown",
      "source": [
        "\n",
        "---\n",
        "\n",
        "Q?\n",
        "\n",
        "\n",
        "What is the program to output the prime numbers in 1 to 100?"
      ],
      "metadata": {
        "id": "UAf9dMOtXqN3"
      }
    },
    {
      "cell_type": "markdown",
      "source": [
        "――――――――――――――――――――――――――――――――――――――――――――――――\n",
        "\n",
        "\n",
        "A prime number is a number with only two divisors of 1 and the number itself.\n",
        "\n",
        "\n",
        "\\\n",
        "Numbers other than 1 and prime numbers are called composite numbers.\n",
        "\n",
        "\n",
        "\n",
        "The number of divisors is 3 or more.\n",
        "\n",
        "\n",
        "\n",
        "――――――――――――――――――――――――――――――――――――――――――――――――\n",
        "\n",
        "\n",
        "\n",
        "Assign a number from 2 to 100 (from 2 because 1 is not a prime number) \n",
        "\n",
        "to the variable `a` in `for loop` \n",
        "\n",
        "and the number from 2 to (input number) -1 that is a candidate for a divisor is \n",
        "\n",
        "assigned in order to `b` in the second `for loop`.\n",
        "\n",
        "\\\n",
        "\n",
        "If `a` is divided by `b`, a is not a prime number, so break the for loop \n",
        "\n",
        "with `break` and move to the next number.\n",
        "\n",
        "\n",
        "\\\n",
        "If not (`else`), that is, if a does not break at any `b`, then `a` is \n",
        "\n",
        "a prime number and is printed with` print`.\n"
      ],
      "metadata": {
        "id": "5BIw9LURXx7Y"
      }
    },
    {
      "cell_type": "code",
      "source": [
        "#sample\n",
        "\n",
        "for a in range(2, 101):\n",
        "  for b in range(2, a):\n",
        "    if a % b == 0:\n",
        "      break\n",
        "  else:\n",
        "    print (a, end =', ')    # You don't have to separate them with comma (,)\n"
      ],
      "metadata": {
        "id": "Qi5UV7CqjgE3"
      },
      "execution_count": null,
      "outputs": []
    },
    {
      "cell_type": "markdown",
      "source": [
        "\n",
        "---\n",
        "\n",
        "Q?\n",
        "\n",
        "\n",
        "\n",
        "What is the program that determines whether the input natural number \n",
        "\n",
        "is a prime number or not?\n"
      ],
      "metadata": {
        "id": "emj4PLcVX4ZP"
      }
    },
    {
      "cell_type": "markdown",
      "source": [
        "\n",
        "――――――――――――――――――――――――――――――――――――――――――――――――\n",
        "\n",
        "\n",
        "\n",
        "Enter a natural number with the `input()` function, convert it to an integer \n",
        "\n",
        "with the `int()` function, and assign it to the variable `a`.\n",
        "\n",
        "\n",
        "\\\n",
        "If `a` is 1, output \"1 (a) is not a prime number\"\n",
        "\n",
        "\\\n",
        "If `a` is 2 or more, it is a composite number or a prime number, \n",
        "\n",
        "so the calculation is the same as above.\n",
        "\n",
        "\n",
        "\\\n",
        "In the case of composite number, \"xx(a) is not a prime number\" is output.\n",
        "\n",
        "\n",
        "\\\n",
        "Other than that (`else`) is a prime number, so\" xx(a) is a prime number \" \n",
        "\n",
        "is output.\n"
      ],
      "metadata": {
        "id": "I9I1vnHPX66Q"
      }
    },
    {
      "cell_type": "code",
      "source": [
        "#sample\n",
        "\n",
        "a = int (input (\"Enter a natural number:\"))\n",
        "\n",
        "if a == 1:\n",
        "  print (a, \"is not a prime number\")\n",
        "\n",
        "elif a >= 2 :\n",
        "  for b in range(2, a):\n",
        "    if a % b == 0:\n",
        "      print (a, \"is not a prime number\")\n",
        "      break\n",
        "  else:\n",
        "    print (a, \"is a prime number\")\n"
      ],
      "metadata": {
        "id": "GItbeOx9C2wT"
      },
      "execution_count": null,
      "outputs": []
    },
    {
      "cell_type": "markdown",
      "source": [
        "### Number of cases"
      ],
      "metadata": {
        "id": "wtWgdwK0dJGY"
      }
    },
    {
      "cell_type": "markdown",
      "source": [
        "---\n",
        "\n",
        "Q?\n",
        "\n",
        "\n",
        "\n",
        "How to choose 2 students for cleaning duty from 5 ?\n"
      ],
      "metadata": {
        "id": "UtOHpRK9dMov"
      }
    },
    {
      "cell_type": "markdown",
      "source": [
        "\n",
        "――――――――――――――――――――――――――――――――――――――――――――――――\n",
        "\n",
        "\n",
        "\n",
        "[ Arithmetic solution ]\n",
        "\n",
        "\n",
        "\n",
        "Number of ways to choose 2 students from 5 is \n",
        "\n",
        "$ \\dfrac {5 × 4} {2 × 1} $= 10 ways  ・ ・ ・ (answer)\n",
        "\n",
        "\n",
        "\n",
        "\\\n",
        "\n",
        "[ Python ]\n",
        "\n",
        "\n",
        "\n",
        "Set `count` variable for counting ways to choose to 0\n",
        "\n",
        "\n",
        "\\\n",
        "If there are five people, a, b, c, d, and e, 1 for the cleaning duty and 0 for the non-duty.\n",
        "\n",
        "\\\n",
        "Since all 5 people are either 1 or 0, if you make all cases with `for loop`,\n",
        "\n",
        "\n",
        "    for a in range(2):\n",
        "      for b in range(2):\n",
        "        for c in range(2):\n",
        "          for d in range(2):\n",
        "            for e in range(2):\n",
        "\n",
        "Since there are two people on duty, count when the sum is 2, \n",
        "\n",
        "and `count` output when all the checks are completed.\n",
        "\n",
        "               if a + b + c + d + e == 2:\n",
        "                  count += 1\n",
        "\n",
        "    print (count,'ways')\n"
      ],
      "metadata": {
        "id": "f1O07pb3dP9c"
      }
    },
    {
      "cell_type": "code",
      "source": [
        ""
      ],
      "metadata": {
        "id": "1IV_dfepB1Qo"
      },
      "execution_count": null,
      "outputs": []
    },
    {
      "cell_type": "code",
      "source": [
        "#sample\n",
        "\n",
        "count = 0\n",
        "\n",
        "for a in range(2):\n",
        "  for b in range(2):\n",
        "    for c in range(2):\n",
        "      for d in range(2):\n",
        "        for e in range(2):\n",
        "          if a + b + c + d + e == 2:\n",
        "            print(a,b,c,d,e)\n",
        "            count += 1\n",
        "\n",
        "print (count,'ways')\n"
      ],
      "metadata": {
        "id": "AfHca-uDOpaS"
      },
      "execution_count": null,
      "outputs": []
    },
    {
      "cell_type": "markdown",
      "source": [
        "\n",
        "---\n",
        "\n",
        "Q?\n",
        "\n",
        "How many ways to choose the cleaning duty from the five students? \n",
        "\n",
        "The number of student is from 1 to 5."
      ],
      "metadata": {
        "id": "ArAlIZYcdaeE"
      }
    },
    {
      "cell_type": "markdown",
      "source": [
        "\n",
        "――――――――――――――――――――――――――――――――――――――――――――――――\n",
        "\n",
        "\n",
        "\n",
        "[ Arithmetic solution ]\n",
        "\n",
        "\n",
        "\n",
        "There are two ways of on duty or not on each of the five people.\n",
        "\n",
        "\\\n",
        "Number of ways in total is\n",
        "\n",
        "2 $\\times$ 2 $\\times$ 2 $\\times$ 2 $\\times$ 2 = 32 ways\n",
        "\n",
        "\n",
        "\\\n",
        "This includes that nobody is on duty, so it is excluded, \n",
        "\n",
        "32 - 1 = 31 ways ... (Answer)\n",
        "\n",
        "\n",
        "\n",
        "\\\n",
        "\n",
        "[ Python ]\n",
        "\n",
        "\n",
        "\n",
        "The idea is exactly the same as the previous problem, \n",
        "\n",
        "when counting, if the sum is non-zero,\n",
        "\n",
        "               if a + b + c + d + e != 0:\n"
      ],
      "metadata": {
        "id": "Na9MahuKddv1"
      }
    },
    {
      "cell_type": "code",
      "source": [
        ""
      ],
      "metadata": {
        "id": "wMBoy02SDjVX"
      },
      "execution_count": null,
      "outputs": []
    },
    {
      "cell_type": "code",
      "source": [
        "#sample\n",
        "#Each person will be on duty or not, yes = 1 and not = 0\n",
        "#Check the number in all cases\n",
        "#However, except all 0\n",
        "\n",
        "count = 0\n",
        "\n",
        "for a in range(2):\n",
        "  for b in range(2):\n",
        "    for c in range(2):\n",
        "      for d in range(2):\n",
        "        for e in range(2):\n",
        "          if a + b + c + d + e != 0:\n",
        "            count += 1               \n",
        "\n",
        "print (count, \"ways\")\n"
      ],
      "metadata": {
        "id": "5INmvbaXa-1y"
      },
      "execution_count": null,
      "outputs": []
    },
    {
      "cell_type": "markdown",
      "source": [
        "\n",
        "---\n",
        "\n",
        "Q?\n",
        "\n",
        "How many ways to arrange 9 balls, 3 white balls and 6 black balls, in a row?"
      ],
      "metadata": {
        "id": "bvceZC4bdlt9"
      }
    },
    {
      "cell_type": "markdown",
      "source": [
        "\n",
        "――――――――――――――――――――――――――――――――――――――――――――――――\n",
        "\n",
        "\n",
        "\n",
        "[ Arithmetic solution ]\n",
        "\n",
        "\n",
        "\n",
        "It can be read as \"How many ways to put 3 white balls in 9 boxes arranged in a row\".\n",
        "\n",
        "\n",
        "\\\n",
        "If you put in white balls, boxes to put black is automatically decided.\n",
        "\n",
        "\n",
        "\\\n",
        "Then, ways of choosing 3 out of 9, \n",
        "\n",
        "$ \\dfrac {9 × 8 × 7} {3 × 2 × 1}$ = 84 ways --- (answer)\n",
        "\n",
        "\n",
        "\n",
        "\\\n",
        "\n",
        "[ Python ]\n",
        "\n",
        "\n",
        "\n",
        "Regarding the number of cases, there are some programs (functions) in Python, \n",
        "\n",
        "and in the future we will use them to find the number of cases.\n",
        "\n",
        "\n",
        "\\\n",
        "Here, we will consider the code using the basic idea such as `for loop` \n",
        "\n",
        "and `if statement`.\n",
        "\n",
        "\n",
        "\n",
        "\\\n",
        "\n",
        "Set `count` variable for counting ways to 0\n",
        "\n",
        "\n",
        "\\\n",
        "Consider how to put white or black in the boxes a ~ i \n",
        "\n",
        "with white ball = 1 and black ball = 0.\n",
        "\n",
        "\n",
        "\\\n",
        "There are 9 boxes of a, b, c, d, e, f, g, h, and i, each of which contains \n",
        "\n",
        "white or black, so if you make all cases with `for loop`,\n",
        "\n",
        "    for a in range(2):\n",
        "      for b in range(2):\n",
        "        for c in range(2):\n",
        "          for d in range(2):\n",
        "            for e in range(2):\n",
        "              for f in range(2):\n",
        "                for g in range(2):\n",
        "                  for h in range(2):\n",
        "                    for i in range(2):\n",
        "\n",
        "Number of white ball is three, then counts when sum is 3.\n",
        "\n",
        "\\\n",
        "`count` is output when all cases are checked.\n",
        "\n",
        "               if a + b + c + d + e + f + g + h + i == 3:\n",
        "                  count += 1\n",
        "\n",
        "    print (count,'ways')\n"
      ],
      "metadata": {
        "id": "Xx3t7ZqudpS_"
      }
    },
    {
      "cell_type": "code",
      "source": [
        "#sample\n",
        "\n",
        "count = 0\n",
        "\n",
        "for a in range(2):\n",
        "  for b in range(2):\n",
        "    for c in range(2):\n",
        "      for d in range(2):\n",
        "        for e in range(2):\n",
        "          for f in range(2):\n",
        "            for g in range(2):\n",
        "              for h in range(2):\n",
        "                for i in range(2):\n",
        "                  #print(a,b,c,d,e,f,g,h,i)\n",
        "                  if a + b + c + d + e + f + g + h + i == 3:\n",
        "                    count += 1\n",
        "\n",
        "print (count, \"ways\")\n"
      ],
      "metadata": {
        "id": "E2dUmwtKdyZO"
      },
      "execution_count": null,
      "outputs": []
    },
    {
      "cell_type": "markdown",
      "source": [
        "If you write the for loop part using `list comprehension`"
      ],
      "metadata": {
        "id": "_Kekh0wWd2Rs"
      }
    },
    {
      "cell_type": "code",
      "source": [
        "#List comprehension\n",
        "\n",
        "count = 0\n",
        "\n",
        "list1 = [0, 1]\n",
        "list2 = [[a, b, c, d, e, f, g, h, i] for a in list1 for b in list1 for c in list1 for d in list1 for e in list1 for f in list1 for g in list1 for h in list1 for i in list1]\n",
        "\n",
        "for a, b, c, d, e, f, g, h, i in list2:\n",
        "  #print(a, b, c, d, e, f, g, h, i)\n",
        "  if a + b + c + d + e + f + g + h + i == 3:\n",
        "    count += 1\n",
        "\n",
        "print (count, \"ways\")\n",
        "  \n"
      ],
      "metadata": {
        "id": "3NmMIifvd4i3"
      },
      "execution_count": null,
      "outputs": []
    },
    {
      "cell_type": "markdown",
      "source": [
        "###itertools"
      ],
      "metadata": {
        "id": "doEmEanpq0oI"
      }
    },
    {
      "cell_type": "markdown",
      "source": [
        "In addition, there is also a method of using a program (module) \n",
        "\n",
        "called `itertools` which I explained a little earlier.\n",
        "\n",
        "\\\n",
        "The idea is exactly the same as sample"
      ],
      "metadata": {
        "id": "ApGV6yy-eDej"
      }
    },
    {
      "cell_type": "code",
      "source": [
        "#itertools\n",
        "\n",
        "import itertools\n",
        "\n",
        "list1 = itertools.product(range(2), repeat = 9)\n",
        "\n",
        "count=0\n",
        "\n",
        "for a,b,c,d,e,f,g,h,i in list1:\n",
        "  if a + b + c + d + e + f + g + h + i == 3:\n",
        "    count+=1\n",
        "\n",
        "print (count, 'ways')\n"
      ],
      "metadata": {
        "id": "10-4ZsR6eHBx"
      },
      "execution_count": null,
      "outputs": []
    },
    {
      "cell_type": "markdown",
      "source": [
        "###scipy"
      ],
      "metadata": {
        "id": "AeJJrSIBq3Ka"
      }
    },
    {
      "cell_type": "markdown",
      "source": [
        "---\n",
        "The combination can be calculated by the program(module) called `scipy`.\n",
        "\n",
        "\n",
        "\\\n",
        "There is a program called `special.comb()` in `scipy`\n",
        "\n",
        "and if you use it, it will calculate [ Arithmetic solution ] as it is.\n"
      ],
      "metadata": {
        "id": "iQbcHQsBeR5A"
      }
    },
    {
      "cell_type": "code",
      "source": [
        "# Import special program from scipyl module\n",
        "\n",
        "from scipy import special\n",
        "\n",
        "# Number of combinations of 9 to 3 pieces\n",
        "\n",
        "x = special.comb(9, 3)\n",
        "\n",
        "print (int(x), \"ways\")\n"
      ],
      "metadata": {
        "id": "ZU2TJWD7eUlk"
      },
      "execution_count": null,
      "outputs": []
    },
    {
      "cell_type": "markdown",
      "source": [
        "★ Check it Out Part 2\n",
        "\n",
        "\n",
        "\\\n",
        "Arithmetic problems can be almost solved if you can read the problem sentences \n",
        "\n",
        "accurately and organize the conditions written in the problem sentences \n",
        "\n",
        "so that you can easily understand them.\n",
        "\n",
        "\n",
        "\\\n",
        "It is important to interpret the problem accurately and organize the conditions.\n",
        "\n",
        "\n",
        "\\\n",
        "The same is true for Python, so if you can organize data such as numbers and \n",
        "\n",
        "string/characters (also called information), you can create a program.\n",
        "\n",
        "\n",
        "\\\n",
        "It's important to think about how to organize your data.\n",
        "\n",
        "\n",
        "\\\n",
        "Code-writing techniques can be learned soon if you have the basics.\n",
        "\n",
        "\n",
        "\\\n",
        "Develop` think power (basics)` now\n"
      ],
      "metadata": {
        "id": "RlfvXjGGhiRA"
      }
    },
    {
      "cell_type": "markdown",
      "source": [
        "\n",
        "---\n",
        "\n",
        "Q?\n",
        "\n",
        "How many ways to arrange 7 numbers 1, 1, 1, 2, 2, 3, 3 in a row \n",
        "\n",
        "so that the same numbers are not next to each other?"
      ],
      "metadata": {
        "id": "veR-WdhKhoF8"
      }
    },
    {
      "cell_type": "markdown",
      "source": [
        "\n",
        "――――――――――――――――――――――――――――――――――――――――――――――――\n",
        "\n",
        "\n",
        "\n",
        "[ Arithmetic solution ] \n",
        "\n",
        "\n",
        "\n",
        "When the first number in the row is 1, 2, and 3, check the case classification \n",
        "\n",
        "by the Tree diagram respectively.\n",
        "\n",
        "\n",
        "\\\n",
        "Since the numbers of 2 and 3 are same, \n",
        "\n",
        "the case of 3 is the same as the case of 2.\n",
        "\n",
        "\n",
        "\\\n",
        "I didn't draw a tree diagram in this text cell, so the table below looks \n",
        "\n",
        "a little hard to see.\n",
        "\n",
        "\n",
        "\\\n",
        "(1) Looking at the case where the first is 1 and the second is 2, \n",
        "\n",
        "there are 10 ways as shown in the table below.\n",
        "\n",
        "\n",
        "\\\n",
        "(2) The same conditions apply when the first is 1 and the second is 3, \n",
        "\n",
        "so there are 10 ways.\n",
        "\n",
        "\n",
        "\\\n",
        "\n",
        "|No. 1 | No. 2 | No. 3 | No. 4 | No. 5 | No. 6 | No. 7 | \n",
        "|:------:|:------:|:------:|:------:|:------:|:------:|:------:|\n",
        "| | | | | 1 | 3 | NG |\n",
        "| | | | 2 | | | |\n",
        "| | | | | 3 | 1 | 3 |\n",
        "| | | 1 | | | | |\n",
        "| | | | | | 2 | 3 |\n",
        "| | | | | 1 | | |\n",
        "| | | | | | 3 | 2 |\n",
        "| | | | 3 | | | |\n",
        "| | | | | | 1 | 3 |\n",
        "| | | | | 2 | | |\n",
        "| | | | | | 3 | 1 |\n",
        "| 1 | 2 | | | | | |\n",
        "| | | | | | | |\n",
        "| | | | | | 1 | 3 |\n",
        "| | | | | 2 | | |\n",
        "| | | | 1 | | 3 | 1 |\n",
        "| | | | | | | |\n",
        "| | | | | | 1 | 2 |\n",
        "| | | | | 3 | | |\n",
        "| | | 3 | | | 2 | 1 |\n",
        "| | | | | | | |\n",
        "| | | | | 1 | 3 | 1 |\n",
        "| | | | 2 | | | |\n",
        "| | | | | 3 | 1 | NG |\n",
        "\n",
        "\n",
        "\\\n",
        "(3) If you look at the cases where the first is 2 and the second is 1 and 3, \n",
        "\n",
        "there are 9 ways as shown in the table below.\n",
        "\n",
        "\n",
        "\\\n",
        "(4) There are 9 ways when the first is 3 and the second is 1 and 2.\n",
        "\n",
        "\n",
        "\\\n",
        "\n",
        "\n",
        "|No. 1 | No. 2 | No. 3 | No. 4 | No. 5 | No. 6 | No. 7 | \n",
        "|:------:|:------:|:------:|:------:|:------:|:------:|:------:|\n",
        "| | | | 1 | 3 | 1 | 3 |\n",
        "| | | 2 | | | | |\n",
        "| | | | 3 | 1 | 3 | 1 |\n",
        "| | 1 | | | | | |\n",
        "| | | | | | 1 | 3 |\n",
        "| | | | | 2 | | |\n",
        "| | | | 1 | | 3 | 1 |\n",
        "| | | | | | | |\n",
        "| | | | | | 1 | 2 |\n",
        "| | | | | 3 | | |\n",
        "| | | 3 | | | 2 | 1 |\n",
        "| | | | | | | |\n",
        "| 1 | | | | | | |\n",
        "| | | | | | | |\n",
        "| | | | | 1 | 3 | 1 |\n",
        "| | | | 2 | | | |\n",
        "| | | | | 3 | 1 | NG |\n",
        "| | | | | | | |\n",
        "| | | | | 1 | 3 | 1 |\n",
        "| | | | 2 | | | |\n",
        "| | | 1 | | 3 | 1 | NG |\n",
        "| | | | | | | |\n",
        "| | | | | 1 | 2 | 1 |\n",
        "| | | | 3 | | | |\n",
        "| | | | | 2 | 1 | NG |\n",
        "| | 3 | | | | | |\n",
        "| | | | | | | |\n",
        "| | | | 1 | 3 | 1 | NG |\n",
        "| | | 2 | | | | |\n",
        "| | | | 3 | 1 | NG | |\n",
        "\n",
        "\n",
        "\\\n",
        "In total of (1) to (4) above, 10 + 10 + 9 $\\times$ 2 = 38 ways ... (answer)\n",
        "\n",
        "\n",
        "\n",
        "\\\n",
        "\n",
        "[ Python ]\n",
        "\n",
        "\n",
        "\n",
        "From all possible cases of 7 variables, calculate the case \n",
        "\n",
        "where 1 + 1 + 1 + 2 + 2 + 3 + 3 = 13, but\n",
        "\n",
        "\\\n",
        "if you try, other combinations that total 13 such as \n",
        "\n",
        "1 + 1 + 1 + 1 + 3 + 3 + 3 = 13 are also counted.\n",
        "\n",
        "\n",
        "\\\n",
        "Therefore, I change the numbers to avoid double count\n",
        "\n",
        "from 1, 1, 1, 2, 2, 3, 3 to 1, 1, 1, 20, 20, 300, 300.\n",
        "\n",
        "\n",
        "\\\n",
        "Consider the case where the sum is 1 + 1 + 2 + 20 + 20 + 300 + 300 = 643\n",
        "\n",
        "\n",
        "\\\n",
        "Then you can only count when there are three 1s, two 2s, and two 3s.\n",
        "\n",
        "\n",
        "\n",
        "\\\n",
        "\n",
        "Set the counter to 0\n",
        "\n",
        "    count = 0\n",
        "\n",
        "Create all cases where a to g are 1, 20, or 300,\n",
        "\n",
        "    for a in [1, 20, 300]:\n",
        "      for b in [1, 20, 300]:\n",
        "        for c in [1, 20, 300]:\n",
        "          for d in [1, 20, 300]:\n",
        "            for e in [1, 20, 300]:\n",
        "              for f in [1, 20, 300]:\n",
        "                for g in [1, 20, 300]:\n",
        "\n",
        "Create an if statement with the total is 643 and \n",
        "\n",
        "the numbers that are next to each other are different.\n",
        "\n",
        "                  if a + b + c + d + e + f + g == 643 and \\\n",
        "\n",
        "                  a != b and b != c and c != d and d != e and e != f and f != g :\n",
        "\n",
        "Counts cases that meet the conditions and outputs `count` at the end \n",
        "\n",
        "when all loops are completed.\n",
        "\n",
        "                    count += 1\n",
        "\n",
        "    print (count, 'ways')\n"
      ],
      "metadata": {
        "id": "rGfscndBhu2Y"
      }
    },
    {
      "cell_type": "code",
      "source": [
        ""
      ],
      "metadata": {
        "id": "Qk8BaeaQCZaf"
      },
      "execution_count": null,
      "outputs": []
    },
    {
      "cell_type": "code",
      "source": [
        "#sample\n",
        "\n",
        "count = 0\n",
        "\n",
        "for a in [1, 20, 300] :\n",
        "  for b in [1, 20, 300] :\n",
        "    for c in [1, 20, 300] :\n",
        "      for d in [1, 20, 300] :\n",
        "        for e in [1, 20, 300] :\n",
        "          for f in [1, 20, 300] :\n",
        "            for g in [1, 20, 300] :\n",
        "              if a + b + c + d + e + f + g == 643 and \\\n",
        "              a != b and b != c and c != d and d != e and e != f and f != g:\n",
        "                #print(a,b,c,d,e,f,g)\n",
        "                count += 1\n",
        "\n",
        "print (count,'ways')\n"
      ],
      "metadata": {
        "id": "wdB7fAChKoIx"
      },
      "execution_count": null,
      "outputs": []
    },
    {
      "cell_type": "markdown",
      "source": [
        "---\n",
        "\n",
        "Q?\n",
        "\n",
        "\n",
        "Some children bring gifts and exchange them.\n",
        "\n",
        "\n",
        "\n",
        "Be sure to the gift bringing back is different from the one you brought.\n",
        "\n",
        "\n",
        "\n",
        "How many ways are there the exchange of gifts in the following cases?\n",
        "\n",
        "\n",
        "\n",
        "(1) When exchanging with 3 people\n",
        "\n",
        "\n",
        "\n",
        "(2) When exchanging with 4 people\n",
        "\n",
        "\n",
        "\n",
        "(3) When exchanging with 5 people\n",
        "\n"
      ],
      "metadata": {
        "id": "lvDTGSx6iEic"
      }
    },
    {
      "cell_type": "markdown",
      "source": [
        "\n",
        "[ Arithmetic solution ]\n",
        "\n",
        " \n",
        "\n",
        "(1)\n",
        "\n",
        "\n",
        "\n",
        "There are two combinations of gifts in case of three children  \n",
        "\n",
        "as (a, b, c) = (b, c, a), (c, a, b) ... 2 ways  (Answer)\n",
        "\n",
        "\n",
        "\\\n",
        "(2)\n",
        "\n",
        "\n",
        "\n",
        "In the case of 4 children a, b, c, d, if b receives from a,\n",
        "\n",
        "\n",
        "\\\n",
        "(a, b, c, d) = (b, a, d, c), (b, c, d, a), (b, d, a, c)  3 ways\n",
        "\n",
        "\n",
        "\\\n",
        "There are 3 ways each for c and d to receives from a, \n",
        "\n",
        "so 3 x 3 = 9 ways ... (answer)\n",
        "\n",
        "\n",
        "\\\n",
        "(3)\n",
        "\n",
        "\n",
        "\n",
        "In the case of 5 people a, b, c, d, e, \n",
        "\n",
        "consider the case where a receives from b.\n",
        "\n",
        "\n",
        "\\\n",
        "If b receives from a, the remaining three people, c, d, and e, \n",
        "\n",
        "will exchange among them, so there are two ways according to (1).\n",
        "\n",
        "\n",
        "\\\n",
        "When b receives from c, it is the same as when four people b, c, d, \n",
        "\n",
        "and e exchange among them, so there are three ways according to (2).\n",
        "\n",
        "\n",
        "\\\n",
        "When b receives from d, it is the same as when four people b, c, d, \n",
        "\n",
        "and e exchange among them, so there are three ways according to (2).\n",
        "\n",
        "\n",
        "\\\n",
        "When b receives from e, it is the same as when four people b, c, d, \n",
        "\n",
        "and e exchange among them, so there are three ways according to (2).\n",
        "\n",
        "\n",
        "\\\n",
        "From the above, there are total of 11 ways for a to receive the gift for b.\n",
        "\n",
        "\n",
        "\\\n",
        "When a receives the present from c, d, e, there are 11 ways each as above.\n",
        "\n",
        "\n",
        "\n",
        "11 x 4 = 44 ways in total ... (answer)\n"
      ],
      "metadata": {
        "id": "c2KBr17HiKdO"
      }
    },
    {
      "cell_type": "markdown",
      "source": [
        "\n",
        "[ Python ]\n",
        "\n",
        "\n",
        "\n",
        "\n",
        "\n",
        "Since the cases of (1) and (2) are the same as [ Arithmetic solution ], \n",
        "\n",
        "there is the program of only (3)\n",
        "\n",
        "\n",
        "\\\n",
        "The presents brought by a, b, c, d, and e are to be \n",
        "\n",
        "1, 10, 100, 1000, and 10000, respectively.\n",
        "\n",
        "\n",
        "\\\n",
        "List the presents that a, b, c, d, e may recieve (do not recieve your own gift)\n",
        "\n",
        "\n",
        "\\\n",
        "If the combination is OK, `count += 1`.\n",
        "\n",
        "\n",
        "\\\n",
        "The conditions are 1, 10, 100, 1000, 10000 for each person, \n",
        "\n",
        "so if the total is 11111, it's OK.\n",
        "\n",
        "    count = 0\n",
        "\n",
        "    for a in [10, 100, 1000, 10000] :\n",
        "      for b in [1, 100, 1000, 10000] :\n",
        "        for c in [1, 10, 1000, 10000] :\n",
        "          for d in [1, 10, 100, 10000] :\n",
        "            for e in [1, 10, 100, 1000] :\n",
        "              if a + b + c + d + e == 11111 :\n",
        "                count += 1\n",
        "\n",
        "    print (count, 'ways')\n"
      ],
      "metadata": {
        "id": "ymKWLVHBiR_R"
      }
    },
    {
      "cell_type": "code",
      "source": [
        ""
      ],
      "metadata": {
        "id": "8c5bWFjC_mQj"
      },
      "execution_count": null,
      "outputs": []
    },
    {
      "cell_type": "code",
      "source": [
        "#sample  (3) only\n",
        "\n",
        "count = 0\n",
        "\n",
        "for a in [10, 100, 1000, 10000] :\n",
        "  for b in [1, 100, 1000, 10000] :\n",
        "    for c in [1, 10, 1000, 10000] :\n",
        "      for d in [1, 10, 100, 10000] :\n",
        "        for e in [1, 10, 100, 1000] :\n",
        "          if a + b + c + d + e == 11111 :\n",
        "            count += 1\n",
        "            #print([a, b, c, d, e]) #Confirm with\n",
        "\n",
        "print (count, 'ways')\n",
        "\n"
      ],
      "metadata": {
        "id": "kDFb9ORf3PnG"
      },
      "execution_count": null,
      "outputs": []
    },
    {
      "cell_type": "markdown",
      "source": [
        "###Wolves and sheep"
      ],
      "metadata": {
        "id": "sAHwd6myiboj"
      }
    },
    {
      "cell_type": "markdown",
      "source": [
        "\n",
        "---\n",
        "\n",
        "Q?\n",
        "\n",
        "\n",
        "3 wolves and 4 sheep in different cages are put into one cage.\n",
        "\n",
        "\n",
        "\\\n",
        "If the number of wolves is greater than the number of sheep \n",
        "\n",
        "(it's okay if they are the same), the sheep will be eaten by the wolves.\n",
        "\n",
        "\n",
        "\\\n",
        "How many ways are there where sheep are not eaten by wolf?\n",
        "\n",
        "\\"
      ],
      "metadata": {
        "id": "VEMntNsdigtN"
      }
    },
    {
      "cell_type": "markdown",
      "source": [
        "\n",
        "――――――――――――――――――――――――――――――――――――――――――――――――\n",
        "\n",
        "\n",
        "\n",
        "[ Arithmetic solution ]\n",
        "\n",
        "\n",
        "\n",
        "It can be calculated from the table in the same as counting the number of \n",
        "\n",
        "directions as follows and there are 19 ways in total ... (Answer)\n",
        "\n",
        "\\\n",
        "\n",
        "| | | | | | | | | | | |\n",
        "|:----:|:----:|:----:|:----:|:----:|:----:|:----:|:----:|:----:|:----:|:----:|\n",
        "|# | 1 | NG |--- | NG |--- | NG |--- | 7 |--- | 19 |\n",
        "| of | | &#124; | |  &#124; | |  &#124; | | &#124; | | &#124; | \n",
        "| W | 1 | NG | --- | NG | --- | 3 | --- | 7 |--- | 12 |\n",
        "| o | | &#124; | | &#124; | | &#124; | | &#124; | | &#124; | \n",
        "| l |1 |1 | --- | 2 | --- | 3 | --- | 4 | --- | 5 |\n",
        "| f | | &#124; | | &#124; | | &#124; | | &#124; | | &#124; | \n",
        "| | 0 | 0 | --- | 1 | --- | 1 | --- | 1 | --- | 1 |\n",
        "|  | |0 | |1 | |1 | |1 | |1 | \n",
        "| | | # | of | S | h | e |e |p|\n",
        "\n",
        "\\"
      ],
      "metadata": {
        "id": "CUSlfwSCioWz"
      }
    },
    {
      "cell_type": "markdown",
      "source": [
        "\n",
        "[ Python ]\n",
        "\n",
        "\n",
        "\n",
        "The order from the 1st to the 7th to put in the cage is `a` to `g`.\n",
        "\n",
        "\\\n",
        "The wolf is to be as 1, the sheep is 10.\n",
        "\n",
        "\n",
        "\\\n",
        "Make all cases where either is put in with `for loop`.\n",
        "\n",
        "\n",
        "\\\n",
        "Create a list `list1` of the order in case of the sum is \n",
        "\n",
        "1 + 1 + 1 + 10 + 10 + 10 + 10 = 43\n",
        "\n",
        "    list1 = []\n",
        "\n",
        "    for a in [1 ,10] :\n",
        "      for b in [1 ,10] :\n",
        "       for c in [1 ,10] :\n",
        "          for d in [1 ,10] :\n",
        "            for e in [1 ,10] :\n",
        "              for f in [1 ,10] :\n",
        "                for g in [1 ,10] :\n",
        "                  if a + b + c + d + e + f + g == 43 :\n",
        "                    list1.append([a, b, c, d, e, f, g])\n",
        "\n",
        "    print (list1) #For list confirmation         \n",
        "\n",
        "    print (len (list1)) #For checking the number of lists\n",
        "\n",
        "\n",
        "\n",
        "――――――――――――――――――――――――――――――――――――――――――――――――\n",
        "\n",
        "\n",
        "\n",
        "`len ()` is a built-in function that displays the number in `()`\n",
        "\n",
        "\\\n",
        "\n",
        "The `len (list1)` above displays(`returns`) the number of elements in the `list1`.\n",
        "\n",
        "\n",
        "\\\n",
        "Since the element of `list1` is a list of 1 and 10 arraged, \n",
        "\n",
        "`len()` is used to display the number of list.\n",
        "\n",
        "\n",
        "\\\n",
        "It also be used for string.\n",
        "\n",
        "\n",
        "\\\n",
        "If you set `len (\"alphabet \")`, the number of alphabetic characters \n",
        "\n",
        "is displyed as `len (\"alphabet \")` = 8.\n",
        "\n",
        "\n",
        "\\\n",
        "    len ([\"dog\", \"cat\", \"horse\", \"giraffe\", \"bear\", \"elephant\", `\"tiger\", \"monkey\", \"gorilla\", \"rabbit\", \"snake\", \"lion\"])\n",
        "\n",
        "The number of elements of the animal name in the list = 12 is returned.\n",
        "\n",
        "\\\n",
        "\n",
        "――――――――――――――――――――――――――――――――――――――――――――――――\n",
        "\n",
        "As for the code,\n",
        "\n",
        "\n",
        "\\\n",
        "The `count` that counts the order that meets the condition is set to 0.\n",
        "\n",
        "\n",
        "\\\n",
        "Assign the element in `list1` one by one to another list `list_n`.\n",
        "\n",
        "\n",
        "\\\n",
        "The 7 elements in `list_n` are taken out in order \n",
        "\n",
        "and the total is counted by the variable `total`.\n",
        "\n",
        "\n",
        "\\\n",
        "Set `total` to 0 when a new loop starts\n",
        "\n",
        "\n",
        "\n",
        "\\\n",
        "\n",
        "The total number of wolves is in the 1st place, and the total number of sheep is in the tens place.\n",
        "\n",
        "\\\n",
        "As it's OK to put in one wolf at the beginning,\n",
        "\n",
        "\n",
        "if the ones digit is larger than the tens digit other than 1, it will be NG,\n",
        "\n",
        "stop the loop with `break`, and move to the next order list.\n",
        "\n",
        "\n",
        "\\\n",
        "`total % 10` can be used to represent the ones digit \n",
        "\n",
        "and` total // 10` can be used to represent the tens digit.\n",
        "\n",
        "\n",
        "\\\n",
        "Proceed to the last element of the list without interruption \n",
        "\n",
        "and when `total` reaches 43, it's OK, then `count += 1`\n",
        "\n",
        "\n",
        "\n",
        "\\\n",
        "\n",
        "After checking everything, print `count` at the end\n",
        "\n",
        "\n",
        "\\\n",
        "As for `range()`, for example, in the case of 0 to 4, write `range (0,5)` \n",
        "\n",
        "is OK, but usually 0 is omitted and written as `range (5)`.\n",
        "\n",
        "\n",
        "\\\n",
        "`range (len(list1))` also means `range(0, len (list1))`\n",
        "\n",
        "\n",
        "\\\n",
        "The arguments in `()` can be not only numbers but also variables and built-in functions.\n",
        "\n",
        "    count = 0\n",
        "\n",
        "    for a in range(len(list1)):\n",
        "      list_n = list1[a]\n",
        "      #print(listn)\n",
        "      total = 0\n",
        "      for b in range(7):\n",
        "        total += listn[b]\n",
        "        #print(total)\n",
        "        if total != 1 and total % 10 > total // 10:\n",
        "          break\n",
        "        elif total == 43:\n",
        "          count += 1\n",
        "          #print(total)\n",
        "\n",
        "    print (count, 'ways')\n",
        "\n",
        "It's a bit annoying code, but I think I can devise more.\n"
      ],
      "metadata": {
        "id": "XGvsXkzpirKn"
      }
    },
    {
      "cell_type": "code",
      "source": [
        "#sample\n",
        "\n",
        "list1 = []\n",
        "\n",
        "for a in [1 ,10] :\n",
        "  for b in [1 ,10] :\n",
        "   for c in [1 ,10] :\n",
        "      for d in [1 ,10] :\n",
        "        for e in [1 ,10] :\n",
        "          for f in [1 ,10] :\n",
        "            for g in [1 ,10] :\n",
        "              if a + b + c + d + e + f + g == 43 :\n",
        "                list1.append([a, b, c, d, e, f, g])\n",
        "\n",
        "print(list1) #For list confirmation         \n",
        "\n",
        "print(len(list1)) #For checking the number of lists\n",
        "\n",
        "count = 0\n",
        "\n",
        "for a in range(len(list1)):\n",
        "  list_n = list1[a]\n",
        "  #print(listn)\n",
        "  total = 0\n",
        "  for b in range(7):\n",
        "    total += list_n[b]\n",
        "    #print(total)\n",
        "    if total != 1 and total % 10 > total // 10:\n",
        "      break\n",
        "    elif total == 43:\n",
        "      count += 1\n",
        "      #print(total)\n",
        "\n",
        "print(count, 'ways')\n"
      ],
      "metadata": {
        "id": "GlYO5AZ_tio4"
      },
      "execution_count": null,
      "outputs": []
    },
    {
      "cell_type": "markdown",
      "source": [
        "★ Summary of Arithmetic Operators\n",
        "\n",
        "\\\n",
        "\n",
        "| Arithmetic | Symbol |\n",
        "|:------:|:------:|\n",
        "| Addition | `+` |\n",
        "| Subtraction | `-` |\n",
        "| Multiplication | `*` |\n",
        "| Division | `/` |\n",
        "|Exponentiation | `**` |  \n",
        "| Division (quotient only) | `//` |\n",
        "| Division (remainder only) | `%` |\n",
        "\n",
        "\\\n"
      ],
      "metadata": {
        "id": "ZGcNGJ5XjIbK"
      }
    },
    {
      "cell_type": "markdown",
      "source": [
        "###len, set"
      ],
      "metadata": {
        "id": "i680ASj-V023"
      }
    },
    {
      "cell_type": "markdown",
      "source": [
        "\n",
        "---\n",
        "\n",
        "Q?\n",
        "\n",
        "\n",
        "\n",
        "How many will this return?\n",
        "\n",
        "\n",
        "    len([0, 1, 2, 3, 4, 5, 6, 7, 8, 9, 3, 6, 2, 4, 8])\n",
        "\n",
        "    len({0, 1, 2, 3, 4, 5, 6, 7, 8, 9, 3, 6, 2, 4, 8})\n",
        "\n"
      ],
      "metadata": {
        "id": "c-sSEOk0jWvn"
      }
    },
    {
      "cell_type": "code",
      "source": [
        ""
      ],
      "metadata": {
        "id": "5eS726dXPnnw"
      },
      "execution_count": null,
      "outputs": []
    },
    {
      "cell_type": "code",
      "source": [
        ""
      ],
      "metadata": {
        "id": "Y-e7ejVLUQ9z"
      },
      "execution_count": null,
      "outputs": []
    },
    {
      "cell_type": "markdown",
      "source": [
        "\n",
        "`{}` (curly braces) represents `set`\n",
        "\n",
        "\n",
        "\\\n",
        "In case of  `len(set)`, the duplicated numbers will not be counted.\n",
        "\n",
        "\\"
      ],
      "metadata": {
        "id": "8afnvuE0jitT"
      }
    },
    {
      "cell_type": "markdown",
      "source": [
        "###Packing candies"
      ],
      "metadata": {
        "id": "skg-qf5vjnkg"
      }
    },
    {
      "cell_type": "markdown",
      "source": [
        "\n",
        "---\n",
        "\n",
        "Q?\n",
        "\n",
        "\n",
        "There are 1 candy A, 2 candy B, and 3 candy C. \n",
        "\n",
        "When making a gift by packing some of them in a bag, \n",
        "\n",
        "how many ways can you make a gift?\n",
        "\n"
      ],
      "metadata": {
        "id": "Rbda9iM7jqSm"
      }
    },
    {
      "cell_type": "markdown",
      "source": [
        "\n",
        "――――――――――――――――――――――――――――――――――――――――――――――――\n",
        "\n",
        "\n",
        "\n",
        "[ Arithmetic solution ]\n",
        "\n",
        "\n",
        "\n",
        "A is 0 or 1 in 2 ways, B is 0 to 2 in 3 ways, and C is 0 to 3 in 4 ways.\n",
        "\n",
        "\n",
        "\n",
        "There are total of 2 $\\times$ 3 $\\times$ 4 = 24 combinations, but this include all 0.\n",
        "\n",
        "\n",
        "24 - 1 = 23 ways ... (answer)\n",
        "\n",
        "\n",
        "\n",
        "(Another solution)\n",
        "\n",
        "\n",
        "Let's practice counting up.\n",
        "\n",
        "\n",
        "There are 1 to 6 pieces, so count them up.\n",
        "\n",
        "\n",
        "\n",
        "(1) 1 piece: 3 ways of A or  B or C\n",
        "\n",
        "\n",
        "\n",
        "(2) In the case of two: 5ways of AB, AC, BB, BC, CC\n",
        "\n",
        "\n",
        "\n",
        "(3) In case of 3 pieces: 6 ways of ABB, ACC, ABC, BBC, BCC, CCC\n",
        "\n",
        "\n",
        "\n",
        "(4) In case of 4 pieces: 5 ways of ABCC, ABCC, ACCC, BBCC, BCCC\n",
        "\n",
        "\n",
        "\n",
        "(5) In case of 5 pieces: 3 ways of ABCCC, ABBCC, BBCCC\n",
        "\n",
        "\n",
        "\n",
        "(6) In case of 6 pieces: 1 way of ABCCCC\n",
        "\n",
        "\n",
        "\n",
        "In total, 3 + 5 + 6 + 5 + 3 + 1 = 23 ways ... (answer)\n",
        "\n",
        "\n",
        "\n",
        "\\\n",
        "\n",
        "[ Python ]\n",
        "\n",
        "\n",
        "\n",
        "A is 0 or 1, B is 0 to 2, C is 0 to 3, and all cases are created.\n",
        "\n",
        "\n",
        "\\\n",
        "Counted except when all 0\n"
      ],
      "metadata": {
        "id": "X4osY2HJjuw0"
      }
    },
    {
      "cell_type": "code",
      "source": [
        ""
      ],
      "metadata": {
        "id": "CPUnGOzgCyAo"
      },
      "execution_count": null,
      "outputs": []
    },
    {
      "cell_type": "code",
      "source": [
        "#sample\n",
        "\n",
        "count = 0\n",
        "\n",
        "for A in [0, 1] :\n",
        "  for B in [0, 1, 2] :\n",
        "    for C in [0, 1, 2, 3] :\n",
        "      if A + B + C != 0 :\n",
        "        count += 1\n",
        "        #print(A,B,C)\n",
        "print (count, \"ways\")\n"
      ],
      "metadata": {
        "id": "t1S0r7Fhj0TW"
      },
      "execution_count": null,
      "outputs": []
    },
    {
      "cell_type": "markdown",
      "source": [
        "###Arrange 3 cards from 8"
      ],
      "metadata": {
        "id": "kZChkBIZj6Pj"
      }
    },
    {
      "cell_type": "markdown",
      "source": [
        "---\n",
        "\n",
        "Q?\n",
        "\n",
        "\n",
        "\n",
        "When taking out 3 cards from 8 cards from 1 to 8 \n",
        "\n",
        "and arranging them from the smaller one.\n",
        "\n",
        "\n",
        "\\\n",
        "(1) How many ways to arrange that 3 cards are three consecutive numbers?\n",
        "\n",
        "\n",
        "\n",
        "(2) How many ways to arrange that numbers on the three cards are evenly spaced\n",
        "\n",
        "including the case of consecutive numbers?\n",
        "\n",
        "\n",
        "\n",
        "(3) How many ways to arrange that two of the three cards are consecutive?\n",
        "\n",
        "\n"
      ],
      "metadata": {
        "id": "fC5sSZPyj_zw"
      }
    },
    {
      "cell_type": "markdown",
      "source": [
        "\n",
        "――――――――――――――――――――――――――――――――――――――――――――――――\n",
        "\n",
        "\n",
        "\n",
        "[ Arithmetic solution ]\n",
        "\n",
        "\n",
        "\n",
        "(1)\n",
        "\n",
        "\n",
        "\n",
        "6 ways of 123, 234, 345, 456, 567, 678 ... (answer)\n",
        "\n",
        "\n",
        "\n",
        "(2)\n",
        "\n",
        "\n",
        "\n",
        "(1) is also included because it is evenly spaced.\n",
        "\n",
        "\n",
        "\\\n",
        "In addition, there are 6 ways of 135, 246, 357, 468, 147, 258.\n",
        "\n",
        "\\\n",
        "6 + 6 = 12 ways in total ... (Answer)\n",
        "\n",
        "\n",
        "\n",
        "(3)\n",
        "\n",
        "\n",
        "\n",
        "Let's investigate and count up\n",
        "\n",
        "\n",
        "\\\n",
        "1, 2, □ : 5 ways \n",
        "\n",
        "2, 3, □ : 4 ways \n",
        "\n",
        "3, 4, □ : 4 ways \n",
        "\n",
        "4, 5, □ : 4 ways \n",
        "\n",
        "5, 6, □ : 4 ways \n",
        "\n",
        "6, 7, □ : 4 ways \n",
        "\n",
        "7, 8, □ : 5 ways\n",
        "\n",
        "\n",
        "There are in total 30 ways  ... (answer)\n",
        "\n",
        "\n",
        "\n",
        "\\\n",
        "\n",
        "[ Python ]\n",
        "\n",
        "\n",
        "\n",
        "(1)\n",
        "\n",
        "\n",
        "\n",
        "Count setting\n",
        "\n",
        "\n",
        "\\\n",
        "If a < b < c, a is the beginning of three numbers, so the range of a is 1 to 6\n",
        "\n",
        "\\\n",
        "\n",
        "Since b is a number larger than a by 1 or more, \n",
        "\n",
        "the range of b can be set to a + 1 to 7.\n",
        "\n",
        "\\\n",
        "\n",
        "Since c is a number larger than b by 1 or more, \n",
        "\n",
        "the range of c can be b + 1 to 8.\n",
        "\n",
        "\n",
        "\\\n",
        "Count all the numbers within each number range,\n",
        "\n",
        "\n",
        "\\\n",
        "Count when b ＝ a + 1,  c ＝ b + 1\n"
      ],
      "metadata": {
        "id": "r_QEb5zfkFmb"
      }
    },
    {
      "cell_type": "code",
      "source": [
        ""
      ],
      "metadata": {
        "id": "7nghGTDTneTn"
      },
      "execution_count": null,
      "outputs": []
    },
    {
      "cell_type": "code",
      "source": [
        "#(1)sample\n",
        "\n",
        "count1 = 0\n",
        "\n",
        "for a in range(1, 7) :\n",
        "  for b in range(a + 1, 8) :\n",
        "    for c in range(b + 1, 9) :\n",
        "      if b == a + 1 and c == b + 1:\n",
        "        count1 += 1\n",
        "        #print(a,b,c)\n",
        "\n",
        "print (\"(1)\", count1, \"ways\")\n"
      ],
      "metadata": {
        "id": "56qtejq0XjXc"
      },
      "execution_count": null,
      "outputs": []
    },
    {
      "cell_type": "markdown",
      "source": [
        "\n",
        "[ Python ]\n",
        "\n",
        "\n",
        "\n",
        "(2)\n",
        "\n",
        "\n",
        "\n",
        "Count setting\n",
        "\n",
        "\n",
        "\n",
        "The range of numbers is the same as (1)\n",
        "\n",
        "\n",
        "\n",
        "Counts cases of (1) or, difference of 2 or 3 or 4\n",
        "\n"
      ],
      "metadata": {
        "id": "cUna_ukkkVTG"
      }
    },
    {
      "cell_type": "code",
      "source": [
        ""
      ],
      "metadata": {
        "id": "G_3pX5cQndZD"
      },
      "execution_count": null,
      "outputs": []
    },
    {
      "cell_type": "code",
      "source": [
        "#(2)sample\n",
        "\n",
        "count2 = 0\n",
        "\n",
        "for a in range(1, 7) :\n",
        "  for b in range(a + 1, 8) :\n",
        "    for c in range(b + 1, 9) :\n",
        "      if (b == a + 1 and c == b + 1) or \\\n",
        "        (b == a + 2 and c == b + 2) or (b == a + 3 and c == b + 3) or\\\n",
        "        (b == a + 4 and c == b + 4):\n",
        "        count2 += 1\n",
        "        print(a, b, c)\n",
        "\n",
        "print (\"(2)\", count2, \"ways\")\n"
      ],
      "metadata": {
        "id": "qJQ6t4M5XnBD"
      },
      "execution_count": null,
      "outputs": []
    },
    {
      "cell_type": "markdown",
      "source": [
        "\n",
        "[ Python ]\n",
        "\n",
        "\n",
        "\n",
        "(3)\n",
        "\n",
        "\n",
        "\n",
        "Count setting\n",
        "\n",
        "\n",
        "\n",
        "The range of numbers is the same as (1)\n",
        "\n",
        "\n",
        "\n",
        "Counts when the difference between a and b is 1 and c is larger than b, \n",
        "\n",
        "or when the difference between b and c is 1 and a is smaller than b.\n"
      ],
      "metadata": {
        "id": "1MhI3_xukaoK"
      }
    },
    {
      "cell_type": "code",
      "source": [
        ""
      ],
      "metadata": {
        "id": "2m82qcB7nb1m"
      },
      "execution_count": null,
      "outputs": []
    },
    {
      "cell_type": "code",
      "source": [
        "#(3)sample\n",
        "\n",
        "count3 = 0\n",
        "\n",
        "for a in range(1, 7) :\n",
        "  for b in range(a + 1, 8) :\n",
        "    for c in range(b + 1, 9) :\n",
        "      if (b == a + 1 and c > b + 1) or (b > a + 1 and c == b + 1):\n",
        "        count3 += 1\n",
        "        #print(a, b, c)\n",
        "\n",
        "print (\"(3)\", count3, \"ways\")\n",
        "\n"
      ],
      "metadata": {
        "id": "fuNQQEfoXpJW"
      },
      "execution_count": null,
      "outputs": []
    },
    {
      "cell_type": "markdown",
      "source": [
        "Code that summarizes (1)-(3)"
      ],
      "metadata": {
        "id": "UCx5ufpbkidu"
      }
    },
    {
      "cell_type": "code",
      "source": [
        ""
      ],
      "metadata": {
        "id": "dKJtnphXnWm-"
      },
      "execution_count": null,
      "outputs": []
    },
    {
      "cell_type": "code",
      "source": [
        "#(1)-(3)altogether\n",
        "\n",
        "\n",
        "count1 = 0\n",
        "count2 = 0\n",
        "count3 = 0\n",
        "\n",
        "for a in range(1, 7) :\n",
        "  for b in range(a + 1, 8) :\n",
        "    for c in range(b + 1, 9) :\n",
        "      if b == a + 1 and c == b + 1:\n",
        "        count1 += 1\n",
        "        #print(a, b, c)\n",
        "\n",
        "      if (b == a + 2 and c == b + 2) or (b == a + 3 and c == b + 3) \\\n",
        "        or (b == a + 4 and c == b + 4):\n",
        "        count2 += 1\n",
        "        #print(a, b, c)\n",
        "\n",
        "      if (b == a + 1 and c > b + 1) or (b > a + 1 and c == b + 1):\n",
        "        count3 += 1\n",
        "        #print(a, b, c)\n",
        "\n",
        "print (\"(1)\", count1, \"ways\")\n",
        "print (\"(2)\", count1 + count2, \"ways\")\n",
        "print (\"(3)\", count3, \"ways\")\n"
      ],
      "metadata": {
        "id": "U0vSAogJkmLx"
      },
      "execution_count": null,
      "outputs": []
    },
    {
      "cell_type": "markdown",
      "source": [
        "###sum and difference  Crane and turtle"
      ],
      "metadata": {
        "id": "Oz0YkK7soKfb"
      }
    },
    {
      "cell_type": "markdown",
      "source": [
        "\n",
        "---\n",
        "\n",
        "Q?\n",
        "\n",
        "\n",
        "\n",
        "There are 42 carnes and tutles in total.\n",
        "\n",
        "\n",
        "\n",
        "Sum of legs is 124.\n",
        "\n",
        "\n",
        "\n",
        "Find the number of cranes.\n"
      ],
      "metadata": {
        "id": "Sj5HZLiIk2kj"
      }
    },
    {
      "cell_type": "markdown",
      "source": [
        "\n",
        "――――――――――――――――――――――――――――――――――――――――――――――――\n",
        "\n",
        "\n",
        "\n",
        "[ Arithmetic solution ]\n",
        "\n",
        "\n",
        "\n",
        "The number of legs is 2 for cranes and 4 for turtles.\n",
        "\n",
        "\n",
        "\\\n",
        "If all were turtles, the total number of legs is 4 $\\times$ 42 = 168.\n",
        "\n",
        "\n",
        "\\\n",
        "This number is 168 - 124 = 44 more than actual number.\n",
        "\n",
        "\n",
        "\\\n",
        "This is because all of them were turtles, so if you replace one turtle and one crane, \n",
        "\n",
        "every time replacing, the number of legs decreases by 4 - 2 = 2.\n",
        "\n",
        "\n",
        "\\\n",
        "To reduce the number to 44 to make 124, \n",
        "\n",
        "44/2 = 22 times of replacing is required.\n",
        "\n",
        "\n",
        "\\\n",
        "Since it is replaced 22 times, the number of replaced cranes is 22 ... (Answer)\n",
        "\n",
        "\n",
        "\n",
        "\\\n",
        "\n",
        "[ Python ]\n",
        "\n",
        "The number of crane is set to variable `crane`.\n",
        "\n",
        "\\\n",
        "The maximum number of crane is 42 \n",
        "\n",
        "and the number of turtles is expressed as (42 - crane).\n",
        "\n",
        "\n",
        "\\\n",
        "The number of vines from 1 to 42 is put in the variable `crane` and examined.\n",
        "\n",
        "\n",
        "\\\n",
        "The number of legs is expressed by an equation \n",
        "\n",
        "and if it becomes 124, the crane at that time is output as an answer.\n",
        "\n",
        "\n",
        "\\\n",
        "I'm writing using the formatted string(f-strings) `f` to `format` the string \n",
        "\n",
        "that is mentioned below.\n",
        "\n",
        "        print (f'Crane is {crane}  ... (Answer) Turtle is {42 --crane} ')\n",
        "\n",
        "\n",
        "If you find the answer, end the loop with `break`.\n"
      ],
      "metadata": {
        "id": "SOmIQTDfk5kA"
      }
    },
    {
      "cell_type": "code",
      "source": [
        ""
      ],
      "metadata": {
        "id": "BHlx90ZNmRSs"
      },
      "execution_count": null,
      "outputs": []
    },
    {
      "cell_type": "code",
      "source": [
        "#sample\n",
        "\n",
        "for crane in range(1, 43):\n",
        "  if 2 * crane + 4 * (42 - crane) == 124 :\n",
        "    print (f'Crane is {crane}  ... (Answer) Turtle is {42 --crane}')\n",
        "    break\n"
      ],
      "metadata": {
        "id": "-LZkPf23DNNP"
      },
      "execution_count": null,
      "outputs": []
    },
    {
      "cell_type": "markdown",
      "source": [
        "---\n",
        "###f-strings (Formatted String Literals)"
      ],
      "metadata": {
        "id": "CkD7eNaEBO9Z"
      }
    },
    {
      "cell_type": "markdown",
      "source": [
        "With this syntax, we can insert value/string directly into string constants \n",
        "\n",
        "with {variable}.\n",
        "\n",
        "The cell below is a sample.\n",
        "\n",
        "In  this note it sometines appears, so please familiarize yourself with how to use it."
      ],
      "metadata": {
        "id": "-UtlWI_IBXJF"
      }
    },
    {
      "cell_type": "code",
      "source": [
        ""
      ],
      "metadata": {
        "id": "8gGLT5A5CEET"
      },
      "execution_count": null,
      "outputs": []
    },
    {
      "cell_type": "code",
      "source": [
        "name = 'Alice'\n",
        "score = 95\n",
        "animal = 'Tiger'\n",
        "\n",
        "print(f\"My name is {name}. The score of math was {score}.  Animal I love is {animal}\")\n"
      ],
      "metadata": {
        "id": "ne-OVbpZ_CRA"
      },
      "execution_count": null,
      "outputs": []
    },
    {
      "cell_type": "markdown",
      "source": [
        "###Ratios and proportions"
      ],
      "metadata": {
        "id": "qFicYQE6Y1F6"
      }
    },
    {
      "cell_type": "markdown",
      "source": [
        "---\n",
        "\n",
        "Q?\n",
        "\n",
        "\n",
        "Raw wood contains 72% water.\n",
        "\n",
        "If the first half of the water remains in raw wood after drying, \n",
        "\n",
        "what percentage of water does the wood contain after dried?"
      ],
      "metadata": {
        "id": "bmx0EUQclBba"
      }
    },
    {
      "cell_type": "markdown",
      "source": [
        "\n",
        "――――――――――――――――――――――――――――――――――――――――――――――――\n",
        "\n",
        "\n",
        "\n",
        "[ Arithmetic solution ]\n",
        "\n",
        "\n",
        "\n",
        "Assuming that the weight of raw wood before drying is 100 g, \n",
        "\n",
        "the weight of water is 72 g and the wood part is 28 g.\n",
        "\n",
        "\n",
        "\\\n",
        "The water after drying is $ 72 × \\dfrac {1} {2} = 36g $ \n",
        "\n",
        "and the weight of the tree still remain 28g.\n",
        "\n",
        "\n",
        "\\\n",
        "The percentage of water is $ \\dfrac {36} {36 + 28}$ \n",
        "\n",
        "＝ 0.5625 ＝ 56.25% ・ ・ ・ (Answer)\n",
        "\n",
        "\n",
        "\n",
        "\\\n",
        "\n",
        "[ Python ]\n",
        "\n",
        "\n",
        "\n",
        "It's not a tyep of problem to be solved by `for statement`, \n",
        "\n",
        "just the math solution is used as a code.\n",
        "\n",
        "\n",
        "\\\n",
        "Variable names are `raw_wood` as the weight of law wood,\n",
        "\n",
        " `water` as the weight of water before drying.\n",
        "\n",
        "and `after_dry` as the weight of water after drying.\n"
      ],
      "metadata": {
        "id": "cT1lqgmxlFDR"
      }
    },
    {
      "cell_type": "code",
      "source": [
        "#sample\n",
        "\n",
        "\n",
        "raw_wood = 100\n",
        "\n",
        "water = raw_wood * 0.72\n",
        "\n",
        "wood = 100 - water\n",
        "\n",
        "after_dry = water * 0.5\n",
        "\n",
        "answer = after_dry / (after_dry + wood) * 100\n",
        "\n",
        "print(answer, \"%\")\n"
      ],
      "metadata": {
        "id": "IVCFeTullJaN"
      },
      "execution_count": null,
      "outputs": []
    },
    {
      "cell_type": "markdown",
      "source": [
        "\n",
        "---\n",
        "\n",
        "Q?\n",
        "\n",
        "\n",
        "In one electoral district, the turnout of vote was 61% \n",
        "\n",
        "and the number of voters was 48,800.\n",
        "\n",
        "\\\n",
        "If the number of female voters who has the right to vote in this electoral \n",
        "\n",
        "district is 32,000 and the turnout of vote of female was 70%, \n",
        "\n",
        "what is the turnout of male?"
      ],
      "metadata": {
        "id": "LldqJqRdlMkT"
      }
    },
    {
      "cell_type": "markdown",
      "source": [
        "\n",
        "――――――――――――――――――――――――――――――――――――――――――――――――\n",
        "\n",
        "\n",
        "\n",
        "[ Arithmetic solution ]\n",
        "\n",
        "\n",
        "\n",
        "Turnout of vote is calculated by the formula of \n",
        "\n",
        "voters $\\div$ number of voters $\\times$ 100\n",
        "\n",
        "\n",
        "\\\n",
        "Number of voters who has right to vote in this electoral district is \n",
        "\n",
        "48800 $\\div$ 0.61 = 80,000\n",
        "\n",
        "\n",
        "\\\n",
        "Number of female voters is 32000 $\\times$ 0.7 = 22400\n",
        "\n",
        "\n",
        "\\\n",
        "Number of male voter who the right to vote is 80,000 - 32000 = 48,000\n",
        "\n",
        "\n",
        "\\\n",
        "Number of male voters = 48800 - 22400 = 26400\n",
        "\n",
        "\n",
        "\\\n",
        "Men's turnout of vote is 26400 $\\div$ 48000 $\\times$ 100 = 55% ... (answer)\n",
        "\n",
        "\n",
        "\n",
        "\\\n",
        "\n",
        "[ Python ]\n",
        "\n",
        "\n",
        "\n",
        "It is not a type to solve by `for loop` same as the baove problem.\n",
        "\n",
        "\n",
        "The variables of sample below are `total` for the number of voters \n",
        "\n",
        "who have the right to vote in this electoral ditrict, \n",
        "\n",
        "`fv` for the number of female voters who voted, \n",
        "\n",
        "and `x` for the male turnout of vote.\n"
      ],
      "metadata": {
        "id": "gEDMeb4BlQaj"
      }
    },
    {
      "cell_type": "code",
      "source": [
        "#sample\n",
        "\n",
        "\n",
        "total = 48800 / 0.61\n",
        "\n",
        "fv = 32000 * 0.7\n",
        "\n",
        "x = (48800 -  fv) / (total - 32000) * 100\n",
        "\n",
        "print(x, \"％\")\n"
      ],
      "metadata": {
        "id": "A97Qy88ZlU3n"
      },
      "execution_count": null,
      "outputs": []
    },
    {
      "cell_type": "markdown",
      "source": [
        "\n",
        "---\n",
        "\n",
        "Q?\n",
        "\n",
        "\n",
        "\n",
        "$\\dfrac {2} {5} $ of  the number of sticker that A has is equal to $ \\dfrac {3} {4} $ of the number of stickers that B has.\n",
        "\n",
        "\\\n",
        "When A has 21 sheets more than B, how many does B have?"
      ],
      "metadata": {
        "id": "rsdJAK2alYLh"
      }
    },
    {
      "cell_type": "markdown",
      "source": [
        "\n",
        "――――――――――――――――――――――――――――――――――――――――――――――――\n",
        "\n",
        "\n",
        "\n",
        "[ Arithmetic solution ]\n",
        "\n",
        "This a problem of Ratio.\n",
        "\n",
        "\\\n",
        "$ (Number of A) × \\dfrac {2} {5} ＝ (Number of B) × \\dfrac {3} {4} $\n",
        "\n",
        "\\\n",
        "(Number of A) : (Number of B) = $ \\dfrac {5} {2}: \\dfrac {4} {3} = 15: 8 $\n",
        "\n",
        "\n",
        "\\\n",
        "Since 15 - 8 = 7 is equivalent to 21 sheets, \n",
        "\n",
        "(Number of B) = 21 sheets $\\times$ $ \\dfrac {8} {7} $ = 24 sheets ... (answer)\n",
        "\n",
        "\n",
        "\n",
        "\n",
        "\n",
        "\\\n",
        "\n",
        "[ Python ]\n",
        "\n",
        "\n",
        "\n",
        "Decide the max number of A and B to 99 each and search for the number \n",
        "\n",
        "that fits the condition within that range.\n",
        "\n",
        "\n",
        "\\\n",
        "The `if statement` expresses the two conditions in question as expressions.\n",
        "\n",
        "\n",
        "\\\n",
        "If applicable number is found, output the number of B.\n"
      ],
      "metadata": {
        "id": "LNbgYqdZlck8"
      }
    },
    {
      "cell_type": "code",
      "source": [
        ""
      ],
      "metadata": {
        "id": "nmgz8KVCvhCT"
      },
      "execution_count": null,
      "outputs": []
    },
    {
      "cell_type": "code",
      "source": [
        "#sample\n",
        "\n",
        "for A in range(100) :\n",
        "  for B in range(100) :\n",
        "    if A * 2/5 == B * 3/4 and A - B == 21 :\n",
        "      print (B, \"sheets\")\n",
        " "
      ],
      "metadata": {
        "id": "IqV-rey4lgxS"
      },
      "execution_count": null,
      "outputs": []
    },
    {
      "cell_type": "markdown",
      "source": [
        "###Concentration of salt water"
      ],
      "metadata": {
        "id": "sfTHB3Delxxx"
      }
    },
    {
      "cell_type": "markdown",
      "source": [
        "\n",
        "---\n",
        "\n",
        "Q?\n",
        "\n",
        "\n",
        "Cup A contains salt water with 20% concentration. \n",
        "\n",
        "\n",
        "Cup B contains 240 g of salt water with a different concentration than \n",
        "\n",
        "that of cup A.\n",
        "\n",
        "\n",
        "\\\n",
        "The weights of salt contained in cup A and B are equal.\n",
        "\n",
        "If all the salt water in cup A and B are mixed, it is with 10% concentration.\n",
        "\n",
        "\\\n",
        "Find the weight of the salt water in cup A at first?\n"
      ],
      "metadata": {
        "id": "jtsDYL4nl1Ip"
      }
    },
    {
      "cell_type": "markdown",
      "source": [
        "\n",
        "――――――――――――――――――――――――――――――――――――――――――――――――\n",
        "\n",
        "\n",
        "\n",
        "[ Arithmetic solution ]\n",
        "\n",
        "\n",
        "\n",
        "Assuming that the weight of the salt water in cup A is `a` gram\n",
        "\n",
        "\n",
        "\\\n",
        "Since the weight of salt in cup A and B is the same, \n",
        "\n",
        "the weight of salt  is `a` $\\times$ 0.2 respectively.\n",
        "\n",
        "\n",
        "\\\n",
        "Both of them is mixed up, you will get 10% salt solution, \n",
        "\n",
        "it is  (a $\\times$ 0.2 $\\times$ 2) $\\div$ (a + 240) = 0.1\n",
        "\n",
        "\n",
        "\\\n",
        "a $\\times$ 0.4 ＝ (a ∔ 240) $\\times$ 0.1 =  a $\\times$ 0.1 ＋ 24\n",
        "\n",
        "\n",
        "\\\n",
        "a $\\times$ 0.3 ＝ 24 \n",
        "\n",
        "\\\n",
        "Therefore a ＝ 80g ・ ・ ・ (answer)\n",
        "\n",
        "\n",
        "\n",
        "\\\n",
        "\n",
        "[ Python ]\n",
        "\n",
        "\n",
        "\n",
        "Assuming that `a` is an integer, use `for statement`.\n",
        "\n",
        "\\\n",
        "The range of `a` is up to 500.\n",
        "\n",
        "\n",
        "\\\n",
        "Other solutions will be showed later (using the sympy module).\n",
        "\n",
        "\n",
        "\n",
        "The conditional expression of the if statement is the same as above [ Math solution ].\n",
        "\n",
        "\\\n",
        "If a is found, output it and `break`\n"
      ],
      "metadata": {
        "id": "JkeiEnrSl5eM"
      }
    },
    {
      "cell_type": "code",
      "source": [
        "#sample\n",
        "\n",
        "for a in range(1,501):\n",
        "  if a * 0.2 * 2 / (a + 240) == 0.1 :\n",
        "    print(a,'g')\n",
        "    break\n"
      ],
      "metadata": {
        "id": "Ac_g-zJL5IWq"
      },
      "execution_count": null,
      "outputs": []
    },
    {
      "cell_type": "markdown",
      "source": [
        "###Manipulation of numbers"
      ],
      "metadata": {
        "id": "mWspEoTQZOYD"
      }
    },
    {
      "cell_type": "markdown",
      "source": [
        "\n",
        "---\n",
        "\n",
        "Q?\n",
        "\n",
        "\n",
        "\n",
        "For a certain number, perform the following manipulation.\n",
        "\n",
        "\n",
        "\\\n",
        "[ Manipulation ]\n",
        "\n",
        "(1) If the number is a multiple of 3, it will be divided by 3.\n",
        "\n",
        "\n",
        "\\\n",
        "(2) If the number is not a multiple of 3, subtract the remainder \n",
        "\n",
        "from that number when divided by 3.\n",
        "\n",
        "\n",
        "\\\n",
        "(3) Repeat the manipulation of (1) or (2) \n",
        "\n",
        "and when it reaches 0, end the manipulation.\n",
        "\n",
        "\n",
        "\\\n",
        "For example, when the first number is 36\n",
        "\n",
        "\n",
        "\\\n",
        "36 --> 12 --> 4 --> 3--> 1 --> 0\n",
        "\n",
        "\\\n",
        "36 becomes 0 in 5 manipulations.\n",
        "\n",
        "\n",
        "\\\n",
        "Under this condition, answer the following questions\n",
        "\n",
        "\n",
        "\\\n",
        "(1) How many manipulations does 78 become 0?\n",
        "\n",
        "\n",
        "\\\n",
        "(2) How many numbers will be 0 at 5 manipulations?\n",
        "\n"
      ],
      "metadata": {
        "id": "FSEdbm3ymBBQ"
      }
    },
    {
      "cell_type": "markdown",
      "source": [
        "\n",
        "――――――――――――――――――――――――――――――――――――――――――――――――\n",
        "\n",
        "\n",
        "\n",
        "[ Arithmetic solution ]\n",
        "\n",
        "\n",
        "\n",
        "(1) Perform the manipulation accurately\n",
        "\n",
        "\\\n",
        "\n",
        "1st time: 78/3 = 26\n",
        "\n",
        "\n",
        "\\\n",
        "Second time: 26/3 = 8 ... 2, so 26 - 2 = 24\n",
        "\n",
        "\n",
        "\\\n",
        "3rd time: 24/3 = 8\n",
        "\n",
        "\n",
        "\\\n",
        "4th time: 8/3 = 2 ... 2, so 8 - 2 = 6\n",
        "\n",
        "\n",
        "\\\n",
        "5th time: 6/3 = 2\n",
        "\n",
        "\n",
        "\\\n",
        "6th time: 2/3 = 0 ... 2 so 2 - 2 = 0\n",
        "\n",
        "\n",
        "\\\n",
        "Therefore, 6 times ... (answer)\n",
        "\n",
        "\n",
        "\n",
        "(2) In order to reach 0 in the 5th operation, \n",
        "\n",
        "it must be 1 or 2 in the 4th operation.\n",
        "\n",
        "\n",
        "\\\n",
        "Backward calculation using the tree diagram as shown below\n",
        "\n",
        "\n",
        "\\\n",
        "Notice that there are certain rules to be found when making tree diagrams\n",
        "\n",
        "\n",
        "\\\n",
        "If the result of the manipulation is a multiple of 3, \n",
        " \n",
        "the previous number is one of three vases which are 3 times of the number, \n",
        " \n",
        "the number with 2 added, and the number with 1 added.\n",
        "\n",
        "\n",
        "\\\n",
        "If the result of the manipulation is not a multiple of 3, the previous number will be 3 times of the number.\n",
        "\n",
        "\\\n",
        "\n",
        "|4th| 3rd|2nd|1st|Original|\n",
        "|:---:|:---:|:---:|:---:|:---:|\n",
        "||||27|28, 29, 81|\n",
        "|||9|11|33|\n",
        "||||10|30|\n",
        "||||||\n",
        "|1|3||||\n",
        "|||5|15|16, 17, 45|\n",
        "|||4|12|13, 14, 36|\n",
        "\n",
        "\\\n",
        "\n",
        "\n",
        "|4th| 3rd|2nd|1st|Original|\n",
        "|:---:|:---:|:---:|:---:|:---:|\n",
        "||||54|55, 56, 162|\n",
        "|||18|20|60|\n",
        "||||19|57|\n",
        "||||||\n",
        "|2|6||||\n",
        "|||8|24|25, 26, 72|\n",
        "|||7|21|22, 23, 63|\n",
        "\n",
        "\\\n",
        "From the tree diagram above, the number of numbers that become 0 in 5 operations is 22 ... (Answer) \n",
        "\n"
      ],
      "metadata": {
        "id": "1LOnycPimIEn"
      }
    },
    {
      "cell_type": "markdown",
      "source": [
        "\n",
        "[ Python ]\n",
        "\n",
        "\n",
        "\n",
        "(1)\n",
        "\n",
        "\n",
        "\n",
        "If the number of iterations is not fixed as in this problem, \n",
        "\n",
        "the `while statement` can be used.\n",
        "\n",
        "\n",
        "\\\n",
        "Set `count` with 0 for the number of manipulation\n",
        "\n",
        "\n",
        "\\\n",
        "Put 78 in the variable `x`\n",
        "\n",
        "\n",
        "\\\n",
        "Repeat the operation if `x` is greater than 0 and exit when it reaches 0\n",
        "\n",
        "\n",
        "\\\n",
        "The condition is coded by an expression according to the problem statement.\n",
        "\n",
        "\n",
        "\\\n",
        "There are two choices, whether it is divisible by 3 or not, \n",
        "\n",
        "so use `if` and` else`.\n",
        "\n",
        "\n",
        "\\\n",
        "Count under either condition\n",
        "\n",
        "\n",
        "\\\n",
        "Finally output `count`\n",
        "\n"
      ],
      "metadata": {
        "id": "wh5z9q8ImfDy"
      }
    },
    {
      "cell_type": "code",
      "source": [
        ""
      ],
      "metadata": {
        "id": "NWC7dRB8D9xL"
      },
      "execution_count": null,
      "outputs": []
    },
    {
      "cell_type": "code",
      "source": [
        "#(1) sample\n",
        "\n",
        "count = 0\n",
        "x = 78\n",
        "\n",
        "while x > 0 :\n",
        "  if x % 3 == 0 :\n",
        "    x = x / 3\n",
        "    count += 1\n",
        "  else :\n",
        "    x = x - (x % 3)\n",
        "    count += 1\n",
        "\n",
        "print(count, 'times')\n"
      ],
      "metadata": {
        "id": "nTqYiP_Io2S9"
      },
      "execution_count": null,
      "outputs": []
    },
    {
      "cell_type": "markdown",
      "source": [
        "\n",
        "[ Python ]\n",
        "\n",
        "\n",
        "\n",
        "(2)\n",
        "\n",
        "\n",
        "\n",
        "First, set `count_n` to count the number that meets the conditions.\n",
        "\n",
        "\n",
        "\\\n",
        "The repetition and condition part is the same as (1)\n",
        "\n",
        "\n",
        "\\\n",
        "Check all the numbers from 1 to 500 with the variable set to `y` \n",
        "\n",
        "in `for statement`.\n",
        "\n",
        "\\\n",
        "Set `count` for counting the number of manipulation.\n",
        "\n",
        "\\\n",
        "It must be a program of backward calculation style  like [ Arithmetic solution ].\n",
        "\n",
        "\\\n",
        "There is still the possibility that there will be 5 manipulations with more \n",
        "\n",
        "than 500 numbers, but it seems difficult to make such code.\n",
        "\n",
        "\n",
        "\\\n",
        "If both `y` is 0 and `count` is 5, `coun_n += 1`.\n",
        "\n",
        "\n",
        "\n",
        "Finally output `count_n`\n"
      ],
      "metadata": {
        "id": "4CTVuvWnmm4I"
      }
    },
    {
      "cell_type": "code",
      "source": [
        ""
      ],
      "metadata": {
        "id": "Z-x-G8W4D9HE"
      },
      "execution_count": null,
      "outputs": []
    },
    {
      "cell_type": "code",
      "source": [
        "#(2) sample\n",
        "\n",
        "count_n = 0\n",
        "\n",
        "for y in range(1, 500) :\n",
        "  count = 0\n",
        "  while count <= 5 :\n",
        "    if y % 3 == 0 :\n",
        "      y = y / 3\n",
        "      count += 1\n",
        "    else :\n",
        "      y = y - (y % 3)\n",
        "      count += 1\n",
        "      if y == 0 and count == 5:\n",
        "        count_n += 1\n",
        "\n",
        "print(count_n)\n"
      ],
      "metadata": {
        "id": "JXsiUspno2-2"
      },
      "execution_count": null,
      "outputs": []
    },
    {
      "cell_type": "markdown",
      "source": [
        "### random practice"
      ],
      "metadata": {
        "id": "vc96stArnNOM"
      }
    },
    {
      "cell_type": "markdown",
      "source": [
        "---\n",
        "Python has a `random` module as a program to create random numbers.\n",
        "\n",
        "\n",
        "\\\n",
        "To create an integer, use `randint` function (program) in the random module.\n",
        "\n",
        "\n",
        "\\\n",
        "The random module and randint function are not built-in functions, \n",
        "\n",
        "so import them first.\n",
        "\n",
        "    from random import randint\n",
        "\n",
        "\n",
        "\\\n",
        "`randint(a, b)` creates (returns) a random integer in the range a to `b`.\n",
        "\n",
        "\\\n",
        "Noted that range of argument is slightly different from `range(a, b)`\n",
        "\n",
        "which is from a to `b - 1`.\n"
      ],
      "metadata": {
        "id": "nr1z3sIZhgeq"
      }
    },
    {
      "cell_type": "markdown",
      "source": [
        "---\n",
        "Q?\n",
        "\n",
        "What is the program creating an age at random from 10 to 30 years old\n",
        "\n",
        "and if the age is 20 years old or older, display \"adult\" \n",
        "\n",
        "and if it is under 20, display \"underage\"?"
      ],
      "metadata": {
        "id": "WwS6OMXvi9W8"
      }
    },
    {
      "cell_type": "markdown",
      "source": [
        "ーーーーーーーーーーーーーーーーーーーーーーーーーーーーーーーーーーーーーーーー\n",
        "\n",
        "Same as `from fractions import Fraction`, write code \n",
        "\n",
        "as `from random import randint`\n",
        "\n",
        "\\\n",
        "When you use randint function, you can wirte `randiint()`.\n",
        "\n",
        "\\\n",
        "If you write `import random`, when you use randint function, \n",
        "\n",
        "write `random.randint()`.\n",
        "\n",
        "\\\n",
        "Assign number created by randint function to the variable `age`.\n",
        "\n",
        "\\\n",
        "Case classification of \" more than 20 years old or not\" \n",
        "\n",
        "is expressed by `if statement`\n",
        "\n",
        "and display \"adult\" or  \"underage\" depending on the age.\n",
        "\n"
      ],
      "metadata": {
        "id": "y_iOnR_Mk-__"
      }
    },
    {
      "cell_type": "code",
      "source": [
        ""
      ],
      "metadata": {
        "id": "jBESNiFEDwiT"
      },
      "execution_count": null,
      "outputs": []
    },
    {
      "cell_type": "code",
      "source": [
        "#sample\n",
        "\n",
        "from random import randint\n",
        "\n",
        "age = randint(10, 30) \n",
        "\n",
        "if age >= 20:\n",
        "  print (age, \"years old is an adult\") \t\n",
        "else:\n",
        "  print (age, \"years old is underage\") \t\n"
      ],
      "metadata": {
        "id": "Md8p6tlqnOdV"
      },
      "execution_count": null,
      "outputs": []
    },
    {
      "cell_type": "markdown",
      "source": [
        "###random comparison two integer"
      ],
      "metadata": {
        "id": "HDv3uY4LLg4m"
      }
    },
    {
      "cell_type": "markdown",
      "source": [
        "\n",
        "---\n",
        "\n",
        "Q?\n",
        "\n",
        "What is the program that creates two random integerss from 1 to 50, \n",
        "\n",
        "displays the two numbers, displays the larger one as \"large > small\" \n",
        "\n",
        "and displays \"equal\" if they are the same?\n"
      ],
      "metadata": {
        "id": "B5rzGC5kLg4n"
      }
    },
    {
      "cell_type": "markdown",
      "source": [
        "\n",
        "――――――――――――――――――――――――――――――――――――――――――――――――\n",
        "\n",
        "\n",
        "Since there are two random integers, \n",
        "\n",
        "assign random numbers created by `randint` to the variables `x` and `y`.\n",
        "\n",
        "\\\n",
        "Print two numbers with `print`\n",
        "\n",
        "\n",
        "\\\n",
        "Compare with `if`,` elif`, `else` statements \n",
        "\n",
        "and display in three cases of \"large \" or \"small\" or \"equal\".\n"
      ],
      "metadata": {
        "id": "MQxWCdqDLg4n"
      }
    },
    {
      "cell_type": "code",
      "source": [
        ""
      ],
      "metadata": {
        "id": "8QoXISDSDvhX"
      },
      "execution_count": null,
      "outputs": []
    },
    {
      "cell_type": "code",
      "source": [
        "#sample\n",
        "\n",
        "from random import randint\n",
        "\n",
        "x, y = randint (1, 50), randint (1, 50)     # Can be written together\n",
        "\n",
        "print(\"x =\", x, \"，\", \"y ＝\", y)\n",
        "\n",
        "if x > y:\n",
        "  print(x, \">\", y)\n",
        "elif x < y:\n",
        "  print(y, \">\", x)\n",
        "else:\n",
        "  print (f\"Equal as {x} = {y} \")\n",
        "\n",
        "  "
      ],
      "metadata": {
        "id": "IOdkqmiCLg4o"
      },
      "execution_count": null,
      "outputs": []
    },
    {
      "cell_type": "markdown",
      "source": [
        "\n",
        "---\n",
        "\n",
        "Q?\n",
        "\n",
        "\n",
        "As for random integer from 1 to 200, \n",
        "\n",
        "what is the program to display four cases when \n",
        "\n",
        "the number is divisible by 2 but not divisible by 3, \n",
        "\n",
        "or it is not divisible by 2 but divisible by 3\n",
        "\n",
        "or it is divisible by both 2 and 3 \n",
        "\n",
        "or it is not divisible by both 2 and 3 ?\n"
      ],
      "metadata": {
        "id": "mQgwlGyyLg4o"
      }
    },
    {
      "cell_type": "markdown",
      "source": [
        "\n",
        "――――――――――――――――――――――――――――――――――――――――――――――――\n",
        "\n",
        "\n",
        "\n",
        "Random number generation with `randint`\n",
        "\n",
        "\\\n",
        "\n",
        "Display the result in the case of four conditions\n"
      ],
      "metadata": {
        "id": "KTWUoAD2Lg4p"
      }
    },
    {
      "cell_type": "code",
      "source": [
        ""
      ],
      "metadata": {
        "id": "mP8leqg6JATk"
      },
      "execution_count": null,
      "outputs": []
    },
    {
      "cell_type": "code",
      "source": [
        "#sample\n",
        "\n",
        "from random import randint\n",
        "\n",
        "x = randint(1,200)\n",
        "\n",
        "if x % 2 == 0 and x % 3 != 0:\n",
        "  print (x, \"is divisible by 2 but not divisible by 3\")\n",
        "elif x % 2 != 0 and x % 3 == 0:\n",
        "  print (x, \"is not divisible by 2 but divisible by 3\")\n",
        "elif x % 2 == 0 and x % 3 == 0:\n",
        "  print (x, \"is divisible by 2 and 3\")\n",
        "else:\n",
        "  print (x, \"is not divisible by 2 and 3\")  \n",
        "\n",
        "  "
      ],
      "metadata": {
        "id": "6wy0mP1rLg4p"
      },
      "execution_count": null,
      "outputs": []
    },
    {
      "cell_type": "markdown",
      "source": [
        "###random hit or miss"
      ],
      "metadata": {
        "id": "_Mc9R0_YLlX4"
      }
    },
    {
      "cell_type": "markdown",
      "source": [
        "\n",
        "---\n",
        "\n",
        "Q?\n",
        "\n",
        "What is the program that when inputting the integer from 1 to 5, \n",
        "\n",
        "display whether the number is a hit or a miss?\n",
        "\n",
        "\\\n",
        "In case of miss, the correct answer is also displayed.\n",
        "\n",
        "\n",
        "\\\n",
        "The number of correct answers is gererated at random.\n"
      ],
      "metadata": {
        "id": "penFnyk4oJYw"
      }
    },
    {
      "cell_type": "markdown",
      "source": [
        "\n",
        "――――――――――――――――――――――――――――――――――――――――――――――――\n",
        "\n",
        "\n",
        "\n",
        "Since it is an integer, `randint` is` import` from the `random` module.\n",
        "\n",
        "\n",
        "\\\n",
        "Put the correct answer in the `answer` variable\n",
        "\n",
        "\n",
        "\\\n",
        "Display \"Please hit a number from 1 to 5\"\n",
        "\n",
        "\n",
        "\\\n",
        "Ask to enter in \"Please enter an integer from 1 to 5\"\n",
        "\n",
        "\n",
        "\\\n",
        "Don't forget to convert to integer with `int` \n",
        "\n",
        "as input number with `input` is string.\n",
        "\n",
        "\n",
        "\\\n",
        "If answer and input number are same, \"Hit!!\" is displayed, \n",
        "\n",
        "if they are different, \"Miss. The correct answer is `answer`\" is displayed.\n"
      ],
      "metadata": {
        "id": "xnfEtgVOoNeh"
      }
    },
    {
      "cell_type": "code",
      "source": [
        ""
      ],
      "metadata": {
        "id": "5GjcjJXtD4X5"
      },
      "execution_count": null,
      "outputs": []
    },
    {
      "cell_type": "code",
      "source": [
        "#sample\n",
        "\n",
        "from random import randint\n",
        "\n",
        "answer = randint(1,5)\n",
        "\n",
        "print(\"Please guess the number from 1 to 5\")\n",
        "\n",
        "x = int(input (\"Please enter an integer from 1 to 5:\"))\n",
        "\n",
        "if answer == x:\n",
        "  print (\"Hit!!!\")\n",
        "else:\n",
        "  print (f\"Miss. The correct answer is {answer}\")\n"
      ],
      "metadata": {
        "id": "V7jlGcMAoRU4"
      },
      "execution_count": null,
      "outputs": []
    },
    {
      "cell_type": "markdown",
      "source": [
        "###random numbers and day"
      ],
      "metadata": {
        "id": "vJa4An6YnTwo"
      }
    },
    {
      "cell_type": "markdown",
      "source": [
        "\n",
        "---\n",
        "\n",
        "Q?\n",
        "\n",
        "\n",
        "\n",
        "Create an integer at random from 1 to 7 and from the numbers that come out,\n",
        "\n",
        "diplay as\n",
        "\n",
        "1 = Monday, 2 = Tuesday, 3 = Wednesday, 4 = Thursday,\n",
        "\n",
        "5 = Friday, 6 = Saturday, 7 = Sunday\n",
        "\n",
        "What is this program?\n"
      ],
      "metadata": {
        "id": "2_3L0U76nWTY"
      }
    },
    {
      "cell_type": "markdown",
      "source": [
        "ーーーーーーーーーーーーーーーーーーーーーーーーーーーーーーーーーーーーーーーー\n",
        "\n",
        "\n",
        "Create a random number from 1 to 7 with `randint` function \n",
        "\n",
        "and assign the created number to the variable `day`.\n",
        "\n",
        "\n",
        "    day = randint(1, 7)\n",
        "\n",
        "The number(`argument`) in `()` of `randint (1, 7)` is(from 1 to 7 not 6.\n",
        "\n",
        "\\\n",
        "After that, by the if statement the number is 1, it's Monday, if it's 2, it's Tuesday ...\n"
      ],
      "metadata": {
        "id": "NAE7QVvYnbDg"
      }
    },
    {
      "cell_type": "code",
      "source": [
        ""
      ],
      "metadata": {
        "id": "-wGkk9U4D-bl"
      },
      "execution_count": null,
      "outputs": []
    },
    {
      "cell_type": "code",
      "source": [
        "#sample\n",
        "\n",
        "\n",
        "from random import randint       #If \"import random\" here,\n",
        "\n",
        "day = randint(1,7)                     # day = random.randint(1,7)\n",
        "\n",
        "if day == 1:\n",
        "  print (day, \"is Monday\")\n",
        "elif day == 2:\n",
        "  print (day, \"is Tuesday\") \n",
        "elif day == 3:\n",
        "  print (day, \"is Wednesday\") \n",
        "elif day == 4:\n",
        "  print (day, \"is Thursday\") \n",
        "elif day == 5:\n",
        "  print (day, \"is Friday\") \n",
        "elif day == 6:\n",
        "  print (day, \"is Saturday\") \n",
        "elif day == 7:                                 #else: also available\n",
        "  print (day, \"is Sunday\") \n"
      ],
      "metadata": {
        "id": "-rhyEgZARXzx"
      },
      "execution_count": null,
      "outputs": []
    },
    {
      "cell_type": "markdown",
      "source": [
        "\n",
        "You might see the code import aprt as ` import random` instead of \n",
        "\n",
        "`from random import randint`.\n",
        "\n",
        "\\\n",
        "Then assignment part to `day` is used as `random.randint`.\n",
        "\n",
        "\n",
        "    (1) from random import randint\n",
        "\n",
        "          randint()\n",
        "\n",
        "    (2)　import random\n",
        "\n",
        "          random.randint()\n",
        "\n",
        "\n",
        "If you want to use only randint in random module, use (1).\n",
        "\n",
        "\\\n",
        "\n",
        "If you want to use various functions in random module, write (2).\n",
        "\n",
        "\\\n",
        "\n",
        "It's like that, it's depend on you.\n"
      ],
      "metadata": {
        "id": "0v8Yox5xnn9K"
      }
    },
    {
      "cell_type": "markdown",
      "source": [
        "###random fortune paper"
      ],
      "metadata": {
        "id": "Dfk4vq8EcbH8"
      }
    },
    {
      "cell_type": "markdown",
      "source": [
        "\n",
        "---\n",
        "\n",
        "Q?\n",
        "\n",
        "What is the program that creating random integers from 1 to 20 \n",
        "\n",
        "and make fortune paper at 1,2 for Excellent luck, 3,4,5 for Fair luck, \n",
        "\n",
        "6,7,8,9,10 for A little luck, 11,12,13 for Uncertain luck \n",
        "\n",
        "14,15,16,17 for Bad luck, and 18,19,20 for Terrible luck?\n"
      ],
      "metadata": {
        "id": "HkS8JToJny_x"
      }
    },
    {
      "cell_type": "markdown",
      "source": [
        "\n",
        "――――――――――――――――――――――――――――――――――――――――――――――――\n",
        "\n",
        "\n",
        "\n",
        "There are some ways to express the conditions, \n",
        "\n",
        "but the idea is the same as above.\n",
        "\n",
        "\n",
        "\n",
        "\\\n",
        "\n",
        "How to write a conditional statement.\n",
        "\n",
        "\n",
        "\\\n",
        "For example, if Fair luck appears, you can just use `elif fortune <= 5` \n",
        "\n",
        "without writing `elif fortune >= 3 and fortune <= 5`.\n",
        "\n",
        "\n",
        "\\\n",
        "`elif` means \"calculated only when the condition written in the above condition \n",
        "\n",
        "is not satisfied and is not calculated when the above condition is satisfied \".\n",
        "\n",
        "\n",
        "\\\n",
        "When 2 comes out, it is `2 <= 5`, but it does not become \"Fair luck\" \n",
        "\n",
        "because 2 is a condition to become #Excellemnt luck\".\n",
        "\n",
        "\n",
        "\\\n",
        "The `if` above `elif` is calculated, then ` elif` written below is not calculated.\n",
        "\n",
        "\n",
        "\\\n",
        "`else` means \"calculate if it is not 17 or less\".\n",
        "\n",
        "\n",
        "\\\n",
        "\n",
        "I also tried using \"f-strings ` f` \"\n"
      ],
      "metadata": {
        "id": "oy1muxq2n20r"
      }
    },
    {
      "cell_type": "code",
      "source": [
        ""
      ],
      "metadata": {
        "id": "tflRDpYwkUEz"
      },
      "execution_count": null,
      "outputs": []
    },
    {
      "cell_type": "code",
      "source": [
        "#sample\n",
        "\n",
        "from random import randint\n",
        "\n",
        "fortune = randint(1, 20)\n",
        "\n",
        "word ='appears,'\n",
        "\n",
        "if fortune <= 2:\n",
        "  print (f'{fortune} {word} Excellent luck')\n",
        "\n",
        "elif fortune <= 5 :\n",
        "  print (f'{fortune} {word} Fair luck')\n",
        "\n",
        "elif fortune <= 10:\n",
        "  print (f'{fortune} {word} A little luck')\n",
        "\n",
        "elif fortune <= 13:\n",
        "  print (f'{fortune} {word} Uncertain luck')\n",
        "\n",
        "elif fortune <= 17:\n",
        "  print (f'{fortune} {word} Bad luck')\n",
        "\n",
        "else:\n",
        "  print (f'{fortune} {word} Terrible luck')\n"
      ],
      "metadata": {
        "id": "ISdFGTVjoDQ6",
        "colab": {
          "base_uri": "https://localhost:8080/"
        },
        "outputId": "89bb2bf3-e6d8-4c07-fcec-624102de0cc1"
      },
      "execution_count": null,
      "outputs": [
        {
          "output_type": "stream",
          "name": "stdout",
          "text": [
            "5 appears, Fair luck\n"
          ]
        }
      ]
    },
    {
      "cell_type": "markdown",
      "source": [
        "###random hit or miss with hint"
      ],
      "metadata": {
        "id": "a1QAVkYELuY0"
      }
    },
    {
      "cell_type": "markdown",
      "source": [
        "\n",
        "---\n",
        "\n",
        "Q?\n",
        "\n",
        "What is the program that when inputting the integer from 1 to 10,\n",
        "\n",
        "display whether the number is a hit or a miss?\n",
        "\n",
        "\n",
        "\n",
        "\\\n",
        "The number of correct answer is generated at random only once.\n",
        "\n",
        "\\\n",
        "In this case, if it is miss, it is repeated that advising whether it is larger \n",
        "\n",
        "or smaller than the correct answer and ask to input anther number \n",
        "\n",
        "until the correct answer is given.\n",
        "\n"
      ],
      "metadata": {
        "id": "nhoaWISRoW6K"
      }
    },
    {
      "cell_type": "markdown",
      "source": [
        "\n",
        "――――――――――――――――――――――――――――――――――――――――――――――――\n",
        "\n",
        "\n",
        "Since it is a random integer, `randint` is` import` from the `random` module.\n",
        "\n",
        "\n",
        "\\\n",
        "Put the correct answer in the `answer` variable\n",
        "\n",
        "\n",
        "\\\n",
        "\"Please guess the number from 1 to 10\" is displayed.\n",
        "\n",
        "\n",
        "\\\n",
        "Ask to `input` with\" Please enter a number \"  \n",
        "\n",
        "(This is in the `while statement`)\n",
        "\n",
        "\n",
        "\\\n",
        "Since the number of iterations is not fixed, iterative calculation processing \n",
        "\n",
        "is performed with the `while True:` statement.\n",
        "\n",
        "\n",
        "\\\n",
        "If they are the same, it will be displayed as \"Hit!!!\" and if they are \n",
        "\n",
        "different, it will be displayed as \"The correct number is a smaller number\" \n",
        "\n",
        "or \"a larger number\".\n",
        "\n",
        "\n",
        "\\\n",
        "Return to the beginning of the `while statement` \n",
        "\n",
        "and display \"Please enter a number\"\n",
        "\n",
        "\n",
        "\\\n",
        "There are three conditions, \"Hit\", \"smaller\", and \"larger\", \n",
        "\n",
        "so use `if`,` elif`, and `else`\n",
        "\n",
        "\n"
      ],
      "metadata": {
        "id": "7765h5Zyobx-"
      }
    },
    {
      "cell_type": "code",
      "source": [
        ""
      ],
      "metadata": {
        "id": "3d4CCJBTEL6x"
      },
      "execution_count": null,
      "outputs": []
    },
    {
      "cell_type": "code",
      "source": [
        "#sample\n",
        "\n",
        "from random import randint\n",
        "\n",
        "answer = randint(1,10)\n",
        "\n",
        "print (\"Please guess the number from 1 to 10\")\n",
        "\n",
        "while True :\n",
        "  x = int (input (\"Please enter a number from 1 to 10:\"))\n",
        "  if answer == x :\n",
        "    print (\"Hit!!!, congratulations\")\n",
        "    break\n",
        "\n",
        "  elif answer < x :\n",
        "    print (\"The correct number is smaller!\")\n",
        "\n",
        "  else :\n",
        "    print (\"The correct number is bigger!\")\n"
      ],
      "metadata": {
        "id": "TFvekz_2ofGA"
      },
      "execution_count": null,
      "outputs": []
    },
    {
      "cell_type": "markdown",
      "source": [
        "###Divisor Perfect number"
      ],
      "metadata": {
        "id": "MMEtHzKuqjZo"
      }
    },
    {
      "cell_type": "markdown",
      "source": [
        "---\n",
        "Q?\n",
        "\n",
        "\n",
        "A perfect number is a number whose sum of divisors excluding itself \n",
        "\n",
        "is equal to that number itself.\n",
        "\n",
        "\\\n",
        "6 is the perfect number.\n",
        "\n",
        "\\\n",
        "Divisors of 6 are 1, 2, 3, 6 and 1 + 2 + 3 = 6.\n",
        "\n",
        "\n",
        "\\\n",
        "What is the program to display four perfect numbers from the smallest?\n",
        "\n"
      ],
      "metadata": {
        "id": "MPMNIvgQpjCC"
      }
    },
    {
      "cell_type": "markdown",
      "source": [
        "ーーーーーーーーーーーーーーーーーーーーーーーーーーーーーーーーーーーーーーーー\n",
        "\n",
        "Searching from 2 in order, set the candidate of the perfect number `n` to 2.\n",
        "\n",
        "```\n",
        "n = 2\n",
        "count = 0\n",
        "```\n",
        "\n",
        "Set `count` variable which counts the number of perfect numbers found to 0 \n",
        "\n",
        "and repeat the process until it reaches 3.\n",
        "\\\n",
        "\n",
        "We don't know how many integers to look up, \n",
        "\n",
        "so I create a iterative process with `while statement`.\n",
        "\n",
        "\\\n",
        "First, set `m` the sum of divisors to 0.\n",
        "\n",
        "```\n",
        "while count <4:\n",
        "   m = 0\n",
        "```\n",
        "\n",
        "Using the `for statement`, in case the integer is `n`, \n",
        "\n",
        "divisors are assigned from 1 to (n -1) and if `n` is divisible the divisor, \n",
        "\n",
        "the divisor is added to` m`.\n",
        "```\n",
        "  for i in range (1, n):\n",
        "          if n % i == 0:\n",
        "              m += i\n",
        "```\n",
        "At next process, return to the `while loop`.\n",
        "\n",
        "If n = m, output `n`, count the number of `n`and proceed to the next n.\n",
        "```\n",
        "if n == m:\n",
        "   print (n)\n",
        "   count + = 1\n",
        "n + = 1\n",
        "```\n"
      ],
      "metadata": {
        "id": "r3dc5OJV055r"
      }
    },
    {
      "cell_type": "code",
      "source": [
        ""
      ],
      "metadata": {
        "id": "9I2Tsdlz2sn_"
      },
      "execution_count": null,
      "outputs": []
    },
    {
      "cell_type": "code",
      "metadata": {
        "id": "5kG8p3nQToLz"
      },
      "source": [
        "#sample\n",
        "\n",
        "n = 2\n",
        "count = 0\n",
        "while count < 4:\n",
        "    m = 0\n",
        "    for i in range(1,n):\n",
        "        if n % i == 0:\n",
        "            m += i\n",
        "    if n == m:\n",
        "        print(n)\n",
        "        count += 1\n",
        "    n += 1\n"
      ],
      "execution_count": null,
      "outputs": []
    },
    {
      "cell_type": "markdown",
      "source": [
        "###Concentration of salt water   <Solve problem wtih sympy module>"
      ],
      "metadata": {
        "id": "QIBqNLZqgUmV"
      }
    },
    {
      "cell_type": "markdown",
      "source": [
        "\n",
        "---\n",
        "\n",
        "Q?\n",
        "\n",
        "\n",
        "\n",
        "When the same amount of water was added to both 500g salt water with 5% \n",
        "\n",
        "concentration adn 400g salt water with 6%, the concentrations became equal.\n",
        "\n",
        "\n",
        "\\\n",
        "How much water was added?\n"
      ],
      "metadata": {
        "id": "eA7zSR9HqB1U"
      }
    },
    {
      "cell_type": "markdown",
      "source": [
        "ーーーーーーーーーーーーーーーーーーーーーーーーーーーーーーーーーーーーーーーー\n",
        "\n",
        "We already used `var()` and `solve()` function in sympy module \n",
        "\n",
        "at the section of backward calculation.  \n",
        "\n",
        "These two functions are useful to solve other problems.\n",
        "\n",
        "\\\n",
        "This problem is to be solved with `var()` and `solve()`.\n",
        "\n",
        "\\\n",
        "Express the problem as an equation and solve with sympy\n",
        "\n",
        "\\\n",
        "Process is as follows\n",
        "\n",
        "\\\n",
        "Import `var()` and `solve()` from `sympy`\n",
        "\n",
        "```\n",
        "from sympy import var, solve\n",
        "```\n",
        "The amount of water added is expressed as `x` grams, \n",
        "\n",
        "`x` is registered as a variable.\n",
        "\n",
        "```\n",
        "var(\"x\")\n",
        "```\n",
        " (Concentration) = (Weight of salt) $\\div$ (Weight of salt solution)\n",
        "\n",
        "\\\n",
        "Weight of salt is 5% of 500g salt water that is 500 x 0.05 = 25g and\n",
        "\n",
        "\\\n",
        "Weight of salt is 6% of 600g salt water that iis 600 x 0.06 = 24g\n",
        "\n",
        "\\\n",
        "Since the weight of salt water is 500 + x and 400 + x,\n",
        "\n",
        "\\\n",
        "The formula that expresses the concentrations are equal\n",
        "\n",
        "\\\n",
        "500 * 0.05 / (500 + x) = 600 * 0.06 / (400 + x)\n",
        "\n",
        "\\\n",
        "To solve with solve transform the type of formula to `(left side) = 0`\n",
        "\n",
        "\\\n",
        "500 * 0.05 / (500 + x) - 600 * 0.06 / (400 + x) = 0\n",
        "\n",
        "\\\n",
        "\n",
        "Enter the formula on the left side in E\n",
        "\n",
        "\\\n",
        "```\n",
        "E = 500 * 0.05 / (500 + x) - 400 * 0.06 / (400 + x) \n",
        "```\n",
        "Solve this formula with `solve()` and put the answer in `answer`\n",
        "\n",
        "```\n",
        "answer = solve(E)\n",
        "```\n",
        "\n",
        "If there is one variable, the answer comes to a list type.\n",
        "\n",
        "\\\n",
        "As `x` is the first element and is a decimal (floating point), \n",
        "\n",
        "in order to print the answer with `print`,\n",
        "\n",
        "put answer[0] in `int()` to make it an integer\n",
        "\n",
        "```\n",
        "print(int(answer[0]), 'g')\n",
        "```\n",
        "\n",
        "\\"
      ],
      "metadata": {
        "id": "8g43jvOC6YXP"
      }
    },
    {
      "cell_type": "code",
      "source": [
        ""
      ],
      "metadata": {
        "id": "O8kEEHoQEhh6"
      },
      "execution_count": null,
      "outputs": []
    },
    {
      "cell_type": "code",
      "source": [
        "#sample\n",
        "\n",
        "from sympy import var, solve\n",
        "\n",
        "var(\"x\")\n",
        "\n",
        "E = 500 * 0.05 / (500 + x) - 400 * 0.06 / (400 + x) \n",
        "\n",
        "answer = solve(E)\n",
        "\n",
        "print(int(answer[0]), 'g')\n"
      ],
      "metadata": {
        "id": "mMoLDTc6qJhf"
      },
      "execution_count": null,
      "outputs": []
    },
    {
      "cell_type": "markdown",
      "source": [
        "### Ratio and proportion"
      ],
      "metadata": {
        "id": "5oPUuCxNnMJT"
      }
    },
    {
      "cell_type": "markdown",
      "source": [
        "\n",
        "---\n",
        "\n",
        "Q?\n",
        "\n",
        "\n",
        "Bear bought a book for 200 Japanese yen less than $ \\dfrac {1} {3} $ \n",
        "\n",
        "of the money he had.\n",
        "\n",
        "\n",
        "Next, he bought stationery for 1000 yen. \n",
        "\n",
        "The remaining money was $\\dfrac{2}{5}$ of the amount he had.\n",
        "\n",
        "\n",
        "What was the first amount Bear had?\n"
      ],
      "metadata": {
        "id": "Z2TP1MFdqOxv"
      }
    },
    {
      "cell_type": "markdown",
      "source": [
        "ーーーーーーーーーーーーーーーーーーーーーーーーーーーーーーーーーーーーーーーー\n",
        "\n",
        "Express the problem as an equation and solve with sympy\n",
        "\n",
        "\\\n",
        "Import `var()` and `solve()` from `sympy`\n",
        "```\n",
        "from sympy import var, solve\n",
        "```\n",
        "\n",
        "The amount Bear initially had is `b` Japanese yen, \n",
        "\n",
        "register `b` as a variable\n",
        "```\n",
        "var(\"b\")\n",
        "```\n",
        "\n",
        "(Book price) = b * 1/3 - 200\n",
        "\n",
        "\\\n",
        "(Total amount spent) = (book price) + (stationery price) = b * 1/3 - 200 + 1000 \n",
        "\n",
        "\\\n",
        "The total amount spent is 1 - 2 / 5 = 3/5 of the first amount, \n",
        "\n",
        "so if you express it in an equation, it is b * 3/5\n",
        "\n",
        "\\\n",
        "b * 1/3 - 200 + 1000 and b * 3/5 are equal\n",
        "\n",
        "\\\n",
        "Expressing this as a formula, b * 1/3 - 200 + 1000 = b * 3/5\n",
        "\n",
        "\\\n",
        "Transform this formula to `(left side) = 0` to solve with sympy \n",
        "\n",
        "\\\n",
        "b * 1/3 - 200 + 1000 - b * 3/5 = 0\n",
        "\n",
        "\\\n",
        "Enter the formula on the left side in E\n",
        "\n",
        "```\n",
        "E = b * 1/3 - 200 + 1000 - b * 3/5\n",
        "```\n",
        "\n",
        "Solve this formula with `solve()` and put the answer in `answer`\n",
        "\n",
        "```\n",
        "answer = solve(E)\n",
        "```\n",
        "\n",
        "If there is one variable, the answer comes to a list type.\n",
        "\n",
        "\\\n",
        "As `b` is the first element and is a decimal (floating point), \n",
        "\n",
        "in order to print the answer with `print`,\n",
        "\n",
        "put answer[0] in `int()` to make it an integer\n",
        "\n",
        "```\n",
        "print(int(answer[0]), 'yen')\n",
        "```\n"
      ],
      "metadata": {
        "id": "FHdDoIkMTo5t"
      }
    },
    {
      "cell_type": "code",
      "source": [
        ""
      ],
      "metadata": {
        "id": "NlzFNF6XEvPW"
      },
      "execution_count": null,
      "outputs": []
    },
    {
      "cell_type": "code",
      "source": [
        "#sample\n",
        "\n",
        "from sympy import var, solve\n",
        "\n",
        "var(\"b\")\n",
        "\n",
        "E = b * 1/3 - 200 + 1000 - b * 3/5\n",
        "\n",
        "answer = solve(E)\n",
        "\n",
        "print(int(answer[0]), 'Japanese yen')\n"
      ],
      "metadata": {
        "id": "xLD5_6lWqUQ9"
      },
      "execution_count": null,
      "outputs": []
    },
    {
      "cell_type": "markdown",
      "source": [
        "###Sum and difference sympy solution"
      ],
      "metadata": {
        "id": "ZmIGGpwhLLF1"
      }
    },
    {
      "cell_type": "markdown",
      "source": [
        "\n",
        "---\n",
        "\n",
        "Q?\n",
        "\n",
        "\n",
        "\n",
        "At a shop, there are sandwiches for 600 Japanese yen each \n",
        "\n",
        "and lunch boxes for 750 yen each.\n",
        "\n",
        "\n",
        "\\\n",
        "The sales of this shop were 11400 yen and 17 pieces in total were sold. \n",
        "\n",
        "How many sandwiches were sold?\n",
        "\n"
      ],
      "metadata": {
        "id": "l0K_NAolqdRp"
      }
    },
    {
      "cell_type": "markdown",
      "source": [
        "\n",
        "――――――――――――――――――――――――――――――――――――――――――――――――\n",
        "\n",
        "\n",
        "\n",
        "[ Arithmetic solution ]\n",
        "\n",
        "\n",
        "(750 $\\times$ 17 - 11400) $\\div$ (750 - 600) = 9 pieces ... (answer)\n",
        "\n",
        "\n",
        "\n",
        "\\\n",
        "\n",
        "[ Python ]\n",
        "\n",
        "\n",
        "\n",
        "In the case of 1 to 17 number of sandwiches and bento boxes, \n",
        "\n",
        "assign them to `s` and `b` variables \n",
        "\n",
        "and all possible combinations are made with `for loop`.\n",
        "\n",
        "\n",
        "\\\n",
        "The condition of the problem is expressed by an equation \n",
        "\n",
        "and if there are applicable `s` and `b`, `s` is output.\n"
      ],
      "metadata": {
        "id": "C8fueGI0qhgv"
      }
    },
    {
      "cell_type": "code",
      "source": [
        ""
      ],
      "metadata": {
        "id": "vS-uvMRjEz0W"
      },
      "execution_count": null,
      "outputs": []
    },
    {
      "cell_type": "code",
      "source": [
        "#sample\n",
        "\n",
        "for s in range(1,18):\n",
        "  for b in range(1,18):\n",
        "    if s + b == 17 and 600 * s + 750 * b == 11400:\n",
        "      print(s, 'pieces')\n",
        "\n"
      ],
      "metadata": {
        "id": "zQ4WIrx7qliB"
      },
      "execution_count": null,
      "outputs": []
    },
    {
      "cell_type": "markdown",
      "source": [
        "\n",
        "＜Python another solution＞\n",
        "\n",
        "** `! !! Remember how to use sympy's solve function! !! `**\n",
        "\n",
        "\n",
        "\\\n",
        "This problem is linear equations to be learned in junior high school \n",
        "\n",
        "and in Python there is a `solve()` function for solving equations.\n",
        "\n",
        "\\\n",
        "\n",
        "If the number of sandwiches and lunch boxes is `s` and `b` respectively \n",
        "\n",
        "and the condition of the problem is expressed by an equation.\n",
        "\n",
        "\n",
        "`s + b = 17`    (` ＝ `here is an equal sign (equal equal))\n",
        "\n",
        "`600 × s + 750 × b = 11400`\n",
        "\n",
        "\n",
        "If the two equations are transformed to the form `(left side) = 0`,\n",
        "\n",
        "\\\n",
        "(1): `s + b ー 17 = 0`\n",
        "\n",
        "\\\n",
        "(2)：`600 × s + 750 × b ― 11400 ＝ 0`\n",
        "\n",
        "\\\n",
        "\n",
        "Therefore, the (left side) of (1) is `E1`.\n",
        "\n",
        " (` E1` is a variable, so you can decide the name yourself).\n",
        "\n",
        "\n",
        "\\\n",
        "Let the (left side) of (2) be `E2 = 600 × s + 750 × b ― 11400`.\n",
        "\n",
        "\\\n",
        "\n",
        "(Left side) means \"left side of = (equal symbol)\"\n",
        "\n",
        "\n",
        "\\\n",
        "If you put these E1 and E2 into  `solve()`finction of the sympy module,\n",
        "\n",
        "s and b are found.\n",
        "\n",
        "\n",
        "\\\n",
        "The concrete code is to first `import` the` var` and `solve` functions \n",
        "\n",
        "from the` sympy` module.\n",
        "```\n",
        "from sympy import var, solve\n",
        "```\n",
        "\n",
        "Register s and b are variables\n",
        "```\n",
        "var ('s, b')      #This is the same as writing s, b = var ('s, b')\n",
        "```\n",
        "\n",
        "Assign/put the expressions of the two conditions in `E1` and` E2`.\n",
        "\n",
        "```\n",
        "E1 = s + b-17\n",
        "\n",
        "E2 = 600 * s + 750 * b ― 11400\n",
        "```\n",
        "\n",
        "Put these two expressions in the `solve` function \n",
        "\n",
        "and put the calculated answer in the` answer`.\n",
        "\n",
        "Code for this is \n",
        "```\n",
        "answer = solve([E1, E2], [s, b])\n",
        "```\n",
        "\n",
        "Finally, when `answer` is output, displayed as \n",
        "\n",
        "    {s:9, b:8}\n",
        "\n",
        "Iif you want to display only sandwiches\n",
        "\n",
        "    print('sandwich is', answer[s], 'pieces')\n",
        "\n",
        "\n",
        "When there are two variables to be solved, \n",
        "\n",
        "`answer` is actually a type of `dictionary` \n",
        "\n",
        "and if you specify the key as `answer[s] `,\n",
        "\n",
        "`value` 9 that is paired with `key`s is displayed.\n"
      ],
      "metadata": {
        "id": "IMcjLhFHqxbj"
      }
    },
    {
      "cell_type": "code",
      "source": [
        ""
      ],
      "metadata": {
        "id": "pkgKttjCE2KP"
      },
      "execution_count": null,
      "outputs": []
    },
    {
      "cell_type": "code",
      "source": [
        "#sample\n",
        "\n",
        "from sympy import var, solve\n",
        "\n",
        "var('s, b')\n",
        "\n",
        "E1 = s + b - 17\n",
        "E2 = 600 * s + 750 * b - 11400\n",
        "\n",
        "answer = solve([E1, E2], [s, b])\n",
        "\n",
        "print(answer)\n",
        "\n",
        "print('sandwich is', answer[s], 'pieces')\n"
      ],
      "metadata": {
        "id": "718aOYhxq2aq"
      },
      "execution_count": null,
      "outputs": []
    },
    {
      "cell_type": "markdown",
      "source": [
        "###Sum and difference note and pocketbook sympy solution "
      ],
      "metadata": {
        "id": "w8VwjeGL4qU_"
      }
    },
    {
      "cell_type": "markdown",
      "source": [
        "\n",
        "---\n",
        "\n",
        "Q?\n",
        "\n",
        "\n",
        "\n",
        "Alice had 500 Japanese yen and tried to buy 3 notebooks and 3 highlighters, \n",
        "\n",
        "but 10 yen shortage.\n",
        "\n",
        "\n",
        "\n",
        "If she bought 2 notebooks and 4 highlighters, she got a change of 40 yen.\n",
        "\n",
        "\n",
        "\n",
        "How much are one notebook and one highlighter?\n",
        "\n"
      ],
      "metadata": {
        "id": "lrg4uyofq7cG"
      }
    },
    {
      "cell_type": "markdown",
      "source": [
        "\n",
        "――――――――――――――――――――――――――――――――――――――――――――――\n",
        "\n",
        "\n",
        "\n",
        "[ Arithmetic solution ]\n",
        "\n",
        "\n",
        "\n",
        "Solve with equation (\"elimination calculation\" so called in elementary school)\n",
        "\n",
        "\n",
        "\\\n",
        "The problem statement is expressed by an equation \n",
        "\n",
        "with cost of 1 notebook = `n` Japanese yen and 1 highlighter = `h` yen.\n",
        "\n",
        "\n",
        "\\\n",
        "From the conditions of the first half\n",
        "\n",
        "\n",
        "\\\n",
        "n  $\\times$ 3 + h  $\\times$ 3 = 500 + 10  --- (1)\n",
        "\n",
        "\n",
        "\\\n",
        "From the latter half of the conditions\n",
        "\n",
        "\n",
        "\\\n",
        "n  $\\times$ 4 + h  $\\times$ 2 = 500 - 40 --- (2)\n",
        "\n",
        "\\\n",
        "In order to eliminate `h` &emsp; &emsp; (That's why this is called \"elimination calculation\")\n",
        "\n",
        "(2) $\\times$ 3－ (1)  $\\times$ 2\n",
        "\n",
        "\\\n",
        "\n",
        "12  $\\times$ n - 6  $\\times$ n ＝ 1380 - 1020\n",
        "\n",
        "\n",
        "\\\n",
        "Based on 6  $\\times$ n = 360, \n",
        "\n",
        "n = 60 yen \n",
        "\n",
        "Substitute this for (1). \n",
        "\n",
        "h = 110 yen\n",
        "\n",
        "\\\n",
        "Therefore, Notebook 60 yen, Highlighter 110 yen ... (answer)\n",
        "\n",
        "\n",
        "\n",
        "\n",
        "\n",
        "\\\n",
        "\n",
        "[ Python/sympy ]\n",
        "\n",
        "\n",
        "\n",
        "The arithmetic solution method is called \"elimination calculation\" \n",
        "\n",
        "which is the same as the solution method of equation \n",
        "\n",
        "to be  learned in junior high school.\n",
        "\n",
        "\n",
        "\\\n",
        "The solution solved by sympy is the same as the solution of equations.\n",
        "\n",
        "\n",
        "\n",
        "\\\n",
        "\n",
        "The procedure is as follows\n",
        "\n",
        "\\\n",
        "\n",
        "`Import`` var` and `solve` from sympy\n",
        "\n",
        "    from sympy import var, solve\n",
        "\n",
        "Same as arithmetic solution, register `n` and` h` as variables with `var ()` \n",
        "\n",
        "(declare to use letters n and h as variables)\n",
        "\n",
        "    var('n, p')\n",
        "\n",
        "Write the above equations (1) and (2) in Python \n",
        "\n",
        "with the format of (left side) = 0 \n",
        "\n",
        "and substitute (left side) for variable `E`.\n",
        "\n",
        "\n",
        "\\\n",
        "Since there are two equations, assign them to `E1` and` E2` respectively.\n",
        "\n",
        "    E1 = n * 3 + h * 3 - 510 \n",
        "\n",
        "    E2 = n * 4 + h * 2 - 460\n",
        "\n",
        "When \"put` E1` and `E2` in` solve` and ask for `n` and` h` \",\n",
        "\n",
        "write code as below:\n",
        "\n",
        "    solve([E1, E2], [n, h])\n",
        "\n",
        "\n",
        "Put the answer in a variable  `answer`\n",
        "\n",
        "    answer = solve([E1, E2], [n, h])\n",
        "\n",
        "If you output `answer` with` print (answer) `,\n",
        "\n",
        "    {n:60, h:110}\n",
        "\n",
        "which is displayed as \"dictionary type\".\n",
        "\n",
        "\\\n",
        "This is fine, but when it is output as a normal style, write\n",
        "\n",
        "    print(answer[n], answer[h])\n",
        "\n"
      ],
      "metadata": {
        "id": "ulhD1lPFrBOu"
      }
    },
    {
      "cell_type": "code",
      "source": [
        ""
      ],
      "metadata": {
        "id": "oSulJnDZE7bK"
      },
      "execution_count": null,
      "outputs": []
    },
    {
      "cell_type": "code",
      "source": [
        "#sample\n",
        "\n",
        "from sympy import var, solve\n",
        "\n",
        "var('n, h')\n",
        "\n",
        "E1 = n * 3 + h * 3 - 510 \n",
        "E2 = n * 4 + h * 2 - 460\n",
        "\n",
        "answer = solve([E1, E2], [n, h])\n",
        "\n",
        "print(\"Notebook\", answer[n], \"Yen, Highlighter\", answer[h], \"Yen\")\n"
      ],
      "metadata": {
        "id": "d6liekoQrJ5_"
      },
      "execution_count": null,
      "outputs": []
    },
    {
      "cell_type": "markdown",
      "source": [
        "###Ages"
      ],
      "metadata": {
        "id": "b-Ml4q_OrPvM"
      }
    },
    {
      "cell_type": "markdown",
      "source": [
        "\n",
        "---\n",
        "\n",
        "Q?\n",
        "\n",
        "\n",
        "6 years ago, the sum of the ages of my father, mother and brother was \n",
        "\n",
        "13 times my age. \n",
        "\n",
        "Now, the sum of the ages of the three is seven times my age.\n",
        "\n",
        "\\\n",
        "\n",
        "How old was I 6 years ago?\n"
      ],
      "metadata": {
        "id": "1Dq5zMcSrSwK"
      }
    },
    {
      "cell_type": "markdown",
      "source": [
        "ーーーーーーーーーーーーーーーーーーーーーーーーーーーーーーーーーーーーーーーー\n",
        "\n",
        "We already solved this problem with python.\n",
        "\n",
        "Here we solve again with sympy.\n",
        "\n",
        "\n",
        "\\\n",
        "Import var and solve from sympy\n",
        "\n",
        "\n",
        "\\\n",
        "Enter(declare) my age (`i`)  6 years ago \n",
        "\n",
        "and the sum of the three ages `s` is used as a variable in `var ()`.\n",
        "\n",
        "\n",
        "\\\n",
        "The point of this solution is to transform the conditional equation \n",
        "\n",
        "to `(left side) = 0`.\n",
        "\n",
        "\\\n",
        "6 years ago, based on the formula of s = i * 13, \n",
        "\n",
        "the formula is transformed to i * 13 - s = 0 \n",
        "\n",
        "and the left side is substituted for `E1`.\n",
        "\n",
        "\n",
        "\\\n",
        "For now, based on (i + 6) * 7 = s + 3 * 6, \n",
        "\n",
        "transform to s + 3 * 6 - (i + 6) * 7 = 0 and substitute the left side for `E2`.\n",
        "\n",
        "\n",
        "\\\n",
        "Find `i` and `s` by `solve()` program in sympy.\n",
        "\n",
        "\n",
        "\\\n",
        "Since `answer` comes out as a dictionary type of` {i: 4, s: 52} `, \n",
        "\n",
        "use `the key` as` answer[i] `to output `the value`.\n",
        "\n"
      ],
      "metadata": {
        "id": "J-_Q7r0QrgFG"
      }
    },
    {
      "cell_type": "code",
      "source": [
        ""
      ],
      "metadata": {
        "id": "h6V6Aj7nGZje"
      },
      "execution_count": null,
      "outputs": []
    },
    {
      "cell_type": "code",
      "source": [
        "#sample\n",
        "\n",
        "from sympy import var, solve\n",
        "\n",
        "var(\"i,s\")\n",
        "\n",
        "E1 = i * 13 - s\n",
        "E2 = s + 3 * 6 - (i + 6) * 7\n",
        "\n",
        "answer = solve([E1, E2],[i, s])\n",
        "\n",
        "print(answer)\n",
        "\n",
        "print(answer[i],'years old') \n"
      ],
      "metadata": {
        "id": "3-cBX-NIrkY8"
      },
      "execution_count": null,
      "outputs": []
    },
    {
      "cell_type": "markdown",
      "source": [
        "### Python solution done Level1 first half profit and loss\n"
      ],
      "metadata": {
        "id": "QXi5zPr5rrai"
      }
    },
    {
      "cell_type": "markdown",
      "source": [
        "\n",
        "---\n",
        "\n",
        "Q?\n",
        "\n",
        "At a shop a bag was on the sale at the price with 30% profit of the cost price.\n",
        "\n",
        "But it was not sold, the price was discounted by 10% of the sales price.\n",
        "\n",
        "When this was sold, the shop got profit of 255 Japanese yen.\n",
        "\n",
        "Find the sales price of this bag.\n"
      ],
      "metadata": {
        "id": "0cigBAIuruw5"
      }
    },
    {
      "cell_type": "markdown",
      "source": [
        "ーーーーーーーーーーーーーーーーーーーーーーーーーーーーーーーーーーーーーーーー\n",
        "\n",
        "[ Solution by sympy ]\n",
        "\n",
        "\n",
        "\n",
        "Import var and solve from sympy\n",
        "\n",
        "\n",
        "\n",
        "\\\n",
        "\n",
        "Enter (declare) that the cost `c` is a variable with` var() `\n",
        "\n",
        "\n",
        "\\\n",
        "Since the sales price is expected to be a profit of 30% of the cost, \n",
        "\n",
        "it expressed as `c * (1 + 0.3)`.\n",
        "\n",
        "\\\n",
        "A discounted price which is 90% of the sales price is expressed as \n",
        "\n",
        "`c * (1 + 0.3) * (1 - 0.1)`.\n",
        "\n",
        "\n",
        "\\\n",
        "Since sold price - cost = profit, this is expressed as \n",
        "\n",
        "`c * (1 + 0.3) * (1 --0.1) - c = 255`\n",
        "\n",
        "\n",
        "\\\n",
        "Transforms to `c * (1 + 0.3) * (1 --0.1) - c - 255 = 0` \n",
        "\n",
        "and assigns the left side to the variable` E`\n",
        "\n",
        "\n",
        "\\\n",
        "Since `E` is calculated by the` solve()` function to find c, \n",
        "\n",
        "sales price is c * 1.3 to be output.\n",
        "\n",
        "\n",
        "\\\n",
        "The difference from the previous problem is that one variable `c` is \n",
        "\n",
        "defined by `var()`.\n",
        "\n",
        "\n",
        "\\\n",
        "In this case, the answer solved by solve is not a dictionary but a `list type`.\n",
        "\n",
        "\n",
        "\\\n",
        "Write `c[0]` to extract the first element of list C (write as [0] not [1]).\n",
        "\n",
        "\n",
        "\n",
        "\\\n",
        "\n",
        "Note that the type of `c` is `float = decimal (floating point number)`, \n",
        "\n",
        "so convert it to `int = integer` and output.\n"
      ],
      "metadata": {
        "id": "ccJVkZ4jr7tM"
      }
    },
    {
      "cell_type": "code",
      "source": [
        ""
      ],
      "metadata": {
        "id": "KelhcSR2FB8Y"
      },
      "execution_count": null,
      "outputs": []
    },
    {
      "cell_type": "code",
      "source": [
        "#sample\n",
        "\n",
        "from sympy import var, solve\n",
        "\n",
        "var(\"c\")\n",
        "\n",
        "E = c * (1 + 0.3) * (1 - 0.1) - c - 255\n",
        "\n",
        "c = solve(E)\n",
        "\n",
        "#print (c [0] * 1.3,'yen')        \n",
        "\n",
        "print(int(c[0] * 1.3),'yen')\n"
      ],
      "metadata": {
        "id": "r4Ja2j1RsAow"
      },
      "execution_count": null,
      "outputs": []
    },
    {
      "cell_type": "markdown",
      "source": [
        "###English test  Sum and difference"
      ],
      "metadata": {
        "id": "2i4_qbLdPDCW"
      }
    },
    {
      "cell_type": "markdown",
      "source": [
        "\n",
        "---\n",
        "\n",
        "Q?\n",
        "\n",
        "\n",
        "\n",
        "An English test was done in a class of 35 people \n",
        "\n",
        "and the overall average score was 60 points.\n",
        "\n",
        "\n",
        "There was a difference of 14 points between the average score \n",
        "\n",
        "of the top 10 people and the average score of the other 25 people.\n",
        "\n",
        "\n",
        "\\\n",
        "What is the average score of the top 10 people?\n",
        "\n",
        "\\"
      ],
      "metadata": {
        "id": "b7maS4wlsE77"
      }
    },
    {
      "cell_type": "markdown",
      "source": [
        "\n",
        "――――――――――――――――――――――――――――――――――――――――――――――\n",
        "\n",
        "\n",
        "\n",
        "Solve this problem using sympy\n",
        "\n",
        "\n",
        "\n",
        "\\\n",
        "\n",
        "Import var, solve from sympy\n",
        "\n",
        "    from sympy import var, solve\n",
        "\n",
        "\\\n",
        "Declare the average score of the top 10 scores as a variable with `x` \n",
        "\n",
        "in` var () `.\n",
        "\n",
        "    var ('x')\n",
        "\n",
        "Calculate the total score from the problem sentence.\n",
        "\n",
        "\n",
        "\\\n",
        "The average score of 10 people is `x`, the average score of 25 people is \n",
        "\n",
        "14 points lower than `x` and the sum is the total score as a whole.\n",
        "\n",
        "\n",
        "\\\n",
        "The average score of all 35 people is 60 points, \n",
        "\n",
        "the total score is 60 $\\times$ 35.\n",
        "\n",
        "\n",
        "\\\n",
        "Both have the same total score\n",
        "\n",
        "10 $\\times$ + 25 $\\times$ (x - 14) = 60 $\\times$ 35\n",
        "\n",
        "To solve with sympy, transfrom the above equation to \n",
        "\n",
        "the form of `(left side) = 0` and put it in `E`. \n",
        "\n",
        "    E = 10 * x + 25 * (x - 14) - 2100\n",
        "\n",
        "\n",
        "Put `E` in` solve()` to find `x` and put it in` answer`\n",
        "\n",
        "    answer = solve(E)\n",
        "\n",
        "Same as the above problem, `answer` is a list type, and if you print it with` print`, displyed as \n",
        "\n",
        "    [70]\n",
        "\n",
        "To be displayed as an integer\n",
        "\n",
        "    print(answer[0])\n",
        "\n",
        "\n",
        "Then, `70` is displayed.\n",
        "\n"
      ],
      "metadata": {
        "id": "yllWlxZksJtY"
      }
    },
    {
      "cell_type": "code",
      "source": [
        ""
      ],
      "metadata": {
        "id": "bM2xly4lS9dn"
      },
      "execution_count": null,
      "outputs": []
    },
    {
      "cell_type": "code",
      "source": [
        "#sample\n",
        "\n",
        "from sympy import var, solve\n",
        "\n",
        "var ('x')\n",
        "\n",
        "E = 10 * x + 25 * (x - 14) - 2100\n",
        "\n",
        "answer = solve(E)\n",
        "\n",
        "print(answer[0],'point')\n"
      ],
      "metadata": {
        "id": "bBRz2vrjsQvt"
      },
      "execution_count": null,
      "outputs": []
    },
    {
      "cell_type": "markdown",
      "source": [
        "###Playing rock-paper-scissors"
      ],
      "metadata": {
        "id": "G7JLsrLGPRR0"
      }
    },
    {
      "cell_type": "markdown",
      "source": [
        "\n",
        "---\n",
        "\n",
        "Q?\n",
        "\n",
        "\n",
        "\n",
        "Two people, Strawberry and Chocolate played rock-paper-scissors \n",
        "\n",
        "from the same place in the middle of the long stairs.\n",
        "\n",
        "\n",
        "\\\n",
        "There is a rule that the winner moves 3 steps up and the loser moves 1 step down \n",
        "\n",
        "at each play.\n",
        "\n",
        "\\\n",
        "When they played 50 times, Strawberry was 48 steps above Chocolate.\n",
        "\n",
        "\\\n",
        "\n",
        "Assuming that draw is not counted, how many steps above or below \n",
        "\n",
        "the first place is Strawberry?\n"
      ],
      "metadata": {
        "id": "WOmAXxafsUDi"
      }
    },
    {
      "cell_type": "markdown",
      "source": [
        "\n",
        "――――――――――――――――――――――――――――――――――――――――――――――\n",
        "\n",
        "\n",
        "\n",
        "[ Arithmetic solution ]\n",
        "\n",
        "\n",
        "\n",
        "One play makes a difference of 3 + 1 = 4 steps between Strawberry and Chocolate.\n",
        "\n",
        "\\\n",
        "If  Strawberry win all 50 times, Strawberry are (3 + 1) $\\times$ 50 \n",
        "\n",
        "= 200 steps above Chocolate.\n",
        "\n",
        "\n",
        "\\\n",
        "Actually it is 48 steps, so the difference is 200 - 48 = 152 steps\n",
        "\n",
        "\n",
        "\\\n",
        "If Strawberry loses instead of winning once, it will be 4 steps down instead of \n",
        "\n",
        "4 steps up, so a total of 8 steps will be different between win and lose.\n",
        "\n",
        "\\\n",
        "\n",
        "It turns out that Strawberry lost 152 steps $\\div$ 8 steps = 19 times\n",
        "\n",
        "\n",
        "\\\n",
        "Strawberry won 50 - 19 = 31 times and lost 19 times.\n",
        "\n",
        "\n",
        "\\\n",
        "3 $\\times$ 31 - 1 $\\times$ 19 = 74 steps up ... (answer)\n",
        "\n",
        "\n",
        "\n",
        "\\\n",
        "\n",
        "＜Python/sympy＞\n",
        "\n",
        "\n",
        "\n",
        "If the condition is expressed by the formula assuming that Strawberry wins \n",
        "\n",
        "`x` times and Chocolate wins `y` times,\n",
        "\n",
        "as the total number of times the two won is 50,\n",
        "\n",
        "x ∔ y = 50 → x + y － 50 = 0   \n",
        "\n",
        "Put the (left side) of this equation in `E1`\n",
        "\n",
        "\n",
        "\\\n",
        "The number of steps that Strawberry went up was x $\\times$ 3 - y $\\times$ 1 \n",
        "\n",
        "and the number of steps that Chocolate went up was y $\\times$ 3 - x $\\times$ 1.\n",
        "\n",
        "\\\n",
        "Since the difference is 48 steps, (x $\\times$ 3 - y $\\times$ 1) - (y $\\times$ 3 - x $\\times$ 1) = 48\n",
        "\n",
        "\n",
        "\n",
        "(x $\\times$ 3 - y $\\times$ 1) - (y $\\times$ 3 - x $\\times$ 1) - 48 = 0\n",
        "\n",
        "Put the (left side) of this equation in `E2`.\n",
        "\n",
        "\n",
        "\\\n",
        "Put `E1` and` E2` in `solve()`to find `x` in `y`, \n",
        "\n",
        "and assign the answer to` answer`.\n",
        "\n",
        "\n",
        "\\\n",
        "The code of the above is\n",
        "\n",
        "    answer = solve([E1, E2], [x ,y])\n",
        "\n",
        "Since we are looking for steps Strawberry is above, \n",
        "\n",
        "let the number of steps of Strawberry be `s_step`.\n",
        "\n",
        "\n",
        "\\\n",
        "Display by specifying the number of pairs with the `[x]` and `[y]` keys \n",
        "\n",
        "in the dictionary type variable answer.\n",
        "\n",
        "\n",
        "\\\n",
        "Because Chocolate won `y` times, Strawberry lost `y` times.\n",
        "\n",
        "\n",
        "\\\n",
        "Enter the formula, `3 * answer[x] - 1 * answer[y]`\n",
        "\n",
        "\n",
        "\\\n",
        "Finally output `s_step`\n"
      ],
      "metadata": {
        "id": "zjMH-8_qsZiY"
      }
    },
    {
      "cell_type": "code",
      "source": [
        ""
      ],
      "metadata": {
        "id": "uVyHtYm_FdRk"
      },
      "execution_count": null,
      "outputs": []
    },
    {
      "cell_type": "code",
      "source": [
        "#sample\n",
        "\n",
        "from sympy import var, solve\n",
        "\n",
        "var (\"x y\")       #or var(\"x, y\")\n",
        "\n",
        "E1 = x + y - 50\n",
        "E2 = (x * 3 - y * 1) - (y * 3 - x * 1) - 48\n",
        "\n",
        "answer = solve([E1, E2],[x, y])\n",
        "\n",
        "s_step = 3 * answer[x] - 1 * answer[y]\n",
        "\n",
        "print (s_step, 'steps above the first stair')\n",
        "\n",
        "#You can also print as (3 * answer[x] -1 * answer[y]) without assigning to s_step.\n"
      ],
      "metadata": {
        "id": "Gpo4MTw8sfs_"
      },
      "execution_count": null,
      "outputs": []
    },
    {
      "cell_type": "markdown",
      "source": [
        "### Work problem"
      ],
      "metadata": {
        "id": "mb4qxTg-Pe2O"
      }
    },
    {
      "cell_type": "markdown",
      "source": [
        "\n",
        "---\n",
        "\n",
        "Q?\n",
        "\n",
        "The work that would be completed in 30 minutes if done by 10 people.\n",
        "\n",
        "But it was actually took 32 minutes in total because it was started by 8 people \n",
        "\n",
        "and 2 people joined a little later.\n",
        "\n",
        "\\\n",
        "Assuming that the amount of work that can be done in one minute is the same for \n",
        "\n",
        "all 10 people, how many minutes did the two people work who joined later?\n",
        "\n"
      ],
      "metadata": {
        "id": "AVlNfS73srFp"
      }
    },
    {
      "cell_type": "markdown",
      "source": [
        "\n",
        "――――――――――――――――――――――――――――――――――――――――――――――\n",
        "\n",
        "\n",
        "\n",
        "[ Arithmetic solution ]\n",
        "\n",
        "\n",
        "\n",
        "Assuming that the amount of work per person per minute is 1, \n",
        "\n",
        "the total amount of work for this work is 1 $\\times$ 10 $\\times$ 30 = 300.\n",
        "\n",
        "\n",
        "\\\n",
        "The workload of 8 people for 32 minutes is 1 $\\times$ 8 $\\times$ 32 = 256 \n",
        "\n",
        "and 300 - 256 = 44 is the workload of 2 people.\n",
        "\n",
        "\n",
        "\\\n",
        "44/2 = 22 minutes ... (answer)\n",
        "\n",
        "\n",
        "\n",
        "\n",
        "\n",
        "\\\n",
        "\n",
        "[ Python ]\n",
        "\n",
        "\n",
        "\n",
        "Since the working time of two people is 32 minutes at most, \n",
        "\n",
        "assign the time from 0 to 32 in the variable `x` in order.\n",
        "\n",
        "\n",
        "\\\n",
        "Count all cases and output if `x` is found ​​that meets the conditions.\n"
      ],
      "metadata": {
        "id": "SLuLE5bhsvs3"
      }
    },
    {
      "cell_type": "code",
      "source": [
        ""
      ],
      "metadata": {
        "id": "YS4gaGfzFggw"
      },
      "execution_count": null,
      "outputs": []
    },
    {
      "cell_type": "code",
      "source": [
        "#sample\n",
        "\n",
        "for x in range(33) :\n",
        "  if 8 * 32 + 2 * x == 10 * 30 :\n",
        "    print (x,'minutes')\n",
        "    break\n",
        "\n"
      ],
      "metadata": {
        "id": "M6pMR0Zks0lM"
      },
      "execution_count": null,
      "outputs": []
    },
    {
      "cell_type": "markdown",
      "source": [
        "＜Python/sympy＞\n",
        "\n",
        "\n",
        "\n",
        "Import var and solve from sympy\n",
        "\n",
        "\n",
        "\\\n",
        "Declare the work time `x` of two people as a variable with` var () `.\n",
        "\n",
        "\n",
        "\\\n",
        "When the condition is expressed by an equation\n",
        "\n",
        "\n",
        "\\\n",
        "Based on `8 * 32 + 2 * x = 10 * 30`, set` 8 * 32 + 2 * x - 300 = 0` \n",
        "\n",
        "and assign the left side to `E`.\n",
        "\n",
        "\\\n",
        "Find `x` with the` solve()` function in sympy for `E`\n",
        "\n",
        "\n",
        "\\\n",
        "As it will be displayed as a list, put the first element of the list `answer` \n",
        "\n",
        "in the variable` a` and then output it.\n",
        "\n",
        "\\\n",
        "Or `print(answer[0])`\n",
        "\n",
        "\n",
        "\n"
      ],
      "metadata": {
        "id": "QEVlKcpDs4-0"
      }
    },
    {
      "cell_type": "code",
      "source": [
        ""
      ],
      "metadata": {
        "id": "zbPeIucsVHbZ"
      },
      "execution_count": null,
      "outputs": []
    },
    {
      "cell_type": "code",
      "source": [
        "#smple\n",
        "\n",
        "from sympy import var, solve\n",
        "\n",
        "var(\"x\")\n",
        "\n",
        "E = 8 * 32 + 2 * x - 300\n",
        "\n",
        "answer = solve(E)\n",
        "\n",
        "print (answer, 'minutes')         # Display as [22] minutes\n",
        "\n",
        "\n",
        "a = answer [0]                     \n",
        "print (a,'minutes')\n",
        "\n",
        "#print(answer[0], 'minutes')\n"
      ],
      "metadata": {
        "id": "BFpU-lMGs8a3"
      },
      "execution_count": null,
      "outputs": []
    },
    {
      "cell_type": "markdown",
      "source": [
        "\n",
        "---\n",
        "\n",
        "Q?\n",
        "\n",
        "\n",
        "\n",
        "There is a work that Cookie takes 75 days to complete and Pudding takes 50 days.\n",
        "\n",
        "\n",
        "\\\n",
        "Cookie and Pudding started this work together, but it took 40 days to finish \n",
        "\n",
        "because Cookie was absent for a few days from the work.\n",
        "\n",
        "\n",
        "\\\n",
        "How many days did Cookie rest?\n",
        "\n"
      ],
      "metadata": {
        "id": "OjK7WFvKtAOT"
      }
    },
    {
      "cell_type": "markdown",
      "source": [
        "\n",
        "――――――――――――――――――――――――――――――――――――――――――――――\n",
        "\n",
        "\n",
        "\n",
        "[ Arithmetic solution ]\n",
        "\n",
        "\n",
        "\n",
        "Assuming that this workload is 150, the daily workload \n",
        "\n",
        "of Pudding and Cookie is 3 and 2.\n",
        "\n",
        "\n",
        "\\\n",
        "Pudding worked 40 days without rest, so her taotal workload is 3 $\\times$ 40 = 120.\n",
        "\n",
        "\\\n",
        "The remaining 150 - 120 = 30 is the amount of Cookie worked, 30/2 = 15 days.\n",
        "\n",
        "\n",
        "\\\n",
        "Therefore, the number of days that Cookie were absent is \n",
        "\n",
        "40 - 15 = 25 days ... (Answer)\n",
        "\n",
        "\n",
        "\n",
        "\\\n",
        "\n",
        "[ Python ]\n",
        "\n",
        "\n",
        "\n",
        "Assign the number of days of Cookie from 1 to 40 to the variable `c`.\n",
        "\n",
        "\n",
        "\\\n",
        "If applicable `c` is found, output `40 - c`\n"
      ],
      "metadata": {
        "id": "Tt_3-YvKtEf3"
      }
    },
    {
      "cell_type": "code",
      "source": [
        ""
      ],
      "metadata": {
        "id": "e40VVRLNVQKE"
      },
      "execution_count": null,
      "outputs": []
    },
    {
      "cell_type": "code",
      "source": [
        "#sample\n",
        "\n",
        "for c in range(41):\n",
        "  if 3 * 40 + 2 * c == 150 :\n",
        "    print (40 - c,'days')\n"
      ],
      "metadata": {
        "id": "IkCEfVetBudM"
      },
      "execution_count": null,
      "outputs": []
    },
    {
      "cell_type": "markdown",
      "source": [
        "＜Python/sympy＞\n",
        "\n",
        "\n",
        "\n",
        "The procedure for using sympy is the same as the previous problem\n"
      ],
      "metadata": {
        "id": "l1yFsqo6tNRh"
      }
    },
    {
      "cell_type": "code",
      "source": [
        ""
      ],
      "metadata": {
        "id": "2n9VkbfMVRa0"
      },
      "execution_count": null,
      "outputs": []
    },
    {
      "cell_type": "code",
      "source": [
        "#sample\n",
        "\n",
        "from sympy import var, solve\n",
        "\n",
        "var('c')\n",
        "\n",
        "E = 3 * 40 + 2 * c - 150 \n",
        "\n",
        "answer = solve(E)\n",
        "a = answer[0]\n",
        "\n",
        "print (40 - a,'days')\n"
      ],
      "metadata": {
        "id": "J37mq9OBtQPV"
      },
      "execution_count": null,
      "outputs": []
    },
    {
      "cell_type": "markdown",
      "metadata": {
        "id": "TUDOgu5_rUFl"
      },
      "source": [
        "###Workload"
      ]
    },
    {
      "cell_type": "markdown",
      "source": [
        "####float"
      ],
      "metadata": {
        "id": "Drr0qrJsBlAl"
      }
    },
    {
      "cell_type": "markdown",
      "source": [
        "\n",
        "---\n",
        "\n",
        "Q?\n",
        "\n",
        "\n",
        "\n",
        "A and B work for a certain job. \n",
        "\n",
        "It takes 5 hours for A and B to do this work together.\n",
        "\n",
        "If A alone does this work for 4 hours first and then B does the rest of the \n",
        "\n",
        "work alone, it will take another 7 hours.\n",
        "\n",
        "\n",
        "\\\n",
        "How many hours does it take for each person to do this job?\n",
        "\n"
      ],
      "metadata": {
        "id": "LXl89tHG1QNs"
      }
    },
    {
      "cell_type": "markdown",
      "source": [
        "\n",
        "――――――――――――――――――――――――――――――――――――――――――――――\n",
        "\n",
        "\n",
        "\n",
        "[ Arithmetic solution ]\n",
        "\n",
        "\n",
        "\n",
        "\n",
        "\n",
        "\n",
        "\n",
        "(Answer) A: 7.5 hours B: 15 hours\n",
        "\n",
        "\n",
        "\\\n",
        "The amount of work per hour for A and B is used as A and B respectively, \n",
        "\n",
        "using the alphabet as it is.\n",
        "\n",
        "\n",
        "\\\n",
        "The total amount of work is to be expressed by an equation.\n",
        "\n",
        "\n",
        "\\\n",
        "(A + B) $\\times$ 5 ＝ A $\\times$ 5 ＋ B $\\times$ 5…(1)\n",
        "\n",
        "\n",
        "\\\n",
        "Furthermore, A $\\times$ 4 + B $\\times$ 7 ... (2)\n",
        "\n",
        "\n",
        "\\\n",
        "Based on (1) ＝ (2), A : B ＝ 2 : 1\n",
        "\n",
        "\n",
        "\\\n",
        "The whole work is expressed as (2 + 1) $\\times$ 5 = 15.\n",
        "\n",
        "\n",
        "\\\n",
        "A is 15/2 = 7.5 hours ... (answer)\n",
        "\n",
        "\n",
        "\\\n",
        "B is 15/1 = 15 hours ・ ・ ・ (answer)\n",
        "\n",
        "\n",
        "\n",
        "\n",
        "\n",
        "\\\n",
        "\n",
        "[ Python / sympy]\n",
        "\n",
        "\n",
        "\n",
        "The total amount of work is set to 1.\n",
        "\n",
        "\n",
        "\\\n",
        "Import var and solve from sympy\n",
        "\n",
        "\n",
        "\\\n",
        "Variable declaration of the amount of work per hour for each of the two people with `var ('A, B')`\n",
        "\n",
        "\n",
        "\\\n",
        "Express the condition as an equation and assign it to `E1` and` E2`.\n",
        "\n",
        "    E1 = A * 5 + B * 5 - 1\n",
        "\n",
        "    E2 = A * 4 + B * 7 - 1\n",
        "\n",
        "\n",
        "Find `A`,` B` with `solve()` and assign it to` answer`\n",
        "\n",
        "\n",
        "\\\n",
        "Enter the answer of 1 divided by A and B in variable `A_time` and `B_time`.\n",
        "\n"
      ],
      "metadata": {
        "id": "naE9gJM21UZI"
      }
    },
    {
      "cell_type": "code",
      "source": [
        ""
      ],
      "metadata": {
        "id": "3GZ2Yzk6Yq5o"
      },
      "execution_count": null,
      "outputs": []
    },
    {
      "cell_type": "code",
      "source": [
        "#sample\n",
        "\n",
        "from sympy import var, solve\n",
        "\n",
        "var('A, B')\n",
        "\n",
        "E1 = A * 5 + B * 5 - 1 \n",
        "E2 = A * 4 + B * 7 - 1\n",
        "\n",
        "answer = solve([E1, E2], [A, B])\n",
        "\n",
        "A_time = 1 / answer[A]\n",
        "B_time = 1 / answer[B]\n",
        "\n",
        "#print('A is', A_time,'hours')\n",
        "\n",
        "print('A is', float(A_time),'hours')      #A_time is to be float but integer\n",
        "\n",
        "#print('B is', B_time,'hours')\n",
        "\n",
        "print('B is', float(B_time),'hours')\n",
        "\n"
      ],
      "metadata": {
        "id": "5kmrrUMrB3Ef"
      },
      "execution_count": null,
      "outputs": []
    },
    {
      "cell_type": "markdown",
      "source": [
        "### Ratio and proportion (Multiple calculation)"
      ],
      "metadata": {
        "id": "u5GjMSUk1hJx"
      }
    },
    {
      "cell_type": "markdown",
      "source": [
        "\n",
        "---\n",
        "\n",
        "Q?\n",
        "\n",
        "\n",
        "\n",
        "A and B got pocket money at a ratio of 8 : 5.\n",
        "\n",
        "\\\n",
        "Thereafter when A and B used at a ratio of 8 : 3, \n",
        "\n",
        "A's money remained 400 Japanese yen and B's money remained 450 yen.\n",
        "\n",
        "\\\n",
        "How much money did B have at the beginning?"
      ],
      "metadata": {
        "id": "Z962kcXw1kHa"
      }
    },
    {
      "cell_type": "markdown",
      "source": [
        "\n",
        "――――――――――――――――――――――――――――――――――――――――――――――\n",
        "\n",
        "\n",
        "\n",
        "[ Arithmetic solution ]\n",
        "\n",
        "\n",
        "\n",
        "Let the amount of money spent by A and B be 8`x` yen and 3`x` yen respectively.\n",
        "\n",
        "\\\n",
        "Express the money of the two people at first by the formula.\n",
        "\n",
        "\n",
        "\\\n",
        "(8`x` + 400) : (3`x` ＋ 450) ＝ 8 : 5\n",
        "\n",
        "\\\n",
        "Solve this proportional equation\n",
        "\n",
        "\\\n",
        "(Product of inner terms) = (Product of outer terms)\n",
        "\n",
        "\n",
        "\\\n",
        "(3`x` ＋ 450) $\\times$ 8 ＝ (8`x` ＋ 400) $\\times$ 5\n",
        "\n",
        "\n",
        "\\\n",
        "3`x` $\\times$ 8 ∔ 450 $\\times$ 8 ＝ 8`x` $\\times$ 5 ＋ 400 $\\times$ 5\n",
        "\n",
        "\n",
        "\\\n",
        "`x` $\\times$ 24 ＋ 3600 ＝ `x` $\\times$ 40 ＋2000\n",
        "\n",
        "\n",
        "\\\n",
        "Based on `x` $\\times$ (40 - 24) ＝ 3600 - 2000, `x` ＝ 100\n",
        "\n",
        "\n",
        "\\\n",
        "The first thing about B is 3`x` + 450 = 750 yen ... (answer)\n",
        "\n",
        "\n",
        "\n",
        "\n",
        "\n",
        "\\\n",
        "\n",
        "[ Python ]\n",
        "\n",
        "\n",
        "\n",
        "When solving with `for statement`\n",
        "\n",
        "\n",
        "\\\n",
        "Since the ratio of the first pocket money is A : B = 8 : 5, \n",
        "\n",
        "assuming A is from 80 yen to 5000 yen and is in increments of 80 yen,\n",
        "\n",
        "and B is from 50 yen to 5000 yen and is in increments of 50 yen.\n",
        "\n",
        "    for a in range(80, 5000, 80) :\n",
        "      for b in range(50, 5000, 50) :\n",
        "\n",
        "Thereafter, the conditions are as per the problem statement\n",
        "\n"
      ],
      "metadata": {
        "id": "-oqMy9py1o3h"
      }
    },
    {
      "cell_type": "code",
      "source": [
        ""
      ],
      "metadata": {
        "id": "R1WJPFl9F2Kh"
      },
      "execution_count": null,
      "outputs": []
    },
    {
      "cell_type": "code",
      "source": [
        "#sample\n",
        "\n",
        "for a in range(80, 5000, 80) :\n",
        "  for b in range(50, 5000, 50) :\n",
        "    if a * 5 == b * 8 and (a - 400) / 8 == (b - 450) / 3:\n",
        "      print (b,'yen')\n",
        "\n",
        "      "
      ],
      "metadata": {
        "id": "Ld1xSPEg1tzE"
      },
      "execution_count": null,
      "outputs": []
    },
    {
      "cell_type": "markdown",
      "source": [
        "＜Python/sympy＞\n",
        "\n",
        "\n",
        "\n",
        "The first A's pocket money is `a` japanese yen and the B's is `b` yen.\n",
        "\n",
        "\n",
        "\\\n",
        "Based on the raio of their first amount `a` :` b` = 8 : 5, \n",
        "\n",
        "set `a * 5 - b * 8 = 0` and assign the left side to` E1`.\n",
        "\n",
        "\\\n",
        "\n",
        "The ratio of the amount spent is (a - 400) : (b - 450) = 8 : 3, \n",
        "\n",
        "so `(a - 400) * 3 - (b -450) * 8 = 0` and assign the left side to` E2`.\n",
        "\n",
        "\\\n",
        "\n",
        "Find `a`and` b` with `solve()` for `E1` and ` E2`.\n",
        "\n"
      ],
      "metadata": {
        "id": "ODB3KJk81xa8"
      }
    },
    {
      "cell_type": "code",
      "source": [
        ""
      ],
      "metadata": {
        "id": "IGKPemKmF3TS"
      },
      "execution_count": null,
      "outputs": []
    },
    {
      "cell_type": "code",
      "source": [
        "#sample\n",
        "\n",
        "from sympy import var, solve\n",
        "\n",
        "var(\"a, b\")\n",
        "\n",
        "E1 = a * 5 - b * 8\n",
        "E2 = (a - 400) * 3 - (b - 450) * 8\n",
        "\n",
        "answer = solve([E1,E2],[a,b])\n",
        "\n",
        "print(answer)\n",
        "\n",
        "print ('B is', answer[b],'yen ... (answer)')\n"
      ],
      "metadata": {
        "id": "-B3ua97K10rh"
      },
      "execution_count": null,
      "outputs": []
    },
    {
      "cell_type": "markdown",
      "source": [
        "\n",
        "---\n",
        "\n",
        "Q?\n",
        "\n",
        "\n",
        "\n",
        "The number of girls in a class of the first semester was \n",
        "\n",
        "eight less than the $\\dfrac{3}{5}$ of total number of the class.\n",
        "\n",
        "\\\n",
        "\n",
        "At the second semester, two boys and two girls were transferred from other schools.\n",
        "\n",
        "Then the number of girls has reached the $\\dfrac{3}{7}$ of the number of the class.\n",
        "\n",
        "\\\n",
        "How many students are there in the class at the second semester?\n",
        "\n"
      ],
      "metadata": {
        "id": "Qh-iwR5e15nS"
      }
    },
    {
      "cell_type": "markdown",
      "source": [
        "\n",
        "――――――――――――――――――――――――――――――――――――――――――――――\n",
        "\n",
        "\n",
        "\n",
        "[ Arithmetic solution ]\n",
        "\n",
        "\n",
        "\n",
        "Assuming that the number of students in the first semester is 5`x`, \n",
        "\n",
        "the number of girls is 3`x` - 8.\n",
        "\n",
        "\\\n",
        "\n",
        "The number of students in the second semester is 5`x`+ 2 + 2, the number of girls is 3`x` - 8 + 2.\n",
        "\n",
        "\\\n",
        "The ratio of the number of students in the class : the number of girls = 7 : 3.\n",
        "\n",
        "\n",
        "\\\n",
        "(5`x` ＋ 4) : (3`x` - 6) = 7: 3 \n",
        "\n",
        "\n",
        "\\\n",
        "Solving this proportional formula, `x` ＝ 9 \n",
        "\n",
        "\\\n",
        "5`x` ＋ 4 ＝ 5 $\\times$ 9 ＋ 4 ＝ 49 people ・ ・ ・ (answer)\n",
        "\n",
        "\n",
        "\n",
        "\n",
        "\n",
        "\\\n",
        "\n",
        "[ Python ]\n",
        "\n",
        "When solving with `for statement`\n",
        "\n",
        "\\\n",
        "Assign the number of class up to about 100 \n",
        "\n",
        "and the number of girls up to about 50.\n",
        "\n",
        "\\\n",
        "Process is as per the problem statement\n",
        "\n"
      ],
      "metadata": {
        "id": "uYN4JurF1-Lc"
      }
    },
    {
      "cell_type": "code",
      "source": [
        ""
      ],
      "metadata": {
        "id": "eDaMn1yPF5rx"
      },
      "execution_count": null,
      "outputs": []
    },
    {
      "cell_type": "code",
      "source": [
        "#sample\n",
        "\n",
        "for c in range(1,100):\n",
        "  for g in range(1,50):\n",
        "    if g == c * 3/5 - 8 and g + 2 == (c + 4) * 3/7 :\n",
        "      print (c + 4,'people')\n",
        "\n"
      ],
      "metadata": {
        "id": "nHo2nyhq2EoS"
      },
      "execution_count": null,
      "outputs": []
    },
    {
      "cell_type": "markdown",
      "source": [
        "Method using sympy is same as the previous problems.\n",
        "\n",
        "When using sympy, import var and solve from sympy\n",
        "\n",
        "\\\n",
        "Enter (declare) the number of students and girls in the first semester \n",
        "\n",
        "`c`and `g` as variables in `var()`\n",
        "\n",
        "\\\n",
        "Based on g = c * 3/5 - 8, set c * 3/5 - 8 - g = 0 \n",
        "\n",
        "and assign the left side to `E1`.\n",
        "\n",
        "\\\n",
        "As for the second semester, based on g + 2 = (c + 4) * 3/7,\n",
        "\n",
        " (c + 4) * 3/7 - g - 2 = 0 and assign the left side to `E2`.\n",
        "\n",
        "\\\n",
        "Find `c` and `g` in the solve program for `E1` and `E2`.\n",
        "\n"
      ],
      "metadata": {
        "id": "G1AXHmwquYkb"
      }
    },
    {
      "cell_type": "code",
      "source": [
        ""
      ],
      "metadata": {
        "id": "Whadt7mKF7La"
      },
      "execution_count": null,
      "outputs": []
    },
    {
      "cell_type": "code",
      "source": [
        "#sample\n",
        "\n",
        "from sympy import var, solve\n",
        "\n",
        "var(\"c,g\")\n",
        "\n",
        "E1 = c * 3/5 - 8 - g\n",
        "E2 = (c + 4) * 3/7 - g - 2\n",
        "\n",
        "answer = solve([E1, E2],[c, g])\n",
        "\n",
        "print(answer)\n",
        "\n",
        "c = answer[c]\n",
        "print (c + 4, 'people') \n"
      ],
      "metadata": {
        "id": "eKmEPF732HwR"
      },
      "execution_count": null,
      "outputs": []
    },
    {
      "cell_type": "markdown",
      "source": [
        "###Level1 sympy exercises Ratio and proportion"
      ],
      "metadata": {
        "id": "iDdHuqRR2Qs7"
      }
    },
    {
      "cell_type": "markdown",
      "source": [
        "---\n",
        "\n",
        "Q?\n",
        "\n",
        "\n",
        "\n",
        "The juice was divided by three people, A, B and C in order. \n",
        "\n",
        "A got $\\dfrac {1} {3} $ of the whole amount.\n",
        "\n",
        "\n",
        "B got $ \\dfrac {3} {8} $ of the remaining and $ 50mL $. \n",
        "\n",
        "C got $ \\dfrac {7} {9} $ of the remaing after B got.\n",
        "\n",
        "After C got, $100mL $ remained.\n",
        "\n",
        "\\\n",
        "\n",
        "Find the whole amount of juice?\n"
      ],
      "metadata": {
        "id": "D8eva9qm2Tva"
      }
    },
    {
      "cell_type": "markdown",
      "source": [
        "\n",
        "――――――――――――――――――――――――――――――――――――――――――――――\n",
        "\n",
        "\n",
        "\n",
        "[ Arithmetic solution ]\n",
        "\n",
        "\n",
        "\\\n",
        "As $100mL $ is $ 1- \\dfrac {7} {9} = \\dfrac {2} {9} $ of the remaining \n",
        "\n",
        "after C got,\n",
        "\n",
        "the amount before C got is $100 $ ÷ $\\dfrac {2} {9}$ = 450mL. \n",
        "\n",
        "\n",
        "\\\n",
        "As 450mL + 50mL = 500mL is $ 1- \\dfrac {3} {8} = \\dfrac {5} {8} $ \n",
        "\n",
        "of the amount of juice before B got,\n",
        "\n",
        "the amount before B got is $500 ÷ \\dfrac {5} {8}$ = 800mL.\n",
        "\n",
        "\n",
        "\\\n",
        "Since 800mL is the rest after A got, the first amount is $ 800 ÷ \\dfrac {2} {3} $= 1200mL ... (answer)\n",
        "\n",
        "\n",
        "\n",
        "\n",
        "\n",
        "\\\n",
        "\n",
        "[ Python ]\n",
        "\n",
        "\n",
        "\n",
        "You can get the correct answer with a code of sample in the for statement, \n",
        "\n",
        "but it takes a lot of time.\n",
        "\n",
        "\n",
        "\\\n",
        "Do not use time-consuming code as it is inefficient.\n",
        "\n",
        "\n",
        "\\\n",
        "sympy code saves time\n"
      ],
      "metadata": {
        "id": "UuJ3qUnR2XwK"
      }
    },
    {
      "cell_type": "code",
      "source": [
        ""
      ],
      "metadata": {
        "id": "WSUPiDJ0bfN5"
      },
      "execution_count": null,
      "outputs": []
    },
    {
      "cell_type": "code",
      "source": [
        "#sample\n",
        "'''\n",
        "Whole amount＝z mL, A＝a mL，B=b mL，C=c mL\n",
        "a is 1/3 of the whole, so z = a * 3\n",
        "Calculated assuming that a, b, and c are up to about 1000 mL each\n",
        "It takes a lot of time\n",
        "'''\n",
        "\n",
        "for a in range(1, 1000) :\n",
        "  for b in range(1, 1000) :\n",
        "    for c in range(1, 1000) :\n",
        "      z = a * 3\n",
        "      if z == a + b + c + 100 and b == (z - a) * 3/8 + 50 and c == (z - a - b) * 7/9 :\n",
        "        print(z, 'ｍL')\n",
        "\n",
        "    "
      ],
      "metadata": {
        "id": "rHJcwbse2die"
      },
      "execution_count": null,
      "outputs": []
    },
    {
      "cell_type": "code",
      "source": [
        ""
      ],
      "metadata": {
        "id": "ENzJGu_o7wTW"
      },
      "execution_count": null,
      "outputs": []
    },
    {
      "cell_type": "code",
      "source": [
        "#Code sample using sympy\n",
        "'''\n",
        "Put(declare)  z, a, b, c as variables with var ()\n",
        "Whole = z mL, A = a mL, B = b mL, C = c mL\n",
        "Based on  z = a + b + c + 100, transform to z - a - b - c - 100 = 0 and assign the left side to E1.\n",
        "Based on a = z * 1/3, transform to z * 1/3 - a = 0 and assign the left side to E2.\n",
        "Based on  b = (z - a) * 3/8 + 50, transform to (z - a) * 3/8 + 50 - b = 0 and assign the left side to E3.\n",
        "Based on c = (z - a - b) * 7/9, transform to (z - a - b) * 7/9 - c = 0 and assign the left side to E4.\n",
        "Find z, a, b, c with the solve function in sympy for E1, E2, E3, E4.\n",
        "Since answer is a dictionary type, specify z of the key of the total amount to be calculated and output the value.\n",
        "'''\n",
        "\n",
        "from sympy import var, solve\n",
        "\n",
        "var(\"z,a,b,c\")\n",
        "\n",
        "E1 = z - a - b - c - 100\n",
        "E2 = z * 1/3 - a\n",
        "E3 = (z - a) * 3/8 + 50 - b\n",
        "E4 = (z - a - b) * 7/9 - c\n",
        "\n",
        "answer = solve([E1,E2,E3,E4],[z,a,b,c])\n",
        "\n",
        "print(answer)\n",
        "\n",
        "print(answer[z], 'mL')\n"
      ],
      "metadata": {
        "id": "f5iZ6mLErXoY"
      },
      "execution_count": null,
      "outputs": []
    },
    {
      "cell_type": "markdown",
      "source": [
        "\n",
        "---\n",
        "\n",
        "Q?\n",
        "\n",
        "\n",
        "\n",
        "The marbles were divided by four people, A, B, C, and D.\n",
        "\n",
        "\n",
        "\n",
        "A took $ \\dfrac {1} {3} $ of the whole amount and 15 pieces.\n",
        "\n",
        "\n",
        "\n",
        "B took $ \\dfrac {2} {7} $ of the remaining and 5 pieces\n",
        "\n",
        "\n",
        "\n",
        "C took $ \\dfrac {1} {2} $ of the remaining after B took and 5 pieces.\n",
        "\n",
        "\n",
        "\n",
        "35 pieces remained as a share of D.\n",
        "\n",
        "\n",
        "\n",
        "How many piece did A, B and C take?\n"
      ],
      "metadata": {
        "id": "t9S25Tbz2ufE"
      }
    },
    {
      "cell_type": "markdown",
      "source": [
        "\n",
        "――――――――――――――――――――――――――――――――――――――――――――――\n",
        "\n",
        "\n",
        "\n",
        "[ Arithmetic solution ]\n",
        "\n",
        "\n",
        "\n",
        "As 35 + 5 = 40 is $ \\dfrac {1} {2} $ of the remaining after C took,\n",
        "\n",
        "\n",
        "\n",
        "The share of C is based on 40 $\\div$ (1 - $\\dfrac {1} {2}$) = 80, 80 - 35 = 45 pieces ... (answer)\n",
        "\n",
        "\n",
        "\n",
        "In the same method of calculation, the shares of B and A, \n",
        "\n",
        "B = 39, A = 82 ... (answer)\n",
        "\n",
        "\n",
        "\\\n",
        "\n",
        "[ Python ]\n",
        "\n",
        "\n",
        "Total amount = z, A = a, B = b, C = c, d = 35 pieces\n",
        "\n",
        "\n",
        "\\\n",
        "Accordning to the problem statement, it is found that `z = (a -15) * 3`.\n",
        "\n",
        "\n",
        "\\\n",
        "The other method is the same as [ Arithmetic solution ] \n",
        "\n",
        "and the problem statement is expressed by an equation \n",
        "\n",
        "and `if statement` as below sample.\n"
      ],
      "metadata": {
        "id": "oU5_9VQq2yE8"
      }
    },
    {
      "cell_type": "code",
      "source": [
        ""
      ],
      "metadata": {
        "id": "SIdWSrHVbd64"
      },
      "execution_count": null,
      "outputs": []
    },
    {
      "cell_type": "code",
      "source": [
        "#sample\n",
        "\n",
        "d = 35\n",
        "\n",
        "for a in range(1, 100) :\n",
        "  for b in range(1, 100) :\n",
        "    for c in range(1, 100) :\n",
        "      z = (a - 15) * 3\n",
        "      if z == a + b + c + d and b == (z - a) * 2/7 + 5 and c == (z - a - b) * 1/2 + 5 :\n",
        "        print('A:', a, 'pieces', 'B:', b, 'pieces', 'C:', c, 'pieces')\n"
      ],
      "metadata": {
        "id": "mvMchgK8215U"
      },
      "execution_count": null,
      "outputs": []
    },
    {
      "cell_type": "markdown",
      "source": [
        "＜Python/sympy＞\n",
        "\n"
      ],
      "metadata": {
        "id": "LV3moW7-mSgE"
      }
    },
    {
      "cell_type": "code",
      "source": [
        ""
      ],
      "metadata": {
        "id": "UBNr0sJxbdPp"
      },
      "execution_count": null,
      "outputs": []
    },
    {
      "cell_type": "code",
      "source": [
        "#sample\n",
        "'''\n",
        "Put (declare) that # a, b, c are variables with var ()\n",
        "Whole = z, A = a, B = b, C = c, d = 35, and the problem statement is expressed by an equation.\n",
        "Based on z = a + b + c + 35, transform to  z - a - b - c - 35 = 0 and assign the left side to E1.\n",
        "Based on a = z * 1/3 + 15, transform to z * 1/3 + 15 - a = 0 and assign the left side to E2.\n",
        "Based on b = (z - a) * 2/7 + 5, transform to  (z - a) * 2/7 + 5 - b = 0 and assign the left side to E3.\n",
        "Based on c = (z - a - b) * 1/2 + 5, transform to (z - a - b) * 1/2 + 5 - c = 0 and assign the left side to E4.\n",
        "Find z, a, b, c with the solve program in sympy for # E1, E2, E3, E4\n",
        "'''\n",
        "\n",
        "from sympy import var, solve\n",
        "\n",
        "var(\"z,a,b,c\")\n",
        "\n",
        "E1 = z - a - b - c - 35\n",
        "E2 = z * 1/3 + 15 - a\n",
        "E3 = (z - a) * 2/7 + 5 - b\n",
        "E4 = (z - a - b) * 1/2 + 5 - c\n",
        "\n",
        "answer = solve([E1,E2,E3,E4],[z,a,b,c])\n",
        "\n",
        "print(answer)\n",
        "\n",
        "print ('A :', answer[a], 'pieces,', 'B :', answer[b], 'pieces,' ,'C :', answer[c], 'pieces')\n",
        "\n"
      ],
      "metadata": {
        "id": "GToqZYFH28qC"
      },
      "execution_count": null,
      "outputs": []
    },
    {
      "cell_type": "markdown",
      "source": [
        "---\n",
        "\n",
        "Q?\n",
        "\n",
        "\n",
        "In a company the number of male employees is than 42 people more than \n",
        "\n",
        "$ \\dfrac {2} {5} $ of the total employees \n",
        "\n",
        "and the number of female employees is 82 poeple less than \n",
        "\n",
        "$ \\dfrac {2} {3} $ of the total.\n",
        "\n",
        "\\\n",
        "\n",
        "How many female employees are there in this company?\n"
      ],
      "metadata": {
        "id": "_3hVAhwO2-ai"
      }
    },
    {
      "cell_type": "markdown",
      "source": [
        "\n",
        "――――――――――――――――――――――――――――――――――――――――――――――\n",
        "\n",
        "\n",
        "\n",
        "[ Arithmetic solution ]\n",
        "\n",
        "\n",
        "Assuming the total number of employees is to be 1.\n",
        "\n",
        "Total 1 = (number of males) + ( number of females) \n",
        "\n",
        "= $ \\dfrac {2} {5}$ + 42 + $\\dfrac {2} {3}$ －82 \n",
        "\n",
        "= $ \\dfrac {16} {15} - 40 $\n",
        "\n",
        "\n",
        "\\\n",
        "$ \\dfrac {1} {15}$ = 40  \n",
        "\n",
        "Therefore, 1 = 600 people\n",
        "\n",
        "\\\n",
        "\n",
        "Number of femal = 600 $\\times$ $\\dfrac{2}{3}$ － 82 = 318 people・・・(answer)\n",
        "\n",
        "\n",
        "\n",
        "\\\n",
        "\n",
        "[ Python ]\n",
        "\n",
        "\n",
        "\n",
        "Total = z, number of man = m, number of lady = l\n",
        "\n",
        "\\\n",
        "If z is estimeted uo to 1000 people and m and l are up to 500 people, \n",
        "\n",
        "it takes a lot of time in the for loop.\n",
        "\n",
        "\n",
        "\\\n",
        "It turns out that if the number of loops increases in the for statement \n",
        "\n",
        "and the range of the number to be investigated increases, \n",
        "\n",
        "it will take a considerable amount of time.\n"
      ],
      "metadata": {
        "id": "uDQM6oJG3CAy"
      }
    },
    {
      "cell_type": "code",
      "source": [
        ""
      ],
      "metadata": {
        "id": "slfrSkXrbb-e"
      },
      "execution_count": null,
      "outputs": []
    },
    {
      "cell_type": "code",
      "source": [
        "#sample\n",
        "\n",
        "for z in range(1, 1000) :\n",
        "  for m in range(1, 500) :\n",
        "    for l in range(1, 500) :\n",
        "      if z == m + l and m == z * 2/5 + 42 \\\n",
        "        and l == z * 2/3 - 82 :\n",
        "          print(l, 'persons')\n",
        "\n",
        "    "
      ],
      "metadata": {
        "id": "bX2Eoehere4M"
      },
      "execution_count": null,
      "outputs": []
    },
    {
      "cell_type": "markdown",
      "source": [
        "\n",
        "From the problem statement, use the fact that z = (m - 42) $\\times$ 5/2 \n",
        "\n",
        "based on m = z $\\times$ 2/5 + 42.\n",
        "\n",
        "This could reduce number of for loops and processing time.\n"
      ],
      "metadata": {
        "id": "0WUJI1Jh3KDI"
      }
    },
    {
      "cell_type": "code",
      "source": [
        ""
      ],
      "metadata": {
        "id": "_xk5Z129bbSi"
      },
      "execution_count": null,
      "outputs": []
    },
    {
      "cell_type": "code",
      "source": [
        "#sample\n",
        "\n",
        "for m in range(1, 500) :\n",
        "  for l in range(1, 500) :\n",
        "    z = (m - 42) * 5/2\n",
        "    if z == m + l and m == z * 2/5 + 42 \\\n",
        "      and l == z * 2/3 - 82 :\n",
        "        print(l, 'persons')\n",
        "\n",
        "    "
      ],
      "metadata": {
        "id": "YpMdNvCM3MtP"
      },
      "execution_count": null,
      "outputs": []
    },
    {
      "cell_type": "markdown",
      "source": [
        "\n",
        "＜Python/sympy＞\n",
        "\n",
        "\n",
        "\n",
        "There is no for loop and no need for backward calculation.\n",
        "\n",
        "\\\n",
        "In addition the condition of the problem statement is simply expressed \n",
        "\n",
        "as an equation.\n",
        "\n",
        "\\\n",
        "\n",
        "Once you get used to it, it's easier and less time consuming.\n"
      ],
      "metadata": {
        "id": "MTJxw99g3QG5"
      }
    },
    {
      "cell_type": "code",
      "source": [
        ""
      ],
      "metadata": {
        "id": "dVx9xTizbaot"
      },
      "execution_count": null,
      "outputs": []
    },
    {
      "cell_type": "code",
      "source": [
        "#sample using sympy\n",
        "'''\n",
        "Put (declare) that z, m, l are variables with var()\n",
        "Number of total = z, men = m, lady = l \n",
        "Based on z = m + l, transform to z - m - l = 0 and assign the left side to E1.\n",
        "Based on m = z * 2/5 + 42, transform to z * 2/5 + 42 - m = 0 and assign the left side to E2.\n",
        "Based on  l = z * 2/3 - 82, transform to z * 2/3 - 82 - l = 0 and assign the left side to E3.\n",
        "Find z, m, l for E1, E2, E3 with the solve program in sympy\n",
        "'''\n",
        "\n",
        "\n",
        "from sympy import var, solve\n",
        "\n",
        "var(\"z m l\")\n",
        "\n",
        "E1 = z - m - l\n",
        "E2 = z * 2/5 + 42 - m\n",
        "E3 = z * 2/3 - 82 - l\n",
        "\n",
        "answer = solve([E1,E2,E3],[z,m,l])\n",
        "\n",
        "print(answer)\n",
        "\n",
        "print ('Men :', answer[m], 'people,', 'Laies : ', answer[l], 'people ... (answer)', 'Total', answer[z], 'people' )\n",
        "\n"
      ],
      "metadata": {
        "id": "175KkXEW3TUr"
      },
      "execution_count": null,
      "outputs": []
    },
    {
      "cell_type": "markdown",
      "source": [
        "####If you want to know `sympy`with Colab--->[Sympy](https://colab.research.google.com/github/pnavaro/python-notebooks/blob/master/notebooks/15-Sympy.ipynb)"
      ],
      "metadata": {
        "id": "V1v7tPcac2Ks"
      }
    },
    {
      "cell_type": "markdown",
      "source": [
        "#Supplement"
      ],
      "metadata": {
        "id": "ExtAhDEO4bSf"
      }
    },
    {
      "cell_type": "markdown",
      "metadata": {
        "id": "_h1-p-lYPVTv"
      },
      "source": [
        "##Japanese Math for Kids\n",
        "\n",
        "* As a site with arithmetic problems in English, it is just for reference for those who are interested in.\n",
        "\n",
        "*   [Japanese Math for Kids](https://sites.google.com/site/japanesemathforkids2016/home)\n",
        "\n",
        "*   [Japanese Math for Kids2](https://sites.google.com/view/japanesemathforkidsv2/home)  \n",
        "\n",
        "\n"
      ]
    },
    {
      "cell_type": "markdown",
      "source": [
        "##Greek list \n",
        "lowercase\n",
        "\n",
        "|  |  |||||||\n",
        "|:------:|:------:|:------:|:------:|:------:|:------:|:------:|:------:|\n",
        "|alpha |$\\alpha$  ||iota|$\\iota$||rho|$\\rho$|\n",
        "| beta |$\\beta$  ||kappa|$\\kappa$||sigma|$\\sigma$|\n",
        "| gamma |$\\gamma$  ||lambda|$\\lambda$||tau|$\\tau$|\n",
        "| delta |$\\delta$  ||mu|$\\mu$||upsilon|$\\upsilon$|\n",
        "| epsilon |$\\epsilon$  ||nu|$\\nu$||phi|$\\phi$|\n",
        "| zeta |$\\zeta$  ||xi|$\\xi$||chi|$\\chi$|\n",
        "| eta |$\\eta$  ||omicron|o||psi|$\\psi$|\n",
        "| theta |$\\theta$  ||pi|$\\pi$||omega|$\\omega$|\n",
        "\n",
        "\\\n",
        "Uppercase\n",
        "\n",
        "|  |  |||||||\n",
        "|:------:|:------:|:------:|:------:|:------:|:------:|:------:|:------:|\n",
        "|alpha |A  ||iota|I||rho|P|\n",
        "| beta |B  ||kappa|K||sigma|$\\Sigma$|\n",
        "| gamma |$\\Gamma$  ||lambda|$\\Lambda$||tau|T|\n",
        "| delta |$\\Delta$  ||mu|M||upsilon|$\\Upsilon$|\n",
        "| epsilon |E  ||nu|N||phi|$\\Phi$|\n",
        "| zeta |Z  ||xi|$\\Xi$||chi|X|\n",
        "| eta |H  ||omicron|O||psi|$\\Psi$|\n",
        "| theta |$\\Theta$  ||pi|$\\Pi$||omega|$\\Omega$|"
      ],
      "metadata": {
        "id": "08w3gstBopKO"
      }
    },
    {
      "cell_type": "markdown",
      "source": [
        "##Blender(3D CG) with Python"
      ],
      "metadata": {
        "id": "vyYMuyoR-3xM"
      }
    },
    {
      "cell_type": "markdown",
      "source": [
        "What is `Blender`--> [Wikipedia](https://en.wikipedia.org/wiki/Blender_(software))\n",
        "\n",
        "Blender is a free and open-source 3D computer graphics software toolset \n",
        "\n",
        "used for creating animated films, visual effects, art, 3D-printed models, \n",
        "\n",
        "motion graphics, interactive 3D applications, virtual reality, and, formerly, \n",
        "\n",
        "video games.\n",
        "\n",
        "[Blender Home](https://www.blender.org/)\n",
        "\n"
      ],
      "metadata": {
        "id": "7igZdkFev_8s"
      }
    },
    {
      "cell_type": "markdown",
      "source": [
        "---\n",
        "As I just started playing with `Blender`,\n",
        "\n",
        "hopefully have a chance to show you `Blender with Python` \n",
        "\n",
        "hopefully in Vol.3 (or later Volume).\n",
        "\n",
        "As for Blender-rendering, Colab [blender-render](https://colab.research.google.com/github/ynshung/blender-colab/blob/master/blender_render.ipynb)"
      ],
      "metadata": {
        "id": "-uDf8djvx8Tm"
      }
    }
  ]
}